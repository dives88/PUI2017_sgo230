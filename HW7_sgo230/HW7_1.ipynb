{
 "cells": [
  {
   "cell_type": "markdown",
   "metadata": {},
   "source": [
    "<b>Full paper is on Authorea</b>"
   ]
  },
  {
   "cell_type": "code",
   "execution_count": 21,
   "metadata": {
    "collapsed": false
   },
   "outputs": [],
   "source": [
    "from __future__  import print_function, division\n",
    "\n",
    "import os\n",
    "import pandas as pd\n",
    "import matplotlib.pylab as plt\n",
    "import scipy.stats as scipy\n",
    "import io\n",
    "import urllib2 as urllib\n",
    "import numpy as np\n",
    "\n",
    "%matplotlib inline"
   ]
  },
  {
   "cell_type": "markdown",
   "metadata": {
    "collapsed": true
   },
   "source": [
    "<b>General concept to test: </b>\n",
    "<br>Younger people are more likely to ride Citi Bikes late at night"
   ]
  },
  {
   "cell_type": "markdown",
   "metadata": {
    "collapsed": true
   },
   "source": [
    "<b>Null hypothesis:</b><br>\n",
    "The proportion of riders 35+ to total riders for trips starting at midnight-5 am is higher or equal\n",
    "to the proportion of riders 35+ to total riders for trips starting at 5 am - midnight\n",
    "\n",
    "<b>H0:<b>\n",
    "$\\frac{old riders {\\mathrm{night}}}{all riders {\\mathrm{night}}} >= \\frac{old riders{\\mathrm{day}}}{all riders{\\mathrm{day}}}$\n",
    "\n",
    "<br>Ha:\n",
    "$\\frac{old riders{\\mathrm{night}}}{all riders{\\mathrm{night}}} < \\frac{old riders{\\mathrm{day}}}{all riders{\\mathrm{day}}}$\n",
    "\n",
    "<br>\n",
    "Alpha: 5% <br>\n",
    "Confidence level: 95%"
   ]
  },
  {
   "cell_type": "code",
   "execution_count": 22,
   "metadata": {
    "collapsed": false
   },
   "outputs": [],
   "source": [
    "# Import July 2017 data\n",
    "r = urllib.urlopen('https://s3.amazonaws.com/tripdata/201707-citibike-tripdata.csv.zip')\n",
    "df = pd.read_csv(io.BytesIO(r.read()), compression='zip')"
   ]
  },
  {
   "cell_type": "code",
   "execution_count": 23,
   "metadata": {
    "collapsed": true
   },
   "outputs": [],
   "source": [
    "# Clean and add fields to dataframe\n",
    "df['date'] = pd.to_datetime(df['starttime'])\n",
    "df['age'] = 2017 - df['birth year']\n",
    "df['hour'] = df['date'].dt.hour"
   ]
  },
  {
   "cell_type": "code",
   "execution_count": 24,
   "metadata": {
    "collapsed": false
   },
   "outputs": [
    {
     "data": {
      "text/html": [
       "<div>\n",
       "<style>\n",
       "    .dataframe thead tr:only-child th {\n",
       "        text-align: right;\n",
       "    }\n",
       "\n",
       "    .dataframe thead th {\n",
       "        text-align: left;\n",
       "    }\n",
       "\n",
       "    .dataframe tbody tr th {\n",
       "        vertical-align: top;\n",
       "    }\n",
       "</style>\n",
       "<table border=\"1\" class=\"dataframe\">\n",
       "  <thead>\n",
       "    <tr style=\"text-align: right;\">\n",
       "      <th></th>\n",
       "      <th>tripduration</th>\n",
       "      <th>starttime</th>\n",
       "      <th>stoptime</th>\n",
       "      <th>start station id</th>\n",
       "      <th>start station name</th>\n",
       "      <th>start station latitude</th>\n",
       "      <th>start station longitude</th>\n",
       "      <th>end station id</th>\n",
       "      <th>end station name</th>\n",
       "      <th>end station latitude</th>\n",
       "      <th>end station longitude</th>\n",
       "      <th>bikeid</th>\n",
       "      <th>usertype</th>\n",
       "      <th>birth year</th>\n",
       "      <th>gender</th>\n",
       "      <th>date</th>\n",
       "      <th>age</th>\n",
       "      <th>hour</th>\n",
       "    </tr>\n",
       "  </thead>\n",
       "  <tbody>\n",
       "    <tr>\n",
       "      <th>0</th>\n",
       "      <td>364</td>\n",
       "      <td>2017-07-01 00:00:00</td>\n",
       "      <td>2017-07-01 00:06:05</td>\n",
       "      <td>539</td>\n",
       "      <td>Metropolitan Ave &amp; Bedford Ave</td>\n",
       "      <td>40.715348</td>\n",
       "      <td>-73.960241</td>\n",
       "      <td>3107</td>\n",
       "      <td>Bedford Ave &amp; Nassau Ave</td>\n",
       "      <td>40.723117</td>\n",
       "      <td>-73.952123</td>\n",
       "      <td>14744</td>\n",
       "      <td>Subscriber</td>\n",
       "      <td>1986.0</td>\n",
       "      <td>1</td>\n",
       "      <td>2017-07-01 00:00:00</td>\n",
       "      <td>31.0</td>\n",
       "      <td>0</td>\n",
       "    </tr>\n",
       "    <tr>\n",
       "      <th>1</th>\n",
       "      <td>2142</td>\n",
       "      <td>2017-07-01 00:00:03</td>\n",
       "      <td>2017-07-01 00:35:46</td>\n",
       "      <td>293</td>\n",
       "      <td>Lafayette St &amp; E 8 St</td>\n",
       "      <td>40.730207</td>\n",
       "      <td>-73.991026</td>\n",
       "      <td>3425</td>\n",
       "      <td>2 Ave  &amp; E 104 St</td>\n",
       "      <td>40.789210</td>\n",
       "      <td>-73.943708</td>\n",
       "      <td>19587</td>\n",
       "      <td>Subscriber</td>\n",
       "      <td>1981.0</td>\n",
       "      <td>1</td>\n",
       "      <td>2017-07-01 00:00:03</td>\n",
       "      <td>36.0</td>\n",
       "      <td>0</td>\n",
       "    </tr>\n",
       "    <tr>\n",
       "      <th>2</th>\n",
       "      <td>328</td>\n",
       "      <td>2017-07-01 00:00:08</td>\n",
       "      <td>2017-07-01 00:05:37</td>\n",
       "      <td>3242</td>\n",
       "      <td>Schermerhorn St &amp; Court St</td>\n",
       "      <td>40.691029</td>\n",
       "      <td>-73.991834</td>\n",
       "      <td>3397</td>\n",
       "      <td>Court St &amp; Nelson St</td>\n",
       "      <td>40.676395</td>\n",
       "      <td>-73.998699</td>\n",
       "      <td>27937</td>\n",
       "      <td>Subscriber</td>\n",
       "      <td>1984.0</td>\n",
       "      <td>2</td>\n",
       "      <td>2017-07-01 00:00:08</td>\n",
       "      <td>33.0</td>\n",
       "      <td>0</td>\n",
       "    </tr>\n",
       "    <tr>\n",
       "      <th>3</th>\n",
       "      <td>2530</td>\n",
       "      <td>2017-07-01 00:00:11</td>\n",
       "      <td>2017-07-01 00:42:22</td>\n",
       "      <td>2002</td>\n",
       "      <td>Wythe Ave &amp; Metropolitan Ave</td>\n",
       "      <td>40.716887</td>\n",
       "      <td>-73.963198</td>\n",
       "      <td>398</td>\n",
       "      <td>Atlantic Ave &amp; Furman St</td>\n",
       "      <td>40.691652</td>\n",
       "      <td>-73.999979</td>\n",
       "      <td>26066</td>\n",
       "      <td>Subscriber</td>\n",
       "      <td>1985.0</td>\n",
       "      <td>1</td>\n",
       "      <td>2017-07-01 00:00:11</td>\n",
       "      <td>32.0</td>\n",
       "      <td>0</td>\n",
       "    </tr>\n",
       "    <tr>\n",
       "      <th>4</th>\n",
       "      <td>2534</td>\n",
       "      <td>2017-07-01 00:00:15</td>\n",
       "      <td>2017-07-01 00:42:29</td>\n",
       "      <td>2002</td>\n",
       "      <td>Wythe Ave &amp; Metropolitan Ave</td>\n",
       "      <td>40.716887</td>\n",
       "      <td>-73.963198</td>\n",
       "      <td>398</td>\n",
       "      <td>Atlantic Ave &amp; Furman St</td>\n",
       "      <td>40.691652</td>\n",
       "      <td>-73.999979</td>\n",
       "      <td>29408</td>\n",
       "      <td>Subscriber</td>\n",
       "      <td>1982.0</td>\n",
       "      <td>2</td>\n",
       "      <td>2017-07-01 00:00:15</td>\n",
       "      <td>35.0</td>\n",
       "      <td>0</td>\n",
       "    </tr>\n",
       "  </tbody>\n",
       "</table>\n",
       "</div>"
      ],
      "text/plain": [
       "   tripduration            starttime             stoptime  start station id  \\\n",
       "0           364  2017-07-01 00:00:00  2017-07-01 00:06:05               539   \n",
       "1          2142  2017-07-01 00:00:03  2017-07-01 00:35:46               293   \n",
       "2           328  2017-07-01 00:00:08  2017-07-01 00:05:37              3242   \n",
       "3          2530  2017-07-01 00:00:11  2017-07-01 00:42:22              2002   \n",
       "4          2534  2017-07-01 00:00:15  2017-07-01 00:42:29              2002   \n",
       "\n",
       "               start station name  start station latitude  \\\n",
       "0  Metropolitan Ave & Bedford Ave               40.715348   \n",
       "1           Lafayette St & E 8 St               40.730207   \n",
       "2      Schermerhorn St & Court St               40.691029   \n",
       "3    Wythe Ave & Metropolitan Ave               40.716887   \n",
       "4    Wythe Ave & Metropolitan Ave               40.716887   \n",
       "\n",
       "   start station longitude  end station id          end station name  \\\n",
       "0               -73.960241            3107  Bedford Ave & Nassau Ave   \n",
       "1               -73.991026            3425         2 Ave  & E 104 St   \n",
       "2               -73.991834            3397      Court St & Nelson St   \n",
       "3               -73.963198             398  Atlantic Ave & Furman St   \n",
       "4               -73.963198             398  Atlantic Ave & Furman St   \n",
       "\n",
       "   end station latitude  end station longitude  bikeid    usertype  \\\n",
       "0             40.723117             -73.952123   14744  Subscriber   \n",
       "1             40.789210             -73.943708   19587  Subscriber   \n",
       "2             40.676395             -73.998699   27937  Subscriber   \n",
       "3             40.691652             -73.999979   26066  Subscriber   \n",
       "4             40.691652             -73.999979   29408  Subscriber   \n",
       "\n",
       "   birth year  gender                date   age  hour  \n",
       "0      1986.0       1 2017-07-01 00:00:00  31.0     0  \n",
       "1      1981.0       1 2017-07-01 00:00:03  36.0     0  \n",
       "2      1984.0       2 2017-07-01 00:00:08  33.0     0  \n",
       "3      1985.0       1 2017-07-01 00:00:11  32.0     0  \n",
       "4      1982.0       2 2017-07-01 00:00:15  35.0     0  "
      ]
     },
     "execution_count": 24,
     "metadata": {},
     "output_type": "execute_result"
    }
   ],
   "source": [
    "# Present sample of data frame\n",
    "df.head()"
   ]
  },
  {
   "cell_type": "code",
   "execution_count": 25,
   "metadata": {
    "collapsed": true
   },
   "outputs": [],
   "source": [
    "# Reduce df (simpler method than dropping long list of columns)\n",
    "df = df[['hour', 'age']]"
   ]
  },
  {
   "cell_type": "code",
   "execution_count": 26,
   "metadata": {
    "collapsed": true
   },
   "outputs": [],
   "source": [
    "# Clean up and create flag/dummy fields for binary data\n",
    "df['age_group'] = df['age'] >= 35\n",
    "age_dict = {True: '35+', False: '<35'}\n",
    "df['age_group'] = df['age_group'].map(age_dict)\n",
    "\n",
    "df['time'] = df['hour'] < 5\n",
    "time_dict = {True: 'Late Night', False: 'Daytime'}\n",
    "df['time'] = df['time'].map(time_dict)"
   ]
  },
  {
   "cell_type": "code",
   "execution_count": 27,
   "metadata": {
    "collapsed": false
   },
   "outputs": [
    {
     "data": {
      "text/html": [
       "<div>\n",
       "<style>\n",
       "    .dataframe thead tr:only-child th {\n",
       "        text-align: right;\n",
       "    }\n",
       "\n",
       "    .dataframe thead th {\n",
       "        text-align: left;\n",
       "    }\n",
       "\n",
       "    .dataframe tbody tr th {\n",
       "        vertical-align: top;\n",
       "    }\n",
       "</style>\n",
       "<table border=\"1\" class=\"dataframe\">\n",
       "  <thead>\n",
       "    <tr style=\"text-align: right;\">\n",
       "      <th></th>\n",
       "      <th>hour</th>\n",
       "      <th>age</th>\n",
       "      <th>age_group</th>\n",
       "      <th>time</th>\n",
       "    </tr>\n",
       "  </thead>\n",
       "  <tbody>\n",
       "    <tr>\n",
       "      <th>0</th>\n",
       "      <td>0</td>\n",
       "      <td>31.0</td>\n",
       "      <td>&lt;35</td>\n",
       "      <td>Late Night</td>\n",
       "    </tr>\n",
       "    <tr>\n",
       "      <th>1</th>\n",
       "      <td>0</td>\n",
       "      <td>36.0</td>\n",
       "      <td>35+</td>\n",
       "      <td>Late Night</td>\n",
       "    </tr>\n",
       "    <tr>\n",
       "      <th>2</th>\n",
       "      <td>0</td>\n",
       "      <td>33.0</td>\n",
       "      <td>&lt;35</td>\n",
       "      <td>Late Night</td>\n",
       "    </tr>\n",
       "    <tr>\n",
       "      <th>3</th>\n",
       "      <td>0</td>\n",
       "      <td>32.0</td>\n",
       "      <td>&lt;35</td>\n",
       "      <td>Late Night</td>\n",
       "    </tr>\n",
       "    <tr>\n",
       "      <th>4</th>\n",
       "      <td>0</td>\n",
       "      <td>35.0</td>\n",
       "      <td>35+</td>\n",
       "      <td>Late Night</td>\n",
       "    </tr>\n",
       "  </tbody>\n",
       "</table>\n",
       "</div>"
      ],
      "text/plain": [
       "   hour   age age_group        time\n",
       "0     0  31.0       <35  Late Night\n",
       "1     0  36.0       35+  Late Night\n",
       "2     0  33.0       <35  Late Night\n",
       "3     0  32.0       <35  Late Night\n",
       "4     0  35.0       35+  Late Night"
      ]
     },
     "execution_count": 27,
     "metadata": {},
     "output_type": "execute_result"
    }
   ],
   "source": [
    "# Present sample of redacted dataframe\n",
    "df.head()"
   ]
  },
  {
   "cell_type": "code",
   "execution_count": 28,
   "metadata": {
    "collapsed": false,
    "scrolled": true
   },
   "outputs": [
    {
     "data": {
      "text/plain": [
       "<matplotlib.text.Text at 0x7f385308a090>"
      ]
     },
     "execution_count": 28,
     "metadata": {},
     "output_type": "execute_result"
    },
    {
     "data": {
      "image/png": "[encoded data removed]",
      "text/plain": [
       "<matplotlib.figure.Figure at 0x7f38735f7e50>"
      ]
     },
     "metadata": {},
     "output_type": "display_data"
    }
   ],
   "source": [
    "# Plot distribution of age groups by hour\n",
    "fig = plt.figure(figsize=(12,8))\n",
    "\n",
    "df2 = df[df['age_group'] == \"35+\"]\n",
    "df2.groupby('hour').size().plot(kind='bar', color='blue', alpha=0.5)\n",
    "\n",
    "df1 = df[df['age_group'] == \"<35\"]\n",
    "df1.groupby('hour').size().plot(kind='bar', color='red', alpha=0.5, label='nine')\n",
    "plt.xlabel('Hour of Day')\n",
    "plt.ylabel('Count of Rides')\n",
    "plt.title('Rides by Age Group by Hour\\n' +\n",
    "          'Red bars for <35 group; blue bars for 35+ group\\n' + \n",
    "          '(pure blue for times with more 35 riders+; pure red for more <35 riders)', fontsize = 14)"
   ]
  },
  {
   "cell_type": "markdown",
   "metadata": {},
   "source": [
    "<b>Figure 1: </b> Young vs. old riders by time of day. Young riders are represented in red; old riders are represented in blue."
   ]
  },
  {
   "cell_type": "code",
   "execution_count": 18,
   "metadata": {
    "collapsed": false
   },
   "outputs": [
    {
     "data": {
      "text/plain": [
       "<matplotlib.text.Text at 0x7feba11f9710>"
      ]
     },
     "execution_count": 18,
     "metadata": {},
     "output_type": "execute_result"
    },
    {
     "data": {
      "image/png": "[encoded data removed]",
      "text/plain": [
       "<matplotlib.figure.Figure at 0x7feba12d5590>"
      ]
     },
     "metadata": {},
     "output_type": "display_data"
    }
   ],
   "source": [
    "# Simple plot of group sizes\n",
    "fig = plt.figure(figsize=(10,5))\n",
    "plt.style.use('ggplot')\n",
    "df.groupby(['time', 'age_group']).size().plot(kind='bar', color = 'Steelblue')\n",
    "plt.xlabel('Category')\n",
    "plt.ylabel('Rides')\n",
    "plt.title('Citibike Rides by Age Group/Time Group')"
   ]
  },
  {
   "cell_type": "markdown",
   "metadata": {},
   "source": [
    "<b>Figure 2:</b> Histogram of rides for July 2017 by category of age and time of day."
   ]
  },
  {
   "cell_type": "code",
   "execution_count": 29,
   "metadata": {
    "collapsed": false,
    "scrolled": true
   },
   "outputs": [
    {
     "data": {
      "text/plain": [
       "age_group  time      \n",
       "35+        Daytime       739363\n",
       "           Late Night     13184\n",
       "<35        Daytime       957269\n",
       "           Late Night     25783\n",
       "dtype: int64"
      ]
     },
     "execution_count": 29,
     "metadata": {},
     "output_type": "execute_result"
    }
   ],
   "source": [
    "df[['age_group','time']].groupby(['age_group','time']).size()"
   ]
  },
  {
   "cell_type": "code",
   "execution_count": 42,
   "metadata": {
    "collapsed": false
   },
   "outputs": [
    {
     "data": {
      "text/plain": [
       "1735599"
      ]
     },
     "execution_count": 42,
     "metadata": {},
     "output_type": "execute_result"
    }
   ],
   "source": [
    "len(df['time'])"
   ]
  },
  {
   "cell_type": "code",
   "execution_count": 38,
   "metadata": {
    "collapsed": false,
    "scrolled": true
   },
   "outputs": [
    {
     "data": {
      "text/plain": [
       "time\n",
       "Daytime       1696632\n",
       "Late Night      38967\n",
       "dtype: int64"
      ]
     },
     "execution_count": 38,
     "metadata": {},
     "output_type": "execute_result"
    }
   ],
   "source": [
    "df[['time']].groupby(['time']).size()"
   ]
  },
  {
   "cell_type": "code",
   "execution_count": 39,
   "metadata": {
    "collapsed": true
   },
   "outputs": [],
   "source": [
    "daytime_rides = df[['time']].groupby(['time']).size()[0]\n",
    "nighttime_rides = df[['time']].groupby(['time']).size()[1]"
   ]
  },
  {
   "cell_type": "markdown",
   "metadata": {},
   "source": [
    "|Rider Group |     35+ Rider   | Under-35 Rider    |                   \n",
    "|----------------------------|----------------|------------------|---------------------------|\n",
    "| Daytime (5 am - midnight)                | $0.4357*1696632$    | $0.5643*1696632$      | 1696632                       |\n",
    "    | Nighttime (midnight - 5 am)             | $0.3383*38967$   | $0.6617*38967$      | 38967|\n",
    "|                            |                |                  |                           |\n",
    "| total                      |  752405       |  983194        |1735599        |"
   ]
  },
  {
   "cell_type": "code",
   "execution_count": 15,
   "metadata": {
    "collapsed": true
   },
   "outputs": [],
   "source": [
    "def evalChisq(values):\n",
    "    values = np.array(values)\n",
    "    E = np.empty_like(values)\n",
    "    for j in range(len(values[0])):\n",
    "        for i in range(2):\n",
    "            \n",
    "            E[i][j] = ((values[i,:].sum() * values[:,j].sum()) / \n",
    "                        (values).sum())\n",
    "    return ((values - E)**2 / E).sum()"
   ]
  },
  {
   "cell_type": "code",
   "execution_count": 44,
   "metadata": {
    "collapsed": true
   },
   "outputs": [],
   "source": [
    "test_proportions = [[0.4357 * 1696632, 0.5643 * 1696632],[0.3383 * 38967, 0.6617 * 38967]]"
   ]
  },
  {
   "cell_type": "code",
   "execution_count": 55,
   "metadata": {
    "collapsed": false
   },
   "outputs": [
    {
     "name": "stdout",
     "output_type": "stream",
     "text": [
      "chi sq statistics for my test: chisq = 1471.503, DOF = 1\n"
     ]
    }
   ],
   "source": [
    "chisq_test = evalChisq(test_proportions)\n",
    "DOF = len(test_proportions) - 1\n",
    "print ('chi sq statistics for my test: '+\n",
    "       'chisq = {:.3f}, DOF = {:d}'.format(chisq_test, DOF))"
   ]
  },
  {
   "cell_type": "code",
   "execution_count": 56,
   "metadata": {
    "collapsed": false
   },
   "outputs": [
    {
     "name": "stdout",
     "output_type": "stream",
     "text": [
      "The Null hypothesis that 35+ riders are a greater proportion of total riders at night\n",
      "can be rejected at alpha = 0.05\n",
      "with a chi square statistics of 1471.50\n"
     ]
    }
   ],
   "source": [
    "chimin_alpha5pc = 3.84\n",
    "print (\"The Null hypothesis that 35+ riders are a greater proportion of total riders at night\")\n",
    "if chisq_test > chimin_alpha5pc :\n",
    "    print (\"can be rejected at alpha = 0.05\")\n",
    "else: \n",
    "    print (\"cannot be rejected (p<0.05)\")\n",
    "print (\"with a chi square statistics of %.2f\"%chisq_test)\n",
    "    "
   ]
  },
  {
   "cell_type": "markdown",
   "metadata": {},
   "source": [
    "<b>Test with February 2016 data</b>"
   ]
  },
  {
   "cell_type": "code",
   "execution_count": 45,
   "metadata": {
    "collapsed": false
   },
   "outputs": [],
   "source": [
    "r2 = urllib.urlopen('https://s3.amazonaws.com/tripdata/201602-citibike-tripdata.zip')\n",
    "df2 = pd.read_csv(io.BytesIO(r2.read()), compression='zip')"
   ]
  },
  {
   "cell_type": "code",
   "execution_count": 37,
   "metadata": {
    "collapsed": false
   },
   "outputs": [
    {
     "data": {
      "text/html": [
       "<div>\n",
       "<style>\n",
       "    .dataframe thead tr:only-child th {\n",
       "        text-align: right;\n",
       "    }\n",
       "\n",
       "    .dataframe thead th {\n",
       "        text-align: left;\n",
       "    }\n",
       "\n",
       "    .dataframe tbody tr th {\n",
       "        vertical-align: top;\n",
       "    }\n",
       "</style>\n",
       "<table border=\"1\" class=\"dataframe\">\n",
       "  <thead>\n",
       "    <tr style=\"text-align: right;\">\n",
       "      <th></th>\n",
       "      <th>tripduration</th>\n",
       "      <th>starttime</th>\n",
       "      <th>stoptime</th>\n",
       "      <th>start station id</th>\n",
       "      <th>start station name</th>\n",
       "      <th>start station latitude</th>\n",
       "      <th>start station longitude</th>\n",
       "      <th>end station id</th>\n",
       "      <th>end station name</th>\n",
       "      <th>end station latitude</th>\n",
       "      <th>end station longitude</th>\n",
       "      <th>bikeid</th>\n",
       "      <th>usertype</th>\n",
       "      <th>birth year</th>\n",
       "      <th>gender</th>\n",
       "    </tr>\n",
       "  </thead>\n",
       "  <tbody>\n",
       "    <tr>\n",
       "      <th>0</th>\n",
       "      <td>461</td>\n",
       "      <td>2/1/2016 00:00:08</td>\n",
       "      <td>2/1/2016 00:07:49</td>\n",
       "      <td>480</td>\n",
       "      <td>W 53 St &amp; 10 Ave</td>\n",
       "      <td>40.766697</td>\n",
       "      <td>-73.990617</td>\n",
       "      <td>524</td>\n",
       "      <td>W 43 St &amp; 6 Ave</td>\n",
       "      <td>40.755273</td>\n",
       "      <td>-73.983169</td>\n",
       "      <td>23292</td>\n",
       "      <td>Subscriber</td>\n",
       "      <td>1966.0</td>\n",
       "      <td>1</td>\n",
       "    </tr>\n",
       "    <tr>\n",
       "      <th>1</th>\n",
       "      <td>297</td>\n",
       "      <td>2/1/2016 00:00:56</td>\n",
       "      <td>2/1/2016 00:05:53</td>\n",
       "      <td>463</td>\n",
       "      <td>9 Ave &amp; W 16 St</td>\n",
       "      <td>40.742065</td>\n",
       "      <td>-74.004432</td>\n",
       "      <td>380</td>\n",
       "      <td>W 4 St &amp; 7 Ave S</td>\n",
       "      <td>40.734011</td>\n",
       "      <td>-74.002939</td>\n",
       "      <td>15329</td>\n",
       "      <td>Subscriber</td>\n",
       "      <td>1977.0</td>\n",
       "      <td>1</td>\n",
       "    </tr>\n",
       "    <tr>\n",
       "      <th>2</th>\n",
       "      <td>280</td>\n",
       "      <td>2/1/2016 00:01:00</td>\n",
       "      <td>2/1/2016 00:05:40</td>\n",
       "      <td>3134</td>\n",
       "      <td>3 Ave &amp; E 62 St</td>\n",
       "      <td>40.763126</td>\n",
       "      <td>-73.965269</td>\n",
       "      <td>3141</td>\n",
       "      <td>1 Ave &amp; E 68 St</td>\n",
       "      <td>40.765005</td>\n",
       "      <td>-73.958185</td>\n",
       "      <td>22927</td>\n",
       "      <td>Subscriber</td>\n",
       "      <td>1987.0</td>\n",
       "      <td>1</td>\n",
       "    </tr>\n",
       "    <tr>\n",
       "      <th>3</th>\n",
       "      <td>662</td>\n",
       "      <td>2/1/2016 00:01:00</td>\n",
       "      <td>2/1/2016 00:12:02</td>\n",
       "      <td>537</td>\n",
       "      <td>Lexington Ave &amp; E 24 St</td>\n",
       "      <td>40.740259</td>\n",
       "      <td>-73.984092</td>\n",
       "      <td>428</td>\n",
       "      <td>E 3 St &amp; 1 Ave</td>\n",
       "      <td>40.724677</td>\n",
       "      <td>-73.987834</td>\n",
       "      <td>20903</td>\n",
       "      <td>Subscriber</td>\n",
       "      <td>1983.0</td>\n",
       "      <td>2</td>\n",
       "    </tr>\n",
       "    <tr>\n",
       "      <th>4</th>\n",
       "      <td>355</td>\n",
       "      <td>2/1/2016 00:01:41</td>\n",
       "      <td>2/1/2016 00:07:36</td>\n",
       "      <td>284</td>\n",
       "      <td>Greenwich Ave &amp; 8 Ave</td>\n",
       "      <td>40.739017</td>\n",
       "      <td>-74.002638</td>\n",
       "      <td>521</td>\n",
       "      <td>8 Ave &amp; W 31 St</td>\n",
       "      <td>40.750967</td>\n",
       "      <td>-73.994442</td>\n",
       "      <td>23228</td>\n",
       "      <td>Subscriber</td>\n",
       "      <td>1978.0</td>\n",
       "      <td>1</td>\n",
       "    </tr>\n",
       "  </tbody>\n",
       "</table>\n",
       "</div>"
      ],
      "text/plain": [
       "   tripduration          starttime           stoptime  start station id  \\\n",
       "0           461  2/1/2016 00:00:08  2/1/2016 00:07:49               480   \n",
       "1           297  2/1/2016 00:00:56  2/1/2016 00:05:53               463   \n",
       "2           280  2/1/2016 00:01:00  2/1/2016 00:05:40              3134   \n",
       "3           662  2/1/2016 00:01:00  2/1/2016 00:12:02               537   \n",
       "4           355  2/1/2016 00:01:41  2/1/2016 00:07:36               284   \n",
       "\n",
       "        start station name  start station latitude  start station longitude  \\\n",
       "0         W 53 St & 10 Ave               40.766697               -73.990617   \n",
       "1          9 Ave & W 16 St               40.742065               -74.004432   \n",
       "2          3 Ave & E 62 St               40.763126               -73.965269   \n",
       "3  Lexington Ave & E 24 St               40.740259               -73.984092   \n",
       "4    Greenwich Ave & 8 Ave               40.739017               -74.002638   \n",
       "\n",
       "   end station id  end station name  end station latitude  \\\n",
       "0             524   W 43 St & 6 Ave             40.755273   \n",
       "1             380  W 4 St & 7 Ave S             40.734011   \n",
       "2            3141   1 Ave & E 68 St             40.765005   \n",
       "3             428    E 3 St & 1 Ave             40.724677   \n",
       "4             521   8 Ave & W 31 St             40.750967   \n",
       "\n",
       "   end station longitude  bikeid    usertype  birth year  gender  \n",
       "0             -73.983169   23292  Subscriber      1966.0       1  \n",
       "1             -74.002939   15329  Subscriber      1977.0       1  \n",
       "2             -73.958185   22927  Subscriber      1987.0       1  \n",
       "3             -73.987834   20903  Subscriber      1983.0       2  \n",
       "4             -73.994442   23228  Subscriber      1978.0       1  "
      ]
     },
     "execution_count": 37,
     "metadata": {},
     "output_type": "execute_result"
    }
   ],
   "source": [
    "df2.head()"
   ]
  },
  {
   "cell_type": "code",
   "execution_count": 46,
   "metadata": {
    "collapsed": false
   },
   "outputs": [],
   "source": [
    "# Clean and add fields to dataframe\n",
    "df2['date'] = pd.to_datetime(df2['starttime']) # SLOW"
   ]
  },
  {
   "cell_type": "code",
   "execution_count": 47,
   "metadata": {
    "collapsed": true
   },
   "outputs": [],
   "source": [
    "df2['age'] = 2017 - df2['birth year']\n",
    "df2['hour'] = df2['date'].dt.hour\n",
    "df2 = df2[['hour', 'age']]"
   ]
  },
  {
   "cell_type": "code",
   "execution_count": 48,
   "metadata": {
    "collapsed": true
   },
   "outputs": [],
   "source": [
    "# Clean up and create flag/dummy fields for binary data\n",
    "df2['age_group'] = df2['age'] >= 35\n",
    "age_dict = {True: '35+', False: '<35'}\n",
    "df2['age_group'] = df2['age_group'].map(age_dict)\n",
    "\n",
    "df2['time'] = df2['hour'] < 5\n",
    "time_dict = {True: 'Late Night', False: 'Daytime'}\n",
    "df2['time'] = df2['time'].map(time_dict)"
   ]
  },
  {
   "cell_type": "code",
   "execution_count": 49,
   "metadata": {
    "collapsed": false
   },
   "outputs": [
    {
     "data": {
      "text/plain": [
       "<matplotlib.text.Text at 0x7f37d75a47d0>"
      ]
     },
     "execution_count": 49,
     "metadata": {},
     "output_type": "execute_result"
    },
    {
     "data": {
      "image/png": "[encoded data removed]",
      "text/plain": [
       "<matplotlib.figure.Figure at 0x7f37d71e7d90>"
      ]
     },
     "metadata": {},
     "output_type": "display_data"
    }
   ],
   "source": [
    "# Plot distribution of age groups by hour\n",
    "fig = plt.figure(figsize=(12,8))\n",
    "\n",
    "df3 = df2[df2['age_group'] == \"35+\"]\n",
    "df3.groupby('hour').size().plot(kind='bar', color='blue', alpha=0.5)\n",
    "\n",
    "df4 = df2[df2['age_group'] == \"<35\"]\n",
    "df4.groupby('hour').size().plot(kind='bar', color='red', alpha=0.5, label='nine')\n",
    "plt.xlabel('Hour of Day')\n",
    "plt.ylabel('Count of Rides')\n",
    "plt.title('Rides by Age Group by Hour\\n' +\n",
    "          'Red bars for <35 group; blue bars for 35+ group\\n' + \n",
    "          '(pure blue for times with more 35 riders+; pure red for more <35 riders)', fontsize = 14)"
   ]
  },
  {
   "cell_type": "markdown",
   "metadata": {},
   "source": [
    "<b>Figure 3</b>: Same histogram as earlier, but for February 2016, with more pronounced differences. Older riders dominate throughout most of the day, though their edge decreases sharply around 8 P.M. Younger riders outnumber older riders from 9 P.M. - 4 A.M.."
   ]
  },
  {
   "cell_type": "code",
   "execution_count": 14,
   "metadata": {
    "collapsed": false,
    "scrolled": true
   },
   "outputs": [
    {
     "data": {
      "text/plain": [
       "age_group  time      \n",
       "35+        Daytime       323596\n",
       "           Late Night      4950\n",
       "<35        Daytime       226927\n",
       "           Late Night      5401\n",
       "dtype: int64"
      ]
     },
     "execution_count": 14,
     "metadata": {},
     "output_type": "execute_result"
    }
   ],
   "source": [
    "df2[['age_group','time']].groupby(['age_group','time']).size()"
   ]
  },
  {
   "cell_type": "code",
   "execution_count": 17,
   "metadata": {
    "collapsed": false
   },
   "outputs": [
    {
     "data": {
      "text/plain": [
       "560874"
      ]
     },
     "execution_count": 17,
     "metadata": {},
     "output_type": "execute_result"
    }
   ],
   "source": [
    "len(df2['time'])"
   ]
  },
  {
   "cell_type": "code",
   "execution_count": 19,
   "metadata": {
    "collapsed": false
   },
   "outputs": [
    {
     "name": "stdout",
     "output_type": "stream",
     "text": [
      "chi sq statistics for my test: chisq = 502.976, DOF = 1\n"
     ]
    }
   ],
   "source": [
    "test_proportions2 = [[0.5878 * 550523, 0.4122 * 550523],[0.4782 * 10351, 0.5218 * 10351]]\n",
    "chisq_test2 = evalChisq(test_proportions2)\n",
    "DOF2 = len(test_proportions2) - 1\n",
    "print ('chi sq statistics for my test: '+\n",
    "       'chisq = {:.3f}, DOF = {:d}'.format(chisq_test2, DOF2))"
   ]
  },
  {
   "cell_type": "code",
   "execution_count": 20,
   "metadata": {
    "collapsed": false
   },
   "outputs": [
    {
     "name": "stdout",
     "output_type": "stream",
     "text": [
      "The Null hypothesis that 35+ riders are a greater proportion of total riders at night\n",
      "can be rejected at alpha = 0.05\n",
      "with a chi square statistics of 502.98\n"
     ]
    }
   ],
   "source": [
    "chimin_alpha5pc = 3.84\n",
    "print (\"The Null hypothesis that 35+ riders are a greater proportion of total riders at night\")\n",
    "if chisq_test2 > chimin_alpha5pc :\n",
    "    print (\"can be rejected at alpha = 0.05\")\n",
    "else: \n",
    "    print (\"cannot be rejected (p<0.05)\")\n",
    "print (\"with a chi square statistics of %.2f\"%chisq_test2)\n",
    "    "
   ]
  },
  {
   "cell_type": "code",
   "execution_count": null,
   "metadata": {
    "collapsed": true
   },
   "outputs": [],
   "source": []
  }
 ],
 "metadata": {
  "kernelspec": {
   "display_name": "Python 2",
   "language": "python",
   "name": "python2"
  },
  "language_info": {
   "codemirror_mode": {
    "name": "ipython",
    "version": 2
   },
   "file_extension": ".py",
   "mimetype": "text/x-python",
   "name": "python",
   "nbconvert_exporter": "python",
   "pygments_lexer": "ipython2",
   "version": "2.7.11"
  }
 },
 "nbformat": 4,
 "nbformat_minor": 1
}
