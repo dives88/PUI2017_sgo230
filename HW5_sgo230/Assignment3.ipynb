{
 "cells": [
  {
   "cell_type": "markdown",
   "metadata": {
    "toc": "true"
   },
   "source": [
    "# Table of Contents\n",
    " <p><div class=\"lev1 toc-item\"><a href=\"#DATA:\" data-toc-modified-id=\"DATA:-1\"><span class=\"toc-item-num\">1&nbsp;&nbsp;</span>DATA:</a></div><div class=\"lev1 toc-item\"><a href=\"#exploration\" data-toc-modified-id=\"exploration-2\"><span class=\"toc-item-num\">2&nbsp;&nbsp;</span>exploration</a></div><div class=\"lev2 toc-item\"><a href=\"#plot-mass-shooting-vs-gdp-in-absolute-numbers,-and-per-person.-Show-the-errorbars-(y-errors)\" data-toc-modified-id=\"plot-mass-shooting-vs-gdp-in-absolute-numbers,-and-per-person.-Show-the-errorbars-(y-errors)-21\"><span class=\"toc-item-num\">2.1&nbsp;&nbsp;</span>plot mass shooting vs gdp in absolute numbers, and per person. Show the errorbars (y errors)</a></div><div class=\"lev2 toc-item\"><a href=\"#plot-the-average-number-of-civilian-fire-arms-per-person\" data-toc-modified-id=\"plot-the-average-number-of-civilian-fire-arms-per-person-22\"><span class=\"toc-item-num\">2.2&nbsp;&nbsp;</span>plot the average number of civilian fire arms per person</a></div><div class=\"lev2 toc-item\"><a href=\"#plot-the-average-number-of-homicide-by-fire-arms-per-person\" data-toc-modified-id=\"plot-the-average-number-of-homicide-by-fire-arms-per-person-23\"><span class=\"toc-item-num\">2.3&nbsp;&nbsp;</span>plot the average number of homicide by fire arms per person</a></div><div class=\"lev2 toc-item\"><a href=\"#plot-the-number-of--homicides-by-fire-arm-against-the-number-of-civilian-firearms.-plot-the--US-in-a-different-color\" data-toc-modified-id=\"plot-the-number-of--homicides-by-fire-arm-against-the-number-of-civilian-firearms.-plot-the--US-in-a-different-color-24\"><span class=\"toc-item-num\">2.4&nbsp;&nbsp;</span>plot the number of  homicides by fire arm against the number of civilian firearms. plot the  US in a different color</a></div><div class=\"lev2 toc-item\"><a href=\"#plot-the-number-of--mass-shootings-against-the-number-of-civilian-firearms.-plot-the--US-in-a-different-color\" data-toc-modified-id=\"plot-the-number-of--mass-shootings-against-the-number-of-civilian-firearms.-plot-the--US-in-a-different-color-25\"><span class=\"toc-item-num\">2.5&nbsp;&nbsp;</span>plot the number of  mass shootings against the number of civilian firearms. plot the  US in a different color</a></div><div class=\"lev1 toc-item\"><a href=\"#Modeling\" data-toc-modified-id=\"Modeling-3\"><span class=\"toc-item-num\">3&nbsp;&nbsp;</span>Modeling</a></div><div class=\"lev2 toc-item\"><a href=\"#fit-a-line-to-the-Number-of-mass-shootings--per-person-as-a-function-of-Average-total-all-civilian-firearms-per-person.\" data-toc-modified-id=\"fit-a-line-to-the-Number-of-mass-shootings--per-person-as-a-function-of-Average-total-all-civilian-firearms-per-person.-31\"><span class=\"toc-item-num\">3.1&nbsp;&nbsp;</span>fit a line to the Number of mass shootings  per person as a function of Average total all civilian firearms per person.</a></div><div class=\"lev2 toc-item\"><a href=\"#Extra-credit:-calculate-the-confidence-interval-by-hand-and-also-plot-them\" data-toc-modified-id=\"Extra-credit:-calculate-the-confidence-interval-by-hand-and-also-plot-them-32\"><span class=\"toc-item-num\">3.2&nbsp;&nbsp;</span>Extra credit: calculate the confidence interval by hand and also plot them</a></div><div class=\"lev2 toc-item\"><a href=\"#Use-the-stsatsmodels.gaphics-package-to-plot-the-influence-plot.\" data-toc-modified-id=\"Use-the-stsatsmodels.gaphics-package-to-plot-the-influence-plot.-33\"><span class=\"toc-item-num\">3.3&nbsp;&nbsp;</span>Use the stsatsmodels.gaphics package to plot the influence plot.</a></div><div class=\"lev2 toc-item\"><a href=\"#Extra-credit:-calculate-from-scratch-the-stanrdardized-residuals-and-the-H-leverage-for-the-WLS-model-and-discuss-if-there-are-any-differences\" data-toc-modified-id=\"Extra-credit:-calculate-from-scratch-the-stanrdardized-residuals-and-the-H-leverage-for-the-WLS-model-and-discuss-if-there-are-any-differences-34\"><span class=\"toc-item-num\">3.4&nbsp;&nbsp;</span>Extra credit: calculate from scratch the stanrdardized residuals and the H leverage for the WLS model and discuss if there are any differences</a></div><div class=\"lev2 toc-item\"><a href=\"#Discuss-your-findings\" data-toc-modified-id=\"Discuss-your-findings-35\"><span class=\"toc-item-num\">3.5&nbsp;&nbsp;</span>Discuss your findings</a></div>"
   ]
  },
  {
   "cell_type": "markdown",
   "metadata": {},
   "source": [
    "**regression exercise**\n",
    "\n",
    "**written by Federica B Bianco CUSP 2017**\n",
    "\n",
    "**for PUI lecture on models and linear regression**"
   ]
  },
  {
   "cell_type": "markdown",
   "metadata": {},
   "source": [
    "**investigate linear relationships between fire arm possession, homicides by fire arms, and mass shootings for different countries, considering also the country GDP**"
   ]
  },
  {
   "cell_type": "markdown",
   "metadata": {},
   "source": [
    "# DATA: \n",
    "\n",
    "The Guardian firearms murders and ownership data. The relevans sheet is uploaded in the github repository as a csv file. Download it from there. Note: this dataset is from 2012.\n",
    "\n",
    "**Extra credit**: download directly from google docs with a google API\n",
    "\n",
    "https://docs.google.com/spreadsheets/d/1chqUZHuY6cXYrRYkuE0uwXisGaYvr7durZHJhpLGycs/edit#gid=0\n",
    "\n",
    "Number of mass shootings: find the link here https://datawrapper.dwcdn.net/pvLFI/4/\n",
    "\n",
    "The world population by country find the download link here :\n",
    "https://data.worldbank.org/indicator/SP.POP.TOTL\n",
    "\n",
    "Remember that all read or downloads have to me reproducible.\n",
    "\n",
    "Merge all datasets. After throwing away the irrelevant data it should look something like this (I renamed the GDP and the population as gdp\" and \"pop\")\n",
    "\n",
    "Throughout, when I ask you to include errors in plots or models, use Poisson statistics: the error is the square root of the number you are considering (e.g. this country has N fire arms +/- square root of N, or this country has Np [= N/population +/- (square root of N) / population] fire arms per person)."
   ]
  },
  {
   "cell_type": "code",
   "execution_count": 86,
   "metadata": {},
   "outputs": [
    {
     "name": "stdout",
     "output_type": "stream",
     "text": [
      "Populating the interactive namespace from numpy and matplotlib\n"
     ]
    },
    {
     "name": "stderr",
     "output_type": "stream",
     "text": [
      "C:\\ProgramData\\Anaconda3\\lib\\site-packages\\IPython\\core\\magics\\pylab.py:161: UserWarning: pylab import has clobbered these variables: ['scatter']\n",
      "`%matplotlib` prevents importing * from pylab and numpy\n",
      "  \"\\n`%matplotlib` prevents importing * from pylab and numpy\"\n"
     ]
    }
   ],
   "source": [
    "import pandas as pd\n",
    "import pylab as pl\n",
    "import numpy as np\n",
    "\n",
    "import statsmodels.api as sm\n",
    "import seaborn as sns\n",
    "sns.set(color_codes=True)\n",
    "\n",
    "%pylab inline"
   ]
  },
  {
   "cell_type": "code",
   "execution_count": 87,
   "metadata": {},
   "outputs": [
    {
     "data": {
      "text/html": [
       "<div>\n",
       "<style>\n",
       "    .dataframe thead tr:only-child th {\n",
       "        text-align: right;\n",
       "    }\n",
       "\n",
       "    .dataframe thead th {\n",
       "        text-align: left;\n",
       "    }\n",
       "\n",
       "    .dataframe tbody tr th {\n",
       "        vertical-align: top;\n",
       "    }\n",
       "</style>\n",
       "<table border=\"1\" class=\"dataframe\">\n",
       "  <thead>\n",
       "    <tr style=\"text-align: right;\">\n",
       "      <th></th>\n",
       "      <th>Country/Territory</th>\n",
       "      <th>ISO code</th>\n",
       "      <th>Source</th>\n",
       "      <th>% of homicides by firearm</th>\n",
       "      <th>Number of homicides by firearm</th>\n",
       "      <th>Homicide by firearm rate per 100,000 pop</th>\n",
       "      <th>Rank by rate of ownership</th>\n",
       "      <th>Average firearms per 100 people</th>\n",
       "      <th>Average total all civilian firearms</th>\n",
       "      <th>Country</th>\n",
       "    </tr>\n",
       "  </thead>\n",
       "  <tbody>\n",
       "    <tr>\n",
       "      <th>0</th>\n",
       "      <td>Albania</td>\n",
       "      <td>AL</td>\n",
       "      <td>CTS</td>\n",
       "      <td>65.9</td>\n",
       "      <td>56.0</td>\n",
       "      <td>1.76</td>\n",
       "      <td>70.0</td>\n",
       "      <td>8.6</td>\n",
       "      <td>270000.0</td>\n",
       "      <td>Albania</td>\n",
       "    </tr>\n",
       "    <tr>\n",
       "      <th>1</th>\n",
       "      <td>Algeria</td>\n",
       "      <td>DZ</td>\n",
       "      <td>CTS</td>\n",
       "      <td>4.8</td>\n",
       "      <td>20.0</td>\n",
       "      <td>0.06</td>\n",
       "      <td>78.0</td>\n",
       "      <td>7.6</td>\n",
       "      <td>1900000.0</td>\n",
       "      <td>Algeria</td>\n",
       "    </tr>\n",
       "    <tr>\n",
       "      <th>2</th>\n",
       "      <td>Angola</td>\n",
       "      <td>AO</td>\n",
       "      <td>NaN</td>\n",
       "      <td>NaN</td>\n",
       "      <td>NaN</td>\n",
       "      <td>NaN</td>\n",
       "      <td>34.0</td>\n",
       "      <td>17.3</td>\n",
       "      <td>2800000.0</td>\n",
       "      <td>Angola</td>\n",
       "    </tr>\n",
       "    <tr>\n",
       "      <th>3</th>\n",
       "      <td>Anguilla</td>\n",
       "      <td>AI</td>\n",
       "      <td>WHO-MDB</td>\n",
       "      <td>24.0</td>\n",
       "      <td>1.0</td>\n",
       "      <td>7.14</td>\n",
       "      <td>NaN</td>\n",
       "      <td>NaN</td>\n",
       "      <td>NaN</td>\n",
       "      <td>Anguilla</td>\n",
       "    </tr>\n",
       "    <tr>\n",
       "      <th>4</th>\n",
       "      <td>Argentina</td>\n",
       "      <td>AR</td>\n",
       "      <td>Ministry of Justice</td>\n",
       "      <td>52.0</td>\n",
       "      <td>1198.0</td>\n",
       "      <td>3.02</td>\n",
       "      <td>62.0</td>\n",
       "      <td>10.2</td>\n",
       "      <td>3950000.0</td>\n",
       "      <td>Argentina</td>\n",
       "    </tr>\n",
       "  </tbody>\n",
       "</table>\n",
       "</div>"
      ],
      "text/plain": [
       "  Country/Territory ISO code               Source  % of homicides by firearm  \\\n",
       "0           Albania       AL                  CTS                       65.9   \n",
       "1           Algeria       DZ                  CTS                        4.8   \n",
       "2            Angola       AO                  NaN                        NaN   \n",
       "3          Anguilla       AI              WHO-MDB                       24.0   \n",
       "4         Argentina       AR  Ministry of Justice                       52.0   \n",
       "\n",
       "   Number of homicides by firearm  Homicide by firearm rate per 100,000 pop  \\\n",
       "0                            56.0                                      1.76   \n",
       "1                            20.0                                      0.06   \n",
       "2                             NaN                                       NaN   \n",
       "3                             1.0                                      7.14   \n",
       "4                          1198.0                                      3.02   \n",
       "\n",
       "   Rank by rate of ownership  Average firearms per 100 people  \\\n",
       "0                       70.0                              8.6   \n",
       "1                       78.0                              7.6   \n",
       "2                       34.0                             17.3   \n",
       "3                        NaN                              NaN   \n",
       "4                       62.0                             10.2   \n",
       "\n",
       "   Average total all civilian firearms    Country  \n",
       "0                             270000.0    Albania  \n",
       "1                            1900000.0    Algeria  \n",
       "2                            2800000.0     Angola  \n",
       "3                                  NaN   Anguilla  \n",
       "4                            3950000.0  Argentina  "
      ]
     },
     "execution_count": 87,
     "metadata": {},
     "output_type": "execute_result"
    }
   ],
   "source": [
    "# Bring in Federica's data\n",
    "df_ = pd.read_csv('https://raw.githubusercontent.com/fedhere/PUI2017_fb55/master/HW5_fb55/World%20firearms%20murders%20and%20ownership%20-%20Sheet%201.csv')\n",
    "df_['Country'] = df_['Country/Territory']\n",
    "df_.head()"
   ]
  },
  {
   "cell_type": "code",
   "execution_count": 88,
   "metadata": {},
   "outputs": [
    {
     "data": {
      "text/html": [
       "<div>\n",
       "<style>\n",
       "    .dataframe thead tr:only-child th {\n",
       "        text-align: right;\n",
       "    }\n",
       "\n",
       "    .dataframe thead th {\n",
       "        text-align: left;\n",
       "    }\n",
       "\n",
       "    .dataframe tbody tr th {\n",
       "        vertical-align: top;\n",
       "    }\n",
       "</style>\n",
       "<table border=\"1\" class=\"dataframe\">\n",
       "  <thead>\n",
       "    <tr style=\"text-align: right;\">\n",
       "      <th></th>\n",
       "      <th>Country</th>\n",
       "      <th>Guns/100 inhabitants</th>\n",
       "      <th>Number of mass shootings</th>\n",
       "    </tr>\n",
       "  </thead>\n",
       "  <tbody>\n",
       "    <tr>\n",
       "      <th>0</th>\n",
       "      <td>Australia</td>\n",
       "      <td>15.0</td>\n",
       "      <td>4</td>\n",
       "    </tr>\n",
       "    <tr>\n",
       "      <th>1</th>\n",
       "      <td>Austria</td>\n",
       "      <td>30.4</td>\n",
       "      <td>1</td>\n",
       "    </tr>\n",
       "    <tr>\n",
       "      <th>2</th>\n",
       "      <td>Beligium</td>\n",
       "      <td>17.2</td>\n",
       "      <td>2</td>\n",
       "    </tr>\n",
       "    <tr>\n",
       "      <th>3</th>\n",
       "      <td>Canada</td>\n",
       "      <td>30.8</td>\n",
       "      <td>4</td>\n",
       "    </tr>\n",
       "    <tr>\n",
       "      <th>4</th>\n",
       "      <td>Denmark</td>\n",
       "      <td>12.0</td>\n",
       "      <td>0</td>\n",
       "    </tr>\n",
       "  </tbody>\n",
       "</table>\n",
       "</div>"
      ],
      "text/plain": [
       "     Country  Guns/100 inhabitants  Number of mass shootings\n",
       "0  Australia                  15.0                         4\n",
       "1    Austria                  30.4                         1\n",
       "2   Beligium                  17.2                         2\n",
       "3     Canada                  30.8                         4\n",
       "4    Denmark                  12.0                         0"
      ]
     },
     "execution_count": 88,
     "metadata": {},
     "output_type": "execute_result"
    }
   ],
   "source": [
    "# Bring in mass shootings\n",
    "ms = pd.read_csv('https://raw.githubusercontent.com/sgo230/PUI2017_sgo230/master/HW5_sgo230/data-pvLFI.csv')\n",
    "ms.head()"
   ]
  },
  {
   "cell_type": "code",
   "execution_count": 89,
   "metadata": {},
   "outputs": [
    {
     "data": {
      "text/html": [
       "<div>\n",
       "<style>\n",
       "    .dataframe thead tr:only-child th {\n",
       "        text-align: right;\n",
       "    }\n",
       "\n",
       "    .dataframe thead th {\n",
       "        text-align: left;\n",
       "    }\n",
       "\n",
       "    .dataframe tbody tr th {\n",
       "        vertical-align: top;\n",
       "    }\n",
       "</style>\n",
       "<table border=\"1\" class=\"dataframe\">\n",
       "  <thead>\n",
       "    <tr style=\"text-align: right;\">\n",
       "      <th></th>\n",
       "      <th>Country</th>\n",
       "      <th>pop</th>\n",
       "    </tr>\n",
       "  </thead>\n",
       "  <tbody>\n",
       "    <tr>\n",
       "      <th>0</th>\n",
       "      <td>Aruba</td>\n",
       "      <td>104822.0</td>\n",
       "    </tr>\n",
       "    <tr>\n",
       "      <th>1</th>\n",
       "      <td>Afghanistan</td>\n",
       "      <td>34656032.0</td>\n",
       "    </tr>\n",
       "    <tr>\n",
       "      <th>2</th>\n",
       "      <td>Angola</td>\n",
       "      <td>28813463.0</td>\n",
       "    </tr>\n",
       "    <tr>\n",
       "      <th>3</th>\n",
       "      <td>Albania</td>\n",
       "      <td>2876101.0</td>\n",
       "    </tr>\n",
       "    <tr>\n",
       "      <th>4</th>\n",
       "      <td>Andorra</td>\n",
       "      <td>77281.0</td>\n",
       "    </tr>\n",
       "  </tbody>\n",
       "</table>\n",
       "</div>"
      ],
      "text/plain": [
       "       Country         pop\n",
       "0        Aruba    104822.0\n",
       "1  Afghanistan  34656032.0\n",
       "2       Angola  28813463.0\n",
       "3      Albania   2876101.0\n",
       "4      Andorra     77281.0"
      ]
     },
     "execution_count": 89,
     "metadata": {},
     "output_type": "execute_result"
    }
   ],
   "source": [
    "# Bring in population data and clean\n",
    "pop = pd.read_csv('https://raw.githubusercontent.com/sgo230/PUI2017_sgo230/master/HW5_sgo230/API_SP.POP.TOTL_DS2_en_csv_v2.csv', skiprows=4)\n",
    "pop['Country'] = pop['Country Name']\n",
    "pop['pop'] = pop['2016']\n",
    "pop = pop[['Country', 'pop']]\n",
    "pop.head()"
   ]
  },
  {
   "cell_type": "code",
   "execution_count": 90,
   "metadata": {},
   "outputs": [
    {
     "data": {
      "text/html": [
       "<div>\n",
       "<style>\n",
       "    .dataframe thead tr:only-child th {\n",
       "        text-align: right;\n",
       "    }\n",
       "\n",
       "    .dataframe thead th {\n",
       "        text-align: left;\n",
       "    }\n",
       "\n",
       "    .dataframe tbody tr th {\n",
       "        vertical-align: top;\n",
       "    }\n",
       "</style>\n",
       "<table border=\"1\" class=\"dataframe\">\n",
       "  <thead>\n",
       "    <tr style=\"text-align: right;\">\n",
       "      <th></th>\n",
       "      <th>Country</th>\n",
       "      <th>gdp</th>\n",
       "    </tr>\n",
       "  </thead>\n",
       "  <tbody>\n",
       "    <tr>\n",
       "      <th>0</th>\n",
       "      <td>Aruba</td>\n",
       "      <td>NaN</td>\n",
       "    </tr>\n",
       "    <tr>\n",
       "      <th>1</th>\n",
       "      <td>Afghanistan</td>\n",
       "      <td>1.946902e+10</td>\n",
       "    </tr>\n",
       "    <tr>\n",
       "      <th>2</th>\n",
       "      <td>Angola</td>\n",
       "      <td>8.963316e+10</td>\n",
       "    </tr>\n",
       "    <tr>\n",
       "      <th>3</th>\n",
       "      <td>Albania</td>\n",
       "      <td>1.192689e+10</td>\n",
       "    </tr>\n",
       "    <tr>\n",
       "      <th>4</th>\n",
       "      <td>Andorra</td>\n",
       "      <td>NaN</td>\n",
       "    </tr>\n",
       "  </tbody>\n",
       "</table>\n",
       "</div>"
      ],
      "text/plain": [
       "       Country           gdp\n",
       "0        Aruba           NaN\n",
       "1  Afghanistan  1.946902e+10\n",
       "2       Angola  8.963316e+10\n",
       "3      Albania  1.192689e+10\n",
       "4      Andorra           NaN"
      ]
     },
     "execution_count": 90,
     "metadata": {},
     "output_type": "execute_result"
    }
   ],
   "source": [
    "# Bring in GDP data and clean\n",
    "gdp = pd.read_csv('https://raw.githubusercontent.com/sgo230/PUI2017_sgo230/master/HW5_sgo230/API_NY.GDP.MKTP.CD_DS2_en_csv_v2.csv', skiprows=3)\n",
    "gdp['Country'] = gdp['Country Name']\n",
    "gdp['gdp'] = gdp['2016']\n",
    "gdp = gdp[['Country', 'gdp']]\n",
    "gdp.head()"
   ]
  },
  {
   "cell_type": "code",
   "execution_count": 91,
   "metadata": {
    "scrolled": true
   },
   "outputs": [
    {
     "data": {
      "text/html": [
       "<div>\n",
       "<style>\n",
       "    .dataframe thead tr:only-child th {\n",
       "        text-align: right;\n",
       "    }\n",
       "\n",
       "    .dataframe thead th {\n",
       "        text-align: left;\n",
       "    }\n",
       "\n",
       "    .dataframe tbody tr th {\n",
       "        vertical-align: top;\n",
       "    }\n",
       "</style>\n",
       "<table border=\"1\" class=\"dataframe\">\n",
       "  <thead>\n",
       "    <tr style=\"text-align: right;\">\n",
       "      <th></th>\n",
       "      <th>Country/Territory</th>\n",
       "      <th>ISO code</th>\n",
       "      <th>Source</th>\n",
       "      <th>% of homicides by firearm</th>\n",
       "      <th>Number of homicides by firearm</th>\n",
       "      <th>Homicide by firearm rate per 100,000 pop</th>\n",
       "      <th>Rank by rate of ownership</th>\n",
       "      <th>Average firearms per 100 people</th>\n",
       "      <th>Average total all civilian firearms</th>\n",
       "      <th>Country</th>\n",
       "      <th>Guns/100 inhabitants</th>\n",
       "      <th>Number of mass shootings</th>\n",
       "      <th>pop</th>\n",
       "      <th>gdp</th>\n",
       "      <th>gdp per person</th>\n",
       "    </tr>\n",
       "  </thead>\n",
       "  <tbody>\n",
       "    <tr>\n",
       "      <th>0</th>\n",
       "      <td>Australia</td>\n",
       "      <td>AU</td>\n",
       "      <td>NSO</td>\n",
       "      <td>11.5</td>\n",
       "      <td>30.0</td>\n",
       "      <td>0.14</td>\n",
       "      <td>42.0</td>\n",
       "      <td>15.0</td>\n",
       "      <td>3050000.0</td>\n",
       "      <td>Australia</td>\n",
       "      <td>15.0</td>\n",
       "      <td>4</td>\n",
       "      <td>24127159.0</td>\n",
       "      <td>1.204616e+12</td>\n",
       "      <td>49927.819509</td>\n",
       "    </tr>\n",
       "    <tr>\n",
       "      <th>1</th>\n",
       "      <td>Austria</td>\n",
       "      <td>AT</td>\n",
       "      <td>CTS</td>\n",
       "      <td>29.5</td>\n",
       "      <td>18.0</td>\n",
       "      <td>0.22</td>\n",
       "      <td>14.0</td>\n",
       "      <td>30.4</td>\n",
       "      <td>2500000.0</td>\n",
       "      <td>Austria</td>\n",
       "      <td>30.4</td>\n",
       "      <td>1</td>\n",
       "      <td>8747358.0</td>\n",
       "      <td>3.864278e+11</td>\n",
       "      <td>44176.515216</td>\n",
       "    </tr>\n",
       "    <tr>\n",
       "      <th>2</th>\n",
       "      <td>Canada</td>\n",
       "      <td>CA</td>\n",
       "      <td>CTS</td>\n",
       "      <td>32.0</td>\n",
       "      <td>173.0</td>\n",
       "      <td>0.51</td>\n",
       "      <td>13.0</td>\n",
       "      <td>30.8</td>\n",
       "      <td>9950000.0</td>\n",
       "      <td>Canada</td>\n",
       "      <td>30.8</td>\n",
       "      <td>4</td>\n",
       "      <td>36286425.0</td>\n",
       "      <td>1.529760e+12</td>\n",
       "      <td>42157.927991</td>\n",
       "    </tr>\n",
       "    <tr>\n",
       "      <th>3</th>\n",
       "      <td>Denmark</td>\n",
       "      <td>DK</td>\n",
       "      <td>CTS</td>\n",
       "      <td>31.9</td>\n",
       "      <td>15.0</td>\n",
       "      <td>0.27</td>\n",
       "      <td>54.0</td>\n",
       "      <td>12.0</td>\n",
       "      <td>650000.0</td>\n",
       "      <td>Denmark</td>\n",
       "      <td>12.0</td>\n",
       "      <td>0</td>\n",
       "      <td>5731118.0</td>\n",
       "      <td>3.061429e+11</td>\n",
       "      <td>53417.664276</td>\n",
       "    </tr>\n",
       "    <tr>\n",
       "      <th>4</th>\n",
       "      <td>Finland</td>\n",
       "      <td>FI</td>\n",
       "      <td>CTS</td>\n",
       "      <td>19.8</td>\n",
       "      <td>24.0</td>\n",
       "      <td>0.45</td>\n",
       "      <td>4.0</td>\n",
       "      <td>45.3</td>\n",
       "      <td>2400000.0</td>\n",
       "      <td>Finland</td>\n",
       "      <td>45.3</td>\n",
       "      <td>2</td>\n",
       "      <td>5495096.0</td>\n",
       "      <td>2.367850e+11</td>\n",
       "      <td>43090.247506</td>\n",
       "    </tr>\n",
       "    <tr>\n",
       "      <th>5</th>\n",
       "      <td>France</td>\n",
       "      <td>FR</td>\n",
       "      <td>WHO-MDB</td>\n",
       "      <td>9.6</td>\n",
       "      <td>35.0</td>\n",
       "      <td>0.06</td>\n",
       "      <td>12.0</td>\n",
       "      <td>31.2</td>\n",
       "      <td>19000000.0</td>\n",
       "      <td>France</td>\n",
       "      <td>31.2</td>\n",
       "      <td>6</td>\n",
       "      <td>66896109.0</td>\n",
       "      <td>2.465454e+12</td>\n",
       "      <td>36854.968280</td>\n",
       "    </tr>\n",
       "    <tr>\n",
       "      <th>6</th>\n",
       "      <td>Germany</td>\n",
       "      <td>DE</td>\n",
       "      <td>CTS/National police</td>\n",
       "      <td>26.3</td>\n",
       "      <td>158.0</td>\n",
       "      <td>0.19</td>\n",
       "      <td>15.0</td>\n",
       "      <td>30.3</td>\n",
       "      <td>25000000.0</td>\n",
       "      <td>Germany</td>\n",
       "      <td>30.3</td>\n",
       "      <td>7</td>\n",
       "      <td>82667685.0</td>\n",
       "      <td>3.466757e+12</td>\n",
       "      <td>41936.058575</td>\n",
       "    </tr>\n",
       "    <tr>\n",
       "      <th>7</th>\n",
       "      <td>Greece</td>\n",
       "      <td>GR</td>\n",
       "      <td>WHO-MDB</td>\n",
       "      <td>34.9</td>\n",
       "      <td>29.0</td>\n",
       "      <td>0.26</td>\n",
       "      <td>23.0</td>\n",
       "      <td>22.5</td>\n",
       "      <td>2500000.0</td>\n",
       "      <td>Greece</td>\n",
       "      <td>22.5</td>\n",
       "      <td>0</td>\n",
       "      <td>10746740.0</td>\n",
       "      <td>1.945587e+11</td>\n",
       "      <td>18103.969322</td>\n",
       "    </tr>\n",
       "    <tr>\n",
       "      <th>8</th>\n",
       "      <td>Hungary</td>\n",
       "      <td>HU</td>\n",
       "      <td>CTS</td>\n",
       "      <td>5.0</td>\n",
       "      <td>7.0</td>\n",
       "      <td>0.07</td>\n",
       "      <td>93.0</td>\n",
       "      <td>5.5</td>\n",
       "      <td>560000.0</td>\n",
       "      <td>Hungary</td>\n",
       "      <td>5.5</td>\n",
       "      <td>0</td>\n",
       "      <td>9817958.0</td>\n",
       "      <td>1.243429e+11</td>\n",
       "      <td>12664.847435</td>\n",
       "    </tr>\n",
       "    <tr>\n",
       "      <th>9</th>\n",
       "      <td>Iceland</td>\n",
       "      <td>IS</td>\n",
       "      <td>CTS</td>\n",
       "      <td>0.0</td>\n",
       "      <td>0.0</td>\n",
       "      <td>0.00</td>\n",
       "      <td>15.0</td>\n",
       "      <td>30.3</td>\n",
       "      <td>90000.0</td>\n",
       "      <td>Iceland</td>\n",
       "      <td>30.3</td>\n",
       "      <td>0</td>\n",
       "      <td>334252.0</td>\n",
       "      <td>2.004741e+10</td>\n",
       "      <td>59976.942565</td>\n",
       "    </tr>\n",
       "    <tr>\n",
       "      <th>10</th>\n",
       "      <td>Ireland</td>\n",
       "      <td>IE</td>\n",
       "      <td>CTS</td>\n",
       "      <td>42.0</td>\n",
       "      <td>21.0</td>\n",
       "      <td>0.48</td>\n",
       "      <td>70.0</td>\n",
       "      <td>8.6</td>\n",
       "      <td>360000.0</td>\n",
       "      <td>Ireland</td>\n",
       "      <td>8.6</td>\n",
       "      <td>0</td>\n",
       "      <td>4773095.0</td>\n",
       "      <td>2.940536e+11</td>\n",
       "      <td>61606.482939</td>\n",
       "    </tr>\n",
       "    <tr>\n",
       "      <th>11</th>\n",
       "      <td>Italy</td>\n",
       "      <td>IT</td>\n",
       "      <td>NSO</td>\n",
       "      <td>66.7</td>\n",
       "      <td>417.0</td>\n",
       "      <td>0.71</td>\n",
       "      <td>55.0</td>\n",
       "      <td>11.9</td>\n",
       "      <td>7000000.0</td>\n",
       "      <td>Italy</td>\n",
       "      <td>11.9</td>\n",
       "      <td>0</td>\n",
       "      <td>60600590.0</td>\n",
       "      <td>1.849970e+12</td>\n",
       "      <td>30527.268203</td>\n",
       "    </tr>\n",
       "    <tr>\n",
       "      <th>12</th>\n",
       "      <td>Japan</td>\n",
       "      <td>JP</td>\n",
       "      <td>WHO-MDB</td>\n",
       "      <td>1.8</td>\n",
       "      <td>11.0</td>\n",
       "      <td>0.01</td>\n",
       "      <td>164.0</td>\n",
       "      <td>0.6</td>\n",
       "      <td>710000.0</td>\n",
       "      <td>Japan</td>\n",
       "      <td>0.6</td>\n",
       "      <td>0</td>\n",
       "      <td>126994511.0</td>\n",
       "      <td>4.939384e+12</td>\n",
       "      <td>38894.467729</td>\n",
       "    </tr>\n",
       "    <tr>\n",
       "      <th>13</th>\n",
       "      <td>Luxembourg</td>\n",
       "      <td>LU</td>\n",
       "      <td>CTS</td>\n",
       "      <td>42.9</td>\n",
       "      <td>3.0</td>\n",
       "      <td>0.62</td>\n",
       "      <td>41.0</td>\n",
       "      <td>15.3</td>\n",
       "      <td>70000.0</td>\n",
       "      <td>Luxembourg</td>\n",
       "      <td>15.3</td>\n",
       "      <td>0</td>\n",
       "      <td>582972.0</td>\n",
       "      <td>5.994778e+10</td>\n",
       "      <td>102831.321483</td>\n",
       "    </tr>\n",
       "    <tr>\n",
       "      <th>14</th>\n",
       "      <td>New Zealand</td>\n",
       "      <td>NZ</td>\n",
       "      <td>CTS</td>\n",
       "      <td>13.5</td>\n",
       "      <td>7.0</td>\n",
       "      <td>0.16</td>\n",
       "      <td>22.0</td>\n",
       "      <td>22.6</td>\n",
       "      <td>925000.0</td>\n",
       "      <td>New Zealand</td>\n",
       "      <td>22.6</td>\n",
       "      <td>3</td>\n",
       "      <td>4692700.0</td>\n",
       "      <td>1.850173e+11</td>\n",
       "      <td>39426.623499</td>\n",
       "    </tr>\n",
       "    <tr>\n",
       "      <th>15</th>\n",
       "      <td>Norway</td>\n",
       "      <td>NO</td>\n",
       "      <td>WHO-HFA</td>\n",
       "      <td>8.1</td>\n",
       "      <td>2.0</td>\n",
       "      <td>0.05</td>\n",
       "      <td>11.0</td>\n",
       "      <td>31.3</td>\n",
       "      <td>1400000.0</td>\n",
       "      <td>Norway</td>\n",
       "      <td>31.3</td>\n",
       "      <td>1</td>\n",
       "      <td>5232929.0</td>\n",
       "      <td>3.705567e+11</td>\n",
       "      <td>70812.477423</td>\n",
       "    </tr>\n",
       "    <tr>\n",
       "      <th>16</th>\n",
       "      <td>Poland</td>\n",
       "      <td>PL</td>\n",
       "      <td>CTS</td>\n",
       "      <td>7.1</td>\n",
       "      <td>35.0</td>\n",
       "      <td>0.09</td>\n",
       "      <td>142.0</td>\n",
       "      <td>1.3</td>\n",
       "      <td>510000.0</td>\n",
       "      <td>Poland</td>\n",
       "      <td>1.3</td>\n",
       "      <td>0</td>\n",
       "      <td>37948016.0</td>\n",
       "      <td>4.695087e+11</td>\n",
       "      <td>12372.417056</td>\n",
       "    </tr>\n",
       "    <tr>\n",
       "      <th>17</th>\n",
       "      <td>Portugal</td>\n",
       "      <td>PT</td>\n",
       "      <td>CTS</td>\n",
       "      <td>33.8</td>\n",
       "      <td>44.0</td>\n",
       "      <td>0.41</td>\n",
       "      <td>72.0</td>\n",
       "      <td>8.5</td>\n",
       "      <td>900000.0</td>\n",
       "      <td>Portugal</td>\n",
       "      <td>8.5</td>\n",
       "      <td>1</td>\n",
       "      <td>10324611.0</td>\n",
       "      <td>2.045647e+11</td>\n",
       "      <td>19813.308249</td>\n",
       "    </tr>\n",
       "    <tr>\n",
       "      <th>18</th>\n",
       "      <td>Spain</td>\n",
       "      <td>ES</td>\n",
       "      <td>CTS</td>\n",
       "      <td>21.8</td>\n",
       "      <td>90.0</td>\n",
       "      <td>0.20</td>\n",
       "      <td>61.0</td>\n",
       "      <td>10.4</td>\n",
       "      <td>4500000.0</td>\n",
       "      <td>Spain</td>\n",
       "      <td>10.4</td>\n",
       "      <td>1</td>\n",
       "      <td>46443959.0</td>\n",
       "      <td>1.232088e+12</td>\n",
       "      <td>26528.491790</td>\n",
       "    </tr>\n",
       "    <tr>\n",
       "      <th>19</th>\n",
       "      <td>Sweden</td>\n",
       "      <td>SE</td>\n",
       "      <td>CTS</td>\n",
       "      <td>33.9</td>\n",
       "      <td>37.0</td>\n",
       "      <td>0.41</td>\n",
       "      <td>10.0</td>\n",
       "      <td>31.6</td>\n",
       "      <td>2800000.0</td>\n",
       "      <td>Sweden</td>\n",
       "      <td>31.6</td>\n",
       "      <td>2</td>\n",
       "      <td>9903122.0</td>\n",
       "      <td>5.109998e+11</td>\n",
       "      <td>51599.868868</td>\n",
       "    </tr>\n",
       "    <tr>\n",
       "      <th>20</th>\n",
       "      <td>Switzerland</td>\n",
       "      <td>CH</td>\n",
       "      <td>CTS</td>\n",
       "      <td>72.2</td>\n",
       "      <td>57.0</td>\n",
       "      <td>0.77</td>\n",
       "      <td>3.0</td>\n",
       "      <td>45.7</td>\n",
       "      <td>3400000.0</td>\n",
       "      <td>Switzerland</td>\n",
       "      <td>45.7</td>\n",
       "      <td>2</td>\n",
       "      <td>8372098.0</td>\n",
       "      <td>6.598272e+11</td>\n",
       "      <td>78812.650687</td>\n",
       "    </tr>\n",
       "    <tr>\n",
       "      <th>21</th>\n",
       "      <td>United States</td>\n",
       "      <td>US</td>\n",
       "      <td>CTS</td>\n",
       "      <td>60.0</td>\n",
       "      <td>9146.0</td>\n",
       "      <td>2.97</td>\n",
       "      <td>1.0</td>\n",
       "      <td>88.8</td>\n",
       "      <td>270000000.0</td>\n",
       "      <td>United States</td>\n",
       "      <td>88.8</td>\n",
       "      <td>78</td>\n",
       "      <td>323127513.0</td>\n",
       "      <td>1.856910e+13</td>\n",
       "      <td>57466.787113</td>\n",
       "    </tr>\n",
       "  </tbody>\n",
       "</table>\n",
       "</div>"
      ],
      "text/plain": [
       "   Country/Territory ISO code               Source  % of homicides by firearm  \\\n",
       "0          Australia       AU                  NSO                       11.5   \n",
       "1            Austria       AT                  CTS                       29.5   \n",
       "2             Canada       CA                  CTS                       32.0   \n",
       "3            Denmark       DK                  CTS                       31.9   \n",
       "4            Finland       FI                  CTS                       19.8   \n",
       "5             France       FR              WHO-MDB                        9.6   \n",
       "6            Germany       DE  CTS/National police                       26.3   \n",
       "7             Greece       GR              WHO-MDB                       34.9   \n",
       "8            Hungary       HU                  CTS                        5.0   \n",
       "9            Iceland       IS                  CTS                        0.0   \n",
       "10           Ireland       IE                  CTS                       42.0   \n",
       "11             Italy       IT                  NSO                       66.7   \n",
       "12             Japan       JP              WHO-MDB                        1.8   \n",
       "13        Luxembourg       LU                  CTS                       42.9   \n",
       "14       New Zealand       NZ                  CTS                       13.5   \n",
       "15            Norway       NO              WHO-HFA                        8.1   \n",
       "16            Poland       PL                  CTS                        7.1   \n",
       "17          Portugal       PT                  CTS                       33.8   \n",
       "18             Spain       ES                  CTS                       21.8   \n",
       "19            Sweden       SE                  CTS                       33.9   \n",
       "20       Switzerland       CH                  CTS                       72.2   \n",
       "21     United States       US                  CTS                       60.0   \n",
       "\n",
       "    Number of homicides by firearm  Homicide by firearm rate per 100,000 pop  \\\n",
       "0                             30.0                                      0.14   \n",
       "1                             18.0                                      0.22   \n",
       "2                            173.0                                      0.51   \n",
       "3                             15.0                                      0.27   \n",
       "4                             24.0                                      0.45   \n",
       "5                             35.0                                      0.06   \n",
       "6                            158.0                                      0.19   \n",
       "7                             29.0                                      0.26   \n",
       "8                              7.0                                      0.07   \n",
       "9                              0.0                                      0.00   \n",
       "10                            21.0                                      0.48   \n",
       "11                           417.0                                      0.71   \n",
       "12                            11.0                                      0.01   \n",
       "13                             3.0                                      0.62   \n",
       "14                             7.0                                      0.16   \n",
       "15                             2.0                                      0.05   \n",
       "16                            35.0                                      0.09   \n",
       "17                            44.0                                      0.41   \n",
       "18                            90.0                                      0.20   \n",
       "19                            37.0                                      0.41   \n",
       "20                            57.0                                      0.77   \n",
       "21                          9146.0                                      2.97   \n",
       "\n",
       "    Rank by rate of ownership  Average firearms per 100 people  \\\n",
       "0                        42.0                             15.0   \n",
       "1                        14.0                             30.4   \n",
       "2                        13.0                             30.8   \n",
       "3                        54.0                             12.0   \n",
       "4                         4.0                             45.3   \n",
       "5                        12.0                             31.2   \n",
       "6                        15.0                             30.3   \n",
       "7                        23.0                             22.5   \n",
       "8                        93.0                              5.5   \n",
       "9                        15.0                             30.3   \n",
       "10                       70.0                              8.6   \n",
       "11                       55.0                             11.9   \n",
       "12                      164.0                              0.6   \n",
       "13                       41.0                             15.3   \n",
       "14                       22.0                             22.6   \n",
       "15                       11.0                             31.3   \n",
       "16                      142.0                              1.3   \n",
       "17                       72.0                              8.5   \n",
       "18                       61.0                             10.4   \n",
       "19                       10.0                             31.6   \n",
       "20                        3.0                             45.7   \n",
       "21                        1.0                             88.8   \n",
       "\n",
       "    Average total all civilian firearms        Country  Guns/100 inhabitants  \\\n",
       "0                             3050000.0      Australia                  15.0   \n",
       "1                             2500000.0        Austria                  30.4   \n",
       "2                             9950000.0         Canada                  30.8   \n",
       "3                              650000.0        Denmark                  12.0   \n",
       "4                             2400000.0        Finland                  45.3   \n",
       "5                            19000000.0         France                  31.2   \n",
       "6                            25000000.0        Germany                  30.3   \n",
       "7                             2500000.0         Greece                  22.5   \n",
       "8                              560000.0        Hungary                   5.5   \n",
       "9                               90000.0        Iceland                  30.3   \n",
       "10                             360000.0        Ireland                   8.6   \n",
       "11                            7000000.0          Italy                  11.9   \n",
       "12                             710000.0          Japan                   0.6   \n",
       "13                              70000.0     Luxembourg                  15.3   \n",
       "14                             925000.0    New Zealand                  22.6   \n",
       "15                            1400000.0         Norway                  31.3   \n",
       "16                             510000.0         Poland                   1.3   \n",
       "17                             900000.0       Portugal                   8.5   \n",
       "18                            4500000.0          Spain                  10.4   \n",
       "19                            2800000.0         Sweden                  31.6   \n",
       "20                            3400000.0    Switzerland                  45.7   \n",
       "21                          270000000.0  United States                  88.8   \n",
       "\n",
       "    Number of mass shootings          pop           gdp  gdp per person  \n",
       "0                          4   24127159.0  1.204616e+12    49927.819509  \n",
       "1                          1    8747358.0  3.864278e+11    44176.515216  \n",
       "2                          4   36286425.0  1.529760e+12    42157.927991  \n",
       "3                          0    5731118.0  3.061429e+11    53417.664276  \n",
       "4                          2    5495096.0  2.367850e+11    43090.247506  \n",
       "5                          6   66896109.0  2.465454e+12    36854.968280  \n",
       "6                          7   82667685.0  3.466757e+12    41936.058575  \n",
       "7                          0   10746740.0  1.945587e+11    18103.969322  \n",
       "8                          0    9817958.0  1.243429e+11    12664.847435  \n",
       "9                          0     334252.0  2.004741e+10    59976.942565  \n",
       "10                         0    4773095.0  2.940536e+11    61606.482939  \n",
       "11                         0   60600590.0  1.849970e+12    30527.268203  \n",
       "12                         0  126994511.0  4.939384e+12    38894.467729  \n",
       "13                         0     582972.0  5.994778e+10   102831.321483  \n",
       "14                         3    4692700.0  1.850173e+11    39426.623499  \n",
       "15                         1    5232929.0  3.705567e+11    70812.477423  \n",
       "16                         0   37948016.0  4.695087e+11    12372.417056  \n",
       "17                         1   10324611.0  2.045647e+11    19813.308249  \n",
       "18                         1   46443959.0  1.232088e+12    26528.491790  \n",
       "19                         2    9903122.0  5.109998e+11    51599.868868  \n",
       "20                         2    8372098.0  6.598272e+11    78812.650687  \n",
       "21                        78  323127513.0  1.856910e+13    57466.787113  "
      ]
     },
     "execution_count": 91,
     "metadata": {},
     "output_type": "execute_result"
    }
   ],
   "source": [
    "# Progressively inner join on Country to create one dataframe\n",
    "join1 = pd.merge(df_, ms, on='Country')\n",
    "join2 = pd.merge(join1, pop, on='Country')\n",
    "df_ = pd.merge(join2, gdp, on='Country')\n",
    "df_['gdp per person'] = df_['gdp'] / df_['pop']\n",
    "df_"
   ]
  },
  {
   "cell_type": "markdown",
   "metadata": {},
   "source": [
    "# exploration\n",
    "\n",
    "## plot mass shooting vs gdp in absolute numbers, and per person. Show the errorbars (y errors)\n",
    "\n",
    "Use Poisson statistics for the errorbars on the number of mass shootings (optional: include errors on the population, also as Poisson statistics)\n",
    "\n",
    "Are there any points that look like they may be outilers?\n"
   ]
  },
  {
   "cell_type": "markdown",
   "metadata": {},
   "source": [
    "<b>Note: It is ambiguous whether we're plotting mass shootings per person or GDP per person. I opted for shootings per person.</b>"
   ]
  },
  {
   "cell_type": "code",
   "execution_count": 93,
   "metadata": {
    "ExecuteTime": {
     "end_time": "2017-10-12T11:24:38.210994",
     "start_time": "2017-10-12T11:24:37.927232"
    },
    "scrolled": false
   },
   "outputs": [
    {
     "data": {
      "image/png": "[encoded data removed]",
      "text/plain": [
       "<matplotlib.figure.Figure at 0xed34cf8>"
      ]
     },
     "metadata": {},
     "output_type": "display_data"
    },
    {
     "name": "stdout",
     "output_type": "stream",
     "text": [
      "Number of mass shooting vs GDP, errors represent Poisson statistics.\n",
      "The datapoint to the top right of the plot is the USA, which has both the highest GDP and the highest number of mass shootings\n"
     ]
    }
   ],
   "source": [
    "fig = pl.figure(figsize=(10,5)) \n",
    "ax = fig.add_subplot(111)\n",
    "\n",
    "scatter = ax.scatter(df_.gdp / 1e9, df_['Number of mass shootings'])\n",
    "ax.errorbar(df_.gdp / 1e9, df_['Number of mass shootings'], \n",
    "            yerr = np.sqrt(df_['Number of mass shootings'] * 1.0), fmt = '.')\n",
    "ax.set_xlabel(\"GDP (in billions)\")\n",
    "ax.set_ylabel(\"Number of mass shooting\")\n",
    "ax.set_title(\"GDP vs. Mass Shootings\")\n",
    "ax.set_ylim()\n",
    "pl.show()\n",
    "print (\"Number of mass shooting vs GDP, \" + \n",
    "       \"errors represent Poisson statistics.\\n\" + \n",
    "       \"The datapoint to the top right of the plot is the USA, \" + \n",
    "       \"which has both the highest GDP and the highest number of mass shootings\")\n"
   ]
  },
  {
   "cell_type": "code",
   "execution_count": 94,
   "metadata": {},
   "outputs": [
    {
     "data": {
      "image/png": "[encoded data removed]",
      "text/plain": [
       "<matplotlib.figure.Figure at 0xf9706d8>"
      ]
     },
     "metadata": {},
     "output_type": "display_data"
    },
    {
     "name": "stdout",
     "output_type": "stream",
     "text": [
      "Number of mass shootings per person vs GDP, errors represent Poisson statistics.\n",
      "The datapoint to the right of the plot is the USA, which has both the highest GDP and a high number of mass shootings per person\n"
     ]
    }
   ],
   "source": [
    "fig = pl.figure(figsize=(10,5)) \n",
    "ax = fig.add_subplot(111)\n",
    "\n",
    "scatter = ax.scatter(df_['gdp'] /1e9, df_['Number of mass shootings'] / df_['pop']  * 10000000)\n",
    "ax.errorbar(df_['gdp'] / 1e9 , df_['Number of mass shootings'] / df_['pop']  * 10000000, \n",
    "            yerr = np.sqrt(df_['Number of mass shootings'] / df_['pop'] * 10000000), fmt = '.')\n",
    "ax.set_xlabel(\"GDP (Billions)\")\n",
    "ax.set_ylabel(\"Number of mass shooting per 10M people\")\n",
    "ax.set_ylim()\n",
    "ax.set_title(\"GDP vs. Mass Shootings per Person\")\n",
    "pl.show()\n",
    "print (\"Number of mass shootings per person vs GDP, \" + \n",
    "       \"errors represent Poisson statistics.\\n\" + \n",
    "       \"The datapoint to the right of the plot is the USA, \" + \n",
    "       \"which has both the highest GDP and a high number of mass shootings per person\")\n"
   ]
  },
  {
   "cell_type": "markdown",
   "metadata": {},
   "source": [
    "## plot the average number of civilian fire arms per person\n",
    "first without errors, then with errors. are there  points that look like outliers?"
   ]
  },
  {
   "cell_type": "code",
   "execution_count": 44,
   "metadata": {
    "ExecuteTime": {
     "end_time": "2017-10-12T07:17:52.778486",
     "start_time": "2017-10-12T07:17:52.768299"
    },
    "run_control": {
     "frozen": false,
     "read_only": false
    },
    "scrolled": true
   },
   "outputs": [
    {
     "data": {
      "image/png": "[encoded data removed]",
      "text/plain": [
       "<matplotlib.figure.Figure at 0xebda9b0>"
      ]
     },
     "metadata": {},
     "output_type": "display_data"
    },
    {
     "name": "stdout",
     "output_type": "stream",
     "text": [
      "Average of Civilian Firewarms vs GDP, errors represent Poisson statistics.\n",
      "The datapoint to the right of the plot is the USA, which has both the highest GDP and the most civilian firearms per person\n"
     ]
    }
   ],
   "source": [
    "fig = pl.figure(figsize=(10,5)) \n",
    "ax = fig.add_subplot(111)\n",
    "\n",
    "scatter = ax.scatter(df_.gdp / 1e9, df_['Average firearms per 100 people'] / 100)\n",
    "ax.errorbar(df_.gdp / 1e9, df_['Average firearms per 100 people']/100, \n",
    "            yerr = np.sqrt(df_['Average firearms per 100 people'] / 100 * 1.0), fmt = '.')\n",
    "ax.set_xlabel(\"GDP (in billions)\")\n",
    "ax.set_ylabel(\"Average number of civilian firearms per person\")\n",
    "ax.set_ylim()\n",
    "pl.show()\n",
    "print (\"Average of Civilian Firewarms vs GDP, \" + \n",
    "       \"errors represent Poisson statistics.\\n\" + \n",
    "       \"The datapoint to the right of the plot is the USA, \" + \n",
    "       \"which has both the highest GDP and the most civilian firearms per person\")"
   ]
  },
  {
   "cell_type": "code",
   "execution_count": 45,
   "metadata": {},
   "outputs": [
    {
     "data": {
      "image/png": "[encoded data removed]",
      "text/plain": [
       "<matplotlib.figure.Figure at 0xd6df588>"
      ]
     },
     "metadata": {},
     "output_type": "display_data"
    },
    {
     "name": "stdout",
     "output_type": "stream",
     "text": [
      "Average of Civilian Firewarms vs GDP, no error bars\n",
      "The datapoint to the right of the plot is the USA, which has both the highest GDP and the most civilian firearms per person\n"
     ]
    }
   ],
   "source": [
    "fig = pl.figure(figsize=(10,5)) \n",
    "ax = fig.add_subplot(111)\n",
    "\n",
    "scatter = ax.scatter(df_.gdp / 1e9, df_['Average firearms per 100 people'] / 100)\n",
    "ax.errorbar(df_.gdp / 1e9, df_['Average firearms per 100 people']/100, fmt = '.')\n",
    "ax.set_xlabel(\"GDP (in billions)\")\n",
    "ax.set_ylabel(\"Average number of civilian firearms per person\")\n",
    "ax.set_ylim()\n",
    "pl.show()\n",
    "print (\"Average of Civilian Firewarms vs GDP, no error bars\" + \n",
    "       \"\\n\" + \n",
    "       \"The datapoint to the right of the plot is the USA, \" + \n",
    "       \"which has both the highest GDP and the most civilian firearms per person\")\n"
   ]
  },
  {
   "cell_type": "markdown",
   "metadata": {},
   "source": [
    "## plot the average number of homicide by fire arms per person\n",
    "first as a histogram\n",
    "\n",
    "then against the country GDP, with statistical errors. are there  points that look like outliers?"
   ]
  },
  {
   "cell_type": "code",
   "execution_count": 46,
   "metadata": {
    "ExecuteTime": {
     "end_time": "2017-10-12T07:53:17.910541",
     "start_time": "2017-10-12T07:53:17.506477"
    },
    "scrolled": true
   },
   "outputs": [
    {
     "data": {
      "image/png": "[encoded data removed]",
      "text/plain": [
       "<matplotlib.figure.Figure at 0xeadc630>"
      ]
     },
     "metadata": {},
     "output_type": "display_data"
    },
    {
     "name": "stdout",
     "output_type": "stream",
     "text": [
      "Federica's histogram of homicides by firearm\n"
     ]
    }
   ],
   "source": [
    "fig, ax = plt.subplots()\n",
    "ax.hist(df_['Number of homicides by firearm'] / df_['pop'] * 1000)\n",
    "ax.set_xlabel('homicides by firearm per 1000 people');\n",
    "pl.show()\n",
    "print(\"Federica's histogram of homicides by firearm\")"
   ]
  },
  {
   "cell_type": "code",
   "execution_count": 95,
   "metadata": {},
   "outputs": [
    {
     "data": {
      "image/png": "[encoded data removed]",
      "text/plain": [
       "<matplotlib.figure.Figure at 0xfe80a90>"
      ]
     },
     "metadata": {},
     "output_type": "display_data"
    },
    {
     "name": "stdout",
     "output_type": "stream",
     "text": [
      "Number of homicides by firearm per 100,000 people vs GDP, errors represent Poisson statistics.\n",
      "The datapoint to the top right of the plot is the USA, which has both the highest GDP and the highest rate of homicides by firearm per person\n"
     ]
    }
   ],
   "source": [
    "fig = pl.figure(figsize=(10,5)) \n",
    "ax = fig.add_subplot(111)\n",
    "\n",
    "scatter = ax.scatter(df_.gdp / 1e9, df_['Homicide by firearm rate per 100,000 pop'])\n",
    "ax.errorbar(df_.gdp / 1e9, df_['Homicide by firearm rate per 100,000 pop'], \n",
    "            yerr = np.sqrt(df_['Homicide by firearm rate per 100,000 pop'] * 1.0), fmt = '.')\n",
    "ax.set_xlabel(\"GDP (in billions)\")\n",
    "ax.set_ylabel(\"Homocide by Firearm per 100,000 people\")\n",
    "ax.set_title(\"Homocides by Firearm vs. GDP\")\n",
    "ax.set_ylim()\n",
    "pl.show()\n",
    "print (\"Number of homicides by firearm per 100,000 people vs GDP, \" + \n",
    "       \"errors represent Poisson statistics.\\n\" + \n",
    "       \"The datapoint to the top right of the plot is the USA, \" + \n",
    "       \"which has both the highest GDP and the highest rate of homicides by firearm per person\")"
   ]
  },
  {
   "cell_type": "markdown",
   "metadata": {},
   "source": [
    "## plot the number of  homicides by fire arm against the number of civilian firearms. plot the  US in a different color\n",
    "with and without errorbars\n"
   ]
  },
  {
   "cell_type": "code",
   "execution_count": 74,
   "metadata": {
    "collapsed": true
   },
   "outputs": [],
   "source": [
    "# Color map\n",
    "color_map = list(range(len(df_['Country'])))\n",
    "color_map = ['red' for elem in color_map]\n",
    "color_map[21] = 'blue'"
   ]
  },
  {
   "cell_type": "code",
   "execution_count": 78,
   "metadata": {},
   "outputs": [
    {
     "data": {
      "image/png": "[encoded data removed]",
      "text/plain": [
       "<matplotlib.figure.Figure at 0xf96a4e0>"
      ]
     },
     "metadata": {},
     "output_type": "display_data"
    },
    {
     "name": "stdout",
     "output_type": "stream",
     "text": [
      "Number of homicides by firearm per 100,000 people vs GDP, errors represent Poisson statistics.\n",
      "The datapoint to the top right of the plot is the USA, which has both the highest GDP and the highest number of homicides by firearm per person.\n",
      "USA in blue, vs. others in red; error bars in gray\n"
     ]
    }
   ],
   "source": [
    "# With error bars\n",
    "# US in yellow - rest in blue\n",
    "# Error bars in green\n",
    "\n",
    "fig = pl.figure(figsize=(10,5)) \n",
    "ax = fig.add_subplot(111)\n",
    "\n",
    "scatter = ax.scatter(df_['Average total all civilian firearms'] / 1e8, df_['Number of homicides by firearm'], c = color_map)\n",
    "ax.errorbar(df_['Average total all civilian firearms'] / 1e8, df_['Number of homicides by firearm'], \n",
    "            yerr = np.sqrt(df_['Number of homicides by firearm'] * 1.0), fmt = '.', c='gray')\n",
    "ax.set_xlabel(\"Total of Civilian Firearms\")\n",
    "ax.set_ylabel(\"Homicides by Firearm\")\n",
    "ax.set_ylim()\n",
    "pl.show()\n",
    "print (\"Number of homicides by firearm per 100,000 people vs GDP, \" + \n",
    "       \"errors represent Poisson statistics.\\n\" + \n",
    "       \"The datapoint to the top right of the plot is the USA, \" + \n",
    "       \"which has both the highest GDP and the highest number of homicides by firearm per person.\\n\" + \n",
    "      \"USA in blue, vs. others in red; error bars in gray\")"
   ]
  },
  {
   "cell_type": "code",
   "execution_count": 80,
   "metadata": {},
   "outputs": [
    {
     "data": {
      "image/png": "[encoded data removed]",
      "text/plain": [
       "<matplotlib.figure.Figure at 0xdf9b438>"
      ]
     },
     "metadata": {},
     "output_type": "display_data"
    },
    {
     "name": "stdout",
     "output_type": "stream",
     "text": [
      "Number of homicides by firearm per 100,000 people vs GDP, errors represent Poisson statistics.\n",
      "The datapoint to the top right of the plot is the USA, which has both the highest GDP and the highest number of homicides by firearm per person.\n",
      "USA in blue, vs. others in red\n"
     ]
    }
   ],
   "source": [
    "# Without error bars\n",
    "# US in yellow\n",
    "\n",
    "fig = pl.figure(figsize=(10,5)) \n",
    "ax = fig.add_subplot(111)\n",
    "\n",
    "scatter = ax.scatter(df_['Average total all civilian firearms'], df_['Number of homicides by firearm'], c = color_map)\n",
    "ax.set_xlabel(\"Total of Civilian Firearms\")\n",
    "ax.set_ylabel(\"Homicides by Firearm\")\n",
    "ax.set_ylim()\n",
    "pl.show()\n",
    "print (\"Number of homicides by firearm per 100,000 people vs GDP, \" + \n",
    "       \"errors represent Poisson statistics.\\n\" + \n",
    "       \"The datapoint to the top right of the plot is the USA, \" + \n",
    "       \"which has both the highest GDP and the highest number of homicides by firearm per person.\\n\" + \n",
    "      \"USA in blue, vs. others in red\")\n"
   ]
  },
  {
   "cell_type": "markdown",
   "metadata": {},
   "source": [
    "## plot the number of  mass shootings against the number of civilian firearms. plot the  US in a different color\n",
    "with and without errorbars\n"
   ]
  },
  {
   "cell_type": "code",
   "execution_count": 83,
   "metadata": {},
   "outputs": [
    {
     "data": {
      "image/png": "[encoded data removed]",
      "text/plain": [
       "<matplotlib.figure.Figure at 0xf112f60>"
      ]
     },
     "metadata": {},
     "output_type": "display_data"
    },
    {
     "name": "stdout",
     "output_type": "stream",
     "text": [
      "Number of homicides by firearm per 100,000 people vs GDP, errors represent Poisson statistics.\n",
      "The datapoint to the top right of the plot is the USA, which has both the highest GDP and the highest number of homicides by firearm per person.\n",
      "USA in blue, vs. others in red; error bars in gray\n"
     ]
    }
   ],
   "source": [
    "# With error bars \n",
    "\n",
    "fig = pl.figure(figsize=(10,5)) \n",
    "ax = fig.add_subplot(111)\n",
    "\n",
    "scatter = ax.scatter(df_['Average total all civilian firearms'], df_['Number of mass shootings'], c = color_map)\n",
    "ax.errorbar(df_['Average total all civilian firearms'], df_['Number of mass shootings'], \n",
    "            yerr = np.sqrt(df_['Number of mass shootings'] * 1.0), fmt = '.', c='gray')\n",
    "ax.set_xlabel(\"Total of Civilian Firearms\")\n",
    "ax.set_ylabel(\"Number of mass shootings\")\n",
    "ax.set_ylim()\n",
    "pl.show()\n",
    "print (\"Number of homicides by firearm per 100,000 people vs GDP, \" + \n",
    "       \"errors represent Poisson statistics.\\n\" + \n",
    "       \"The datapoint to the top right of the plot is the USA, \" + \n",
    "       \"which has both the highest GDP and the highest number of homicides by firearm per person.\\n\" + \n",
    "      \"USA in blue, vs. others in red; error bars in gray\")"
   ]
  },
  {
   "cell_type": "code",
   "execution_count": 84,
   "metadata": {},
   "outputs": [
    {
     "data": {
      "image/png": "[encoded data removed]",
      "text/plain": [
       "<matplotlib.figure.Figure at 0xf079438>"
      ]
     },
     "metadata": {},
     "output_type": "display_data"
    },
    {
     "name": "stdout",
     "output_type": "stream",
     "text": [
      "Number of homicides by firearm per 100,000 people vs GDP, errors represent Poisson statistics.\n",
      "The datapoint to the top right of the plot is the USA, which has both the highest GDP and the highest number of homicides by firearm per person.\n",
      "USA in blue, vs. others in red\n"
     ]
    }
   ],
   "source": [
    "# Without error bars \n",
    "\n",
    "fig = pl.figure(figsize=(10,5)) \n",
    "ax = fig.add_subplot(111)\n",
    "\n",
    "scatter = ax.scatter(df_['Average total all civilian firearms'], df_['Number of mass shootings'], c = color_map)\n",
    "ax.set_xlabel(\"Total of Civilian Firearms\")\n",
    "ax.set_ylabel(\"Number of mass shootings\")\n",
    "ax.set_ylim()\n",
    "pl.show()\n",
    "print (\"Number of homicides by firearm per 100,000 people vs GDP, \" + \n",
    "       \"errors represent Poisson statistics.\\n\" + \n",
    "       \"The datapoint to the top right of the plot is the USA, \" + \n",
    "       \"which has both the highest GDP and the highest number of homicides by firearm per person.\\n\" + \n",
    "      \"USA in blue, vs. others in red\")"
   ]
  },
  {
   "cell_type": "markdown",
   "metadata": {},
   "source": [
    "# Modeling\n",
    "\n",
    "## fit a line to the Number of mass shootings  per person as a function of Average total all civilian firearms per person. \n",
    "Before you do it it is a good idea to make sure that both quantities are roughly of the same order of magnitude (unity). (You can simply divide by the order of magnitude of the mean of the sample to obtain this). Use\n",
    "\n",
    "    - statsmodels OLS\n",
    "    - statsmodels WLS\n",
    "    - seaborn\n",
    "    - choose one of\n",
    "        -- creating a function that calculates the residuals and minimizing that function\n",
    "        -- analytical solution http://mathworld.wolfram.com/LeastSquaresFitting.html\n",
    "        -- numpy.polyfit() - https://docs.scipy.org/doc/numpy-1.13.0/reference/generated/numpy.polyfit.html\n",
    "    \n",
    "\n",
    "WLS: that is the weighted square fit. The statsmodel package WLS function allows you to take the uncertainties of each data point into account when you fit your model. It takes the parameter weights, which is the inverse of your errors:\n",
    "weights = 1.0/df.yerror\n",
    "Notice that \n",
    "    a - sqrt(0) = 0\n",
    "    b - 1/0 = infinity\n",
    "    c - you cannot have weight that are infinity in your fit. Please come up with a solution and justify it.\n",
    "\n",
    "\n",
    "the latter three you can learn about in this example: https://github.com/fedhere/PUI2017_fb55/blob/master/Lab5_fb55/genderIncomeBias.ipynb\n",
    "Since we did not discuss these, I will add some notes to the repo in the afternoon.\n",
    "\n",
    "Use the seaborn python package built in regression function  to plot the regression confidence intervals. \n",
    "\n",
    "import seaborn  as sns\n",
    "sns.regplot(x=\"x\", y=\"y\", data=df);\n",
    "\n",
    "\n"
   ]
  },
  {
   "cell_type": "code",
   "execution_count": 105,
   "metadata": {},
   "outputs": [
    {
     "data": {
      "image/png": "[encoded data removed]",
      "text/plain": [
       "<matplotlib.figure.Figure at 0xebbb0f0>"
      ]
     },
     "metadata": {},
     "output_type": "display_data"
    }
   ],
   "source": [
    "fig = pl.figure(figsize=(5,5)) \n",
    "ax = fig.add_subplot(111)\n",
    "\n",
    "scatter = ax.scatter(df_['Average firearms per 100 people']/100, df_['Number of mass shootings']/df_['pop'] * 10000000)\n",
    "ax.set_xlabel(\"Average firearms per 100 people\")\n",
    "ax.set_ylabel(\"Number of mass shootings per person\")\n",
    "ax.set_ylim()\n",
    "pl.show()"
   ]
  },
  {
   "cell_type": "markdown",
   "metadata": {},
   "source": [
    "<b>Figure 1</b>: My simple plot of firearms per person against mass shootings per person, no regression."
   ]
  },
  {
   "cell_type": "code",
   "execution_count": 106,
   "metadata": {
    "collapsed": true
   },
   "outputs": [],
   "source": [
    "lin_model = sm.OLS(endog=df_['Number of mass shootings']/df_['pop'] * 10000000,\n",
    "                   exog=sm.add_constant(df_['Average firearms per 100 people']/100)).fit()"
   ]
  },
  {
   "cell_type": "code",
   "execution_count": 108,
   "metadata": {},
   "outputs": [
    {
     "data": {
      "image/png": "[encoded data removed]",
      "text/plain": [
       "<matplotlib.figure.Figure at 0xf9724e0>"
      ]
     },
     "metadata": {},
     "output_type": "display_data"
    },
    {
     "name": "stdout",
     "output_type": "stream",
     "text": [
      "Figure showing results of OLS regression using Statsmodels.\n"
     ]
    }
   ],
   "source": [
    "# Setting up OLS\n",
    "\n",
    "lin_model = sm.OLS(endog=df_['Number of mass shootings']/df_['pop'] * 10000000,\n",
    "                   exog=sm.add_constant(df_['Average firearms per 100 people']/100)).fit()\n",
    "lm = lin_model.fittedvalues\n",
    "\n",
    "fig = pl.figure(figsize=(5,5)) \n",
    "ax = fig.add_subplot(111)\n",
    "\n",
    "pl.plot(df_['Average firearms per 100 people']/100, df_['Number of mass shootings']/df_['pop'] * 10000000, '.')\n",
    "pl.plot(df_['Average firearms per 100 people']/100,lm, '-', label='OLS fit')\n",
    "ax.set_xlabel(\"Average firearms per 100 people\")\n",
    "ax.set_ylabel(\"Number of mass shootings per person\")\n",
    "pl.legend()\n",
    "pl.show()\n",
    "print(\"Figure showing results of OLS regression using Statsmodels.\")"
   ]
  },
  {
   "cell_type": "code",
   "execution_count": 109,
   "metadata": {
    "collapsed": true
   },
   "outputs": [],
   "source": [
    "yerror = np.abs(np.sqrt(df_['Number of mass shootings']/df_['pop'] * 10000000))"
   ]
  },
  {
   "cell_type": "code",
   "execution_count": 113,
   "metadata": {},
   "outputs": [
    {
     "data": {
      "image/png": "[encoded data removed]",
      "text/plain": [
       "<matplotlib.figure.Figure at 0x10d2fe10>"
      ]
     },
     "metadata": {},
     "output_type": "display_data"
    },
    {
     "name": "stdout",
     "output_type": "stream",
     "text": [
      "Figure showing both WLS and OLS regression using Statsmodels\n"
     ]
    }
   ],
   "source": [
    "# Setting up WLS\n",
    "# Create yerror\n",
    "yerror = np.abs(np.sqrt(df_['Number of mass shootings']/df_['pop'] * 10000000))\n",
    "\n",
    "# Handle 0.0 results by mapping them to 1.0 (\"neutral weight\")\n",
    "yerror2 = np.where(yerror==0.0, 1.0, yerror)\n",
    "\n",
    "lin_model_2 = sm.WLS(endog=df_['Number of mass shootings']/df_['pop'] * 10000000, \n",
    "                     exog=sm.add_constant(df_['Average firearms per 100 people']/100), weights = 1/yerror2).fit()\n",
    "\n",
    "lm2 = lin_model_2.fittedvalues\n",
    "\n",
    "#Plot OLS and WLS\n",
    "fig = pl.figure(figsize=(5,5)) \n",
    "ax = fig.add_subplot(111)\n",
    "\n",
    "pl.plot(df_['Average firearms per 100 people']/100, df_['Number of mass shootings']/df_['pop'] * 10000000, '.')\n",
    "pl.errorbar(df_['Average firearms per 100 people']/100, df_['Number of mass shootings']/df_['pop'] * 10000000, \n",
    "            yerr = np.sqrt(df_['Number of mass shootings']/df_['pop'] * 10000000), fmt = '.', label = 'y', c = 'steelblue')\n",
    "pl.plot(df_['Average firearms per 100 people']/100,lm, '-', label='OLS fit')\n",
    "pl.plot(df_['Average firearms per 100 people']/100,lm2, '-', label='WLS fit')\n",
    "ax.set_xlabel(\"Average firearms per 100 people\")\n",
    "ax.set_ylabel(\"Number of mass shootings per person\")\n",
    "pl.legend()\n",
    "\n",
    "pl.show()\n",
    "print(\"Figure showing both WLS and OLS regression using Statsmodels\")"
   ]
  },
  {
   "cell_type": "code",
   "execution_count": 56,
   "metadata": {
    "ExecuteTime": {
     "end_time": "2017-10-12T16:35:12.472517",
     "start_time": "2017-10-12T16:35:11.345016"
    },
    "scrolled": true
   },
   "outputs": [
    {
     "data": {
      "image/png": "[encoded data removed]",
      "text/plain": [
       "<matplotlib.figure.Figure at 0xe4f3e80>"
      ]
     },
     "metadata": {},
     "output_type": "display_data"
    },
    {
     "name": "stdout",
     "output_type": "stream",
     "text": [
      "Figure shows Seaborn regression analysis of the variables\n"
     ]
    }
   ],
   "source": [
    "# Seaborn setup and plot\n",
    "import seaborn as sns; sns.set(color_codes=True)\n",
    "\n",
    "df_['MS per person'] = df_['Number of mass shootings']/df_['pop'] * 10000000\n",
    "df_['FA per person'] = df_['Average firearms per 100 people']/100\n",
    "\n",
    "fig = pl.figure(figsize=(5,5)) \n",
    "ax = fig.add_subplot(111)\n",
    "\n",
    "ax = sns.regplot(x=\"FA per person\", y=\"MS per person\", data=df_)\n",
    "ax.set_xlabel(\"Average firearms per 100 people\")\n",
    "ax.set_ylabel(\"Number of mass shootings per person\")\n",
    "\n",
    "pl.show()\n",
    "print(\"Figure shows Seaborn regression analysis of the variables\")"
   ]
  },
  {
   "cell_type": "code",
   "execution_count": 58,
   "metadata": {},
   "outputs": [
    {
     "data": {
      "image/png": "[encoded data removed]",
      "text/plain": [
       "<matplotlib.figure.Figure at 0xdc954a8>"
      ]
     },
     "metadata": {},
     "output_type": "display_data"
    },
    {
     "name": "stdout",
     "output_type": "stream",
     "text": [
      "Figure with numpy.polyfit regression line\n"
     ]
    }
   ],
   "source": [
    "# Setting up numpy.polyfit based on example from https://github.com/fedhere/PUI2017_fb55/blob/master/Lab5_fb55/genderIncomeBias.ipynb\n",
    "m, b = np.polyfit(df_['Average firearms per 100 people']/100, df_['Number of mass shootings']/df_['pop'] * 10000000, 1) \n",
    "\n",
    "fig = pl.figure(figsize=(5,5)) \n",
    "ax = fig.add_subplot(111)\n",
    "\n",
    "pl.plot(df_['Average firearms per 100 people']/100, df_['Number of mass shootings']/df_['pop'] * 10000000, '.')\n",
    "pl.plot(df_['Average firearms per 100 people']/100, df_['Average firearms per 100 people']/100 * m + b, '-.', \n",
    "        label='numpy polyfit')\n",
    "ax.set_xlabel(\"Average firearms per 100 people\")\n",
    "ax.set_ylabel(\"Number of mass shootings per person\")\n",
    "pl.legend()\n",
    "\n",
    "pl.show()\n",
    "print(\"Figure with numpy.polyfit regression line\")"
   ]
  },
  {
   "cell_type": "markdown",
   "metadata": {},
   "source": [
    "## Use the stsatsmodels.gaphics package to plot the influence plot. \n",
    "Read the package documentation to learn how to read this plot and extract the countries with the highest influence\n",
    "\n",
    "This is the topic of this week's assigned reading, so make sure you do the reading before you do this step. It will help you interpret the plot."
   ]
  },
  {
   "cell_type": "code",
   "execution_count": 59,
   "metadata": {
    "ExecuteTime": {
     "end_time": "2017-10-11T07:46:21.766085",
     "start_time": "2017-10-11T07:46:21.412498"
    },
    "scrolled": true
   },
   "outputs": [
    {
     "data": {
      "image/png": "[encoded data removed]",
      "text/plain": [
       "<matplotlib.figure.Figure at 0xe856048>"
      ]
     },
     "metadata": {},
     "output_type": "display_data"
    }
   ],
   "source": [
    "sm.graphics.influence_plot(lin_model, alpha  = 0.05, criterion=\"cooks\");"
   ]
  },
  {
   "cell_type": "markdown",
   "metadata": {},
   "source": [
    "## Discuss your findings"
   ]
  },
  {
   "cell_type": "markdown",
   "metadata": {},
   "source": [
    "The values that stand out from the influence plot are indexes 14 and 21 (New Zealand and the United States, respectively). The x-axis represents the residuals for the value, and the y-axis represents the H-leverage, a measure of the influence of the value on the model. Finally, the bubble size represents Cook's distance, another measure of a value's influence on the analysis. This influence plot attests further to the significance of the United States, both on the values of the OLS regression model and as a strong influence in the data set. New Zealand also stands out strongly as a nation with a small population and outsize (albeit small) number of shootings."
   ]
  },
  {
   "cell_type": "code",
   "execution_count": null,
   "metadata": {
    "collapsed": true
   },
   "outputs": [],
   "source": []
  }
 ],
 "metadata": {
  "anaconda-cloud": {},
  "kernelspec": {
   "display_name": "Python 2",
   "language": "python",
   "name": "python2"
  },
  "language_info": {
   "codemirror_mode": {
    "name": "ipython",
    "version": 2
   },
   "file_extension": ".py",
   "mimetype": "text/x-python",
   "name": "python",
   "nbconvert_exporter": "python",
   "pygments_lexer": "ipython2",
   "version": "2.7.13"
  },
  "latex_envs": {
   "LaTeX_envs_menu_present": true,
   "bibliofile": "biblio.bib",
   "cite_by": "apalike",
   "current_citInitial": 1,
   "eqLabelWithNumbers": true,
   "eqNumInitial": 1,
   "hotkeys": {
    "equation": "Ctrl-E",
    "itemize": "Ctrl-I"
   },
   "labels_anchors": false,
   "latex_user_defs": false,
   "report_style_numbering": false,
   "user_envs_cfg": false
  },
  "toc": {
   "colors": {
    "hover_highlight": "#DAA520",
    "running_highlight": "#FF0000",
    "selected_highlight": "#FFD700"
   },
   "moveMenuLeft": true,
   "nav_menu": {
    "height": "13px",
    "width": "251px"
   },
   "navigate_menu": true,
   "number_sections": true,
   "sideBar": true,
   "threshold": 4,
   "toc_cell": true,
   "toc_section_display": "block",
   "toc_window_display": true
  }
 },
 "nbformat": 4,
 "nbformat_minor": 1
}
