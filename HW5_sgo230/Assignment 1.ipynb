{
 "cells": [
  {
   "cell_type": "code",
   "execution_count": 6,
   "metadata": {},
   "outputs": [
    {
     "name": "stdout",
     "output_type": "stream",
     "text": [
      "Populating the interactive namespace from numpy and matplotlib\n"
     ]
    }
   ],
   "source": [
    "import numpy as np\n",
    "import pylab as pl\n",
    "import scipy.stats as st\n",
    "%pylab inline"
   ]
  },
  {
   "cell_type": "code",
   "execution_count": 20,
   "metadata": {},
   "outputs": [
    {
     "name": "stdout",
     "output_type": "stream",
     "text": [
      "Chi-squared sample mean: 19.302\n",
      "Chi-squared standard deviation: 12.771\n"
     ]
    }
   ],
   "source": [
    "# Generate single chi-squared distribution with mean ~19 and standard deviation ~13\n",
    "np.random.seed(999)\n",
    "chi2 = st.chi2.rvs(1, loc=10, scale=10, size=1000)\n",
    "print(\"Chi-squared sample mean: {:.3f}\").format(chi2.mean())\n",
    "print(\"Chi-squared standard deviation: {:.3f}\".format(chi2.std()))"
   ]
  },
  {
   "cell_type": "code",
   "execution_count": 53,
   "metadata": {},
   "outputs": [
    {
     "data": {
      "text/plain": [
       "<matplotlib.text.Text at 0xa85ea90>"
      ]
     },
     "execution_count": 53,
     "metadata": {},
     "output_type": "execute_result"
    },
    {
     "data": {
      "image/png": "[encoded data removed]",
      "text/plain": [
       "<matplotlib.figure.Figure at 0x9c73048>"
      ]
     },
     "metadata": {},
     "output_type": "display_data"
    }
   ],
   "source": [
    "# Plot my sample distribution\n",
    "plt.hist(chi2)\n",
    "plt.xlabel('Sample Value')\n",
    "plt.ylabel('Frequency')\n",
    "plt.title('Histogram of 1 Chi-Squared Distribution Sample')"
   ]
  },
  {
   "cell_type": "markdown",
   "metadata": {},
   "source": [
    "<b>Figure 1</b>: Histogram of sample values from a single chi-squared sample with size of 1000"
   ]
  },
  {
   "cell_type": "code",
   "execution_count": 45,
   "metadata": {},
   "outputs": [
    {
     "data": {
      "text/plain": [
       "19.969411117151836"
      ]
     },
     "execution_count": 45,
     "metadata": {},
     "output_type": "execute_result"
    }
   ],
   "source": [
    "# Calculate mean for each\n",
    "y = np.zeros(1000)\n",
    "for i in range(1000):\n",
    "    y[i] = st.chi2.rvs(1, loc=10, scale=10, size=100).mean()\n",
    "y.mean()"
   ]
  },
  {
   "cell_type": "code",
   "execution_count": 46,
   "metadata": {},
   "outputs": [],
   "source": [
    "# Generate 100 samples and plot histogram\n",
    "a = st.chi2.rvs(1, loc=10, scale=10, size=1000)\n",
    "\n",
    "for elem in range(100):\n",
    "    b = st.chi2.rvs(1, loc=10, scale=10, size=1000)\n",
    "    a = np.append(a,b)"
   ]
  },
  {
   "cell_type": "code",
   "execution_count": 52,
   "metadata": {
    "scrolled": true
   },
   "outputs": [
    {
     "data": {
      "text/plain": [
       "<matplotlib.text.Text at 0xa198f98>"
      ]
     },
     "execution_count": 52,
     "metadata": {},
     "output_type": "execute_result"
    },
    {
     "data": {
      "image/png": "[encoded data removed]",
      "text/plain": [
       "<matplotlib.figure.Figure at 0xa216470>"
      ]
     },
     "metadata": {},
     "output_type": "display_data"
    }
   ],
   "source": [
    "pl.hist(a)\n",
    "pl.xlabel(\"Sample Value\")\n",
    "pl.ylabel(\"Frequency\")\n",
    "pl.title(\"Histogram of 1000 Chi-Squared Samples\")"
   ]
  },
  {
   "cell_type": "markdown",
   "metadata": {},
   "source": [
    "<b>Figure 2</b>: Histogram of sample values from a 1000 chi-squared samples with size of 1000"
   ]
  },
  {
   "cell_type": "code",
   "execution_count": 30,
   "metadata": {
    "collapsed": true
   },
   "outputs": [],
   "source": [
    "# Create function to get z-score with default mean and std parameters from before\n",
    "def calculate_z(distribution, pop_mean=20, pop_std_dev=14.1):\n",
    "    z = np.sqrt(len(distribution)) * (pop_mean - distribution.mean()) / pop_std_dev\n",
    "    return z"
   ]
  },
  {
   "cell_type": "code",
   "execution_count": 32,
   "metadata": {
    "collapsed": true
   },
   "outputs": [],
   "source": [
    "# Run 1000 samples and get z-score\n",
    "z = np.zeros(1000)\n",
    "for i in range(1000):\n",
    "    z[i] = calculate_z(st.chi2.rvs(1, loc=10, scale=10, size=100))"
   ]
  },
  {
   "cell_type": "code",
   "execution_count": 56,
   "metadata": {},
   "outputs": [
    {
     "data": {
      "text/plain": [
       "<matplotlib.text.Text at 0xd0ff6d8>"
      ]
     },
     "execution_count": 56,
     "metadata": {},
     "output_type": "execute_result"
    },
    {
     "data": {
      "image/png": "[encoded data removed]",
      "text/plain": [
       "<matplotlib.figure.Figure at 0xcdfafd0>"
      ]
     },
     "metadata": {},
     "output_type": "display_data"
    }
   ],
   "source": [
    "# Plot distribution of z-scores\n",
    "pl.hist(z)\n",
    "pl.xlabel('Z-score')\n",
    "pl.ylabel('Frequency')\n",
    "pl.title('Histogram of z-scores from 1000 samples')"
   ]
  },
  {
   "cell_type": "markdown",
   "metadata": {},
   "source": [
    "<b>Figure 2</b>: Histogram of z-scores from 1000 samples showing Gaussian distribution"
   ]
  },
  {
   "cell_type": "code",
   "execution_count": 34,
   "metadata": {},
   "outputs": [
    {
     "name": "stdout",
     "output_type": "stream",
     "text": [
      "Z-score mean: -0.0379\n",
      "Z-score standard deviation: 1.0103\n"
     ]
    }
   ],
   "source": [
    "print(\"Z-score mean: {:.4f}\".format(z.mean()))\n",
    "print(\"Z-score standard deviation: {:.4f}\".format(z.std()))"
   ]
  },
  {
   "cell_type": "markdown",
   "metadata": {},
   "source": [
    "<b>Observation</b>: Distribution of z-scores and test statistics above reflect a standard Gaussian distribution with a mean of 0 and a standard deviation of 1."
   ]
  },
  {
   "cell_type": "markdown",
   "metadata": {},
   "source": [
    "<b>Next step</b>: Test null hypothesis that the z-score distribution came from a Gaussian distribution at an alpha of 0.05."
   ]
  },
  {
   "cell_type": "code",
   "execution_count": 35,
   "metadata": {},
   "outputs": [
    {
     "data": {
      "text/plain": [
       "KstestResult(statistic=0.025294018453364014, pvalue=0.54435866656299126)"
      ]
     },
     "execution_count": 35,
     "metadata": {},
     "output_type": "execute_result"
    }
   ],
   "source": [
    "# Choosing the KS statistic\n",
    "st.kstest(z, \"norm\")"
   ]
  },
  {
   "cell_type": "markdown",
   "metadata": {},
   "source": [
    "<b>Outcome</b>: P-value of 0.54 exeeds alpha of 0.05, so the null hypothesis that the distribution is Gaussian cannot be rejected."
   ]
  },
  {
   "cell_type": "markdown",
   "metadata": {},
   "source": [
    "<b>Last step - Ignore!!"
   ]
  },
  {
   "cell_type": "code",
   "execution_count": 213,
   "metadata": {
    "collapsed": true
   },
   "outputs": [],
   "source": [
    "z_freq = np.histogram(z,bins=[-3,-2,-1,0,1,2,3])[0]"
   ]
  },
  {
   "cell_type": "code",
   "execution_count": 214,
   "metadata": {
    "collapsed": true
   },
   "outputs": [],
   "source": [
    "np.random.seed(999)\n",
    "rand_freq = np.histogram(np.random.randn(1,1,1000),bins=[-3,-2,-1,0,1,2,3])[0]"
   ]
  },
  {
   "cell_type": "code",
   "execution_count": 215,
   "metadata": {},
   "outputs": [
    {
     "data": {
      "text/plain": [
       "Power_divergenceResult(statistic=8.0960978685010279, pvalue=0.15101840429894828)"
      ]
     },
     "execution_count": 215,
     "metadata": {},
     "output_type": "execute_result"
    }
   ],
   "source": [
    "st.chisquare(z_freq, rand_freq)"
   ]
  },
  {
   "cell_type": "markdown",
   "metadata": {},
   "source": [
    "According to the documentation, the chi-square null hypothesis is that \"the categorical data has the given frequencies\""
   ]
  }
 ],
 "metadata": {
  "kernelspec": {
   "display_name": "Python 2",
   "language": "python",
   "name": "python2"
  },
  "language_info": {
   "codemirror_mode": {
    "name": "ipython",
    "version": 2
   },
   "file_extension": ".py",
   "mimetype": "text/x-python",
   "name": "python",
   "nbconvert_exporter": "python",
   "pygments_lexer": "ipython2",
   "version": "2.7.13"
  }
 },
 "nbformat": 4,
 "nbformat_minor": 2
}
