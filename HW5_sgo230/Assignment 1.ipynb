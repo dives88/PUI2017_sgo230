{
 "cells": [
  {
   "cell_type": "code",
   "execution_count": 59,
   "metadata": {},
   "outputs": [
    {
     "name": "stdout",
     "output_type": "stream",
     "text": [
      "Populating the interactive namespace from numpy and matplotlib\n"
     ]
    }
   ],
   "source": [
    "import numpy as np\n",
    "import pylab as pl\n",
    "import scipy.stats as st\n",
    "%pylab inline"
   ]
  },
  {
   "cell_type": "code",
   "execution_count": 60,
   "metadata": {},
   "outputs": [
    {
     "name": "stdout",
     "output_type": "stream",
     "text": [
      "Chi-squared sample mean: 19.302\n",
      "Chi-squared standard deviation: 12.771\n"
     ]
    }
   ],
   "source": [
    "# Generate single chi-squared distribution with mean ~19 and standard deviation ~13\n",
    "np.random.seed(999)\n",
    "chi2 = st.chi2.rvs(1, loc=10, scale=10, size=1000)\n",
    "print(\"Chi-squared sample mean: {:.3f}\").format(chi2.mean())\n",
    "print(\"Chi-squared standard deviation: {:.3f}\".format(chi2.std()))"
   ]
  },
  {
   "cell_type": "code",
   "execution_count": 61,
   "metadata": {},
   "outputs": [
    {
     "data": {
      "text/plain": [
       "<matplotlib.text.Text at 0xb2522b0>"
      ]
     },
     "execution_count": 61,
     "metadata": {},
     "output_type": "execute_result"
    },
    {
     "data": {
      "image/png": "[encoded data removed]",
      "text/plain": [
       "<matplotlib.figure.Figure at 0xbfbc7f0>"
      ]
     },
     "metadata": {},
     "output_type": "display_data"
    }
   ],
   "source": [
    "# Plot my sample distribution\n",
    "plt.hist(chi2)\n",
    "plt.xlabel('Sample Value')\n",
    "plt.ylabel('Frequency')\n",
    "plt.title('Histogram of 1 Chi-Squared Distribution Sample')"
   ]
  },
  {
   "cell_type": "markdown",
   "metadata": {},
   "source": [
    "<b>Figure 1</b>: Histogram of sample values from a single chi-squared sample with size of 1000"
   ]
  },
  {
   "cell_type": "code",
   "execution_count": 62,
   "metadata": {},
   "outputs": [
    {
     "data": {
      "text/plain": [
       "20.058742365578471"
      ]
     },
     "execution_count": 62,
     "metadata": {},
     "output_type": "execute_result"
    }
   ],
   "source": [
    "# Calculate mean for each\n",
    "y = np.zeros(1000)\n",
    "for i in range(1000):\n",
    "    y[i] = st.chi2.rvs(1, loc=10, scale=10, size=100).mean()\n",
    "y.mean()"
   ]
  },
  {
   "cell_type": "code",
   "execution_count": 63,
   "metadata": {
    "collapsed": true
   },
   "outputs": [],
   "source": [
    "# Generate 100 samples and plot histogram\n",
    "a = st.chi2.rvs(1, loc=10, scale=10, size=1000)\n",
    "\n",
    "for elem in range(100):\n",
    "    b = st.chi2.rvs(1, loc=10, scale=10, size=1000)\n",
    "    a = np.append(a,b)"
   ]
  },
  {
   "cell_type": "code",
   "execution_count": 64,
   "metadata": {
    "scrolled": true
   },
   "outputs": [
    {
     "data": {
      "text/plain": [
       "<matplotlib.text.Text at 0xc429748>"
      ]
     },
     "execution_count": 64,
     "metadata": {},
     "output_type": "execute_result"
    },
    {
     "data": {
      "image/png": "[encoded data removed]",
      "text/plain": [
       "<matplotlib.figure.Figure at 0xa89f518>"
      ]
     },
     "metadata": {},
     "output_type": "display_data"
    }
   ],
   "source": [
    "pl.hist(a)\n",
    "pl.xlabel(\"Sample Value\")\n",
    "pl.ylabel(\"Frequency\")\n",
    "pl.title(\"Histogram of 1000 Chi-Squared Samples\")"
   ]
  },
  {
   "cell_type": "markdown",
   "metadata": {},
   "source": [
    "<b>Figure 2</b>: Histogram of sample values from a 1000 chi-squared samples with size of 1000"
   ]
  },
  {
   "cell_type": "code",
   "execution_count": 65,
   "metadata": {
    "collapsed": true
   },
   "outputs": [],
   "source": [
    "# Create function to get z-score with default mean and std parameters from before\n",
    "def calculate_z(distribution, pop_mean=20, pop_std_dev=14.1):\n",
    "    z = np.sqrt(len(distribution)) * (pop_mean - distribution.mean()) / pop_std_dev\n",
    "    return z"
   ]
  },
  {
   "cell_type": "code",
   "execution_count": 66,
   "metadata": {
    "collapsed": true
   },
   "outputs": [],
   "source": [
    "# Run 1000 samples and get z-score\n",
    "z = np.zeros(1000)\n",
    "for i in range(1000):\n",
    "    z[i] = calculate_z(st.chi2.rvs(1, loc=10, scale=10, size=100))"
   ]
  },
  {
   "cell_type": "code",
   "execution_count": 93,
   "metadata": {
    "scrolled": true
   },
   "outputs": [],
   "source": [
    "# Generate standard normal\n",
    "gaus = np.random.normal(0, 1, 1000) "
   ]
  },
  {
   "cell_type": "code",
   "execution_count": 94,
   "metadata": {},
   "outputs": [
    {
     "data": {
      "image/png": "[encoded data removed]",
      "text/plain": [
       "<matplotlib.figure.Figure at 0xe216400>"
      ]
     },
     "metadata": {},
     "output_type": "display_data"
    }
   ],
   "source": [
    "# Plot distribution of z-scores vs. standard Gaussian distribution\n",
    "pl.hist(z, alpha=0.5, label='Z-score')\n",
    "pl.hist(gaus, alpha=0.5, label='Standard Gaussian')\n",
    "pl.legend()\n",
    "pl.show()"
   ]
  },
  {
   "cell_type": "markdown",
   "metadata": {},
   "source": [
    "<b>Figure 2</b>: Histogram of z-scores from 1000 samples vs. standard Gaussian distribution with 1000 values. Note the similarity in the distribution, both centered on mean=0 and with standard deviation of ~0."
   ]
  },
  {
   "cell_type": "code",
   "execution_count": 34,
   "metadata": {},
   "outputs": [
    {
     "name": "stdout",
     "output_type": "stream",
     "text": [
      "Z-score mean: -0.0379\n",
      "Z-score standard deviation: 1.0103\n"
     ]
    }
   ],
   "source": [
    "print(\"Z-score mean: {:.4f}\".format(z.mean()))\n",
    "print(\"Z-score standard deviation: {:.4f}\".format(z.std()))"
   ]
  },
  {
   "cell_type": "markdown",
   "metadata": {},
   "source": [
    "<b>Observation</b>: Distribution of z-scores and test statistics above reflect a standard Gaussian distribution with a mean of 0 and a standard deviation of 1."
   ]
  },
  {
   "cell_type": "markdown",
   "metadata": {},
   "source": [
    "<b>Next step</b>: Test null hypothesis that the z-score distribution came from a Gaussian distribution at an alpha of 0.05."
   ]
  },
  {
   "cell_type": "code",
   "execution_count": 35,
   "metadata": {},
   "outputs": [
    {
     "data": {
      "text/plain": [
       "KstestResult(statistic=0.025294018453364014, pvalue=0.54435866656299126)"
      ]
     },
     "execution_count": 35,
     "metadata": {},
     "output_type": "execute_result"
    }
   ],
   "source": [
    "# Choosing the KS statistic\n",
    "st.kstest(z, \"norm\")"
   ]
  },
  {
   "cell_type": "markdown",
   "metadata": {},
   "source": [
    "<b>Outcome</b>: P-value of 0.54 exeeds alpha of 0.05, so the null hypothesis that the distribution is Gaussian cannot be rejected."
   ]
  }
 ],
 "metadata": {
  "kernelspec": {
   "display_name": "Python 2",
   "language": "python",
   "name": "python2"
  },
  "language_info": {
   "codemirror_mode": {
    "name": "ipython",
    "version": 2
   },
   "file_extension": ".py",
   "mimetype": "text/x-python",
   "name": "python",
   "nbconvert_exporter": "python",
   "pygments_lexer": "ipython2",
   "version": "2.7.13"
  }
 },
 "nbformat": 4,
 "nbformat_minor": 2
}
