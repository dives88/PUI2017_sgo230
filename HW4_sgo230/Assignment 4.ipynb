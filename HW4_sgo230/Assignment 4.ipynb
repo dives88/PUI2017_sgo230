{
 "cells": [
  {
   "cell_type": "code",
   "execution_count": 752,
   "metadata": {
    "collapsed": false
   },
   "outputs": [
    {
     "name": "stdout",
     "output_type": "stream",
     "text": [
      "Populating the interactive namespace from numpy and matplotlib\n"
     ]
    }
   ],
   "source": [
    "import pylab as pl\n",
    "import pandas as pd\n",
    "import numpy as np\n",
    "import scipy.stats\n",
    "\n",
    "# Needed for data import workaround below\n",
    "import io\n",
    "import urllib2 as urllib\n",
    "\n",
    "# Needed to get station borough\n",
    "import requests\n",
    "from geopy.geocoders import Nominatim\n",
    "geolocator = Nominatim()\n",
    "\n",
    "%pylab inline"
   ]
  },
  {
   "cell_type": "markdown",
   "metadata": {},
   "source": [
    "<b>Note</b>: Throughout this notebook, I will be using a significance level of 0.05"
   ]
  },
  {
   "cell_type": "code",
   "execution_count": 753,
   "metadata": {
    "collapsed": true
   },
   "outputs": [],
   "source": [
    "alpha = 0.05"
   ]
  },
  {
   "cell_type": "markdown",
   "metadata": {},
   "source": [
    "<b>Structure</b>:<br>\n",
    "1. trip duration of bikers that ride during the day vs. night<br>\n",
    "2. age of bikers for trips originating in Manhattan and in Brooklyn"
   ]
  },
  {
   "cell_type": "code",
   "execution_count": 754,
   "metadata": {
    "collapsed": false
   },
   "outputs": [],
   "source": [
    "# Get data\n",
    "\n",
    "# Had issues with compression='zip' in Pandas. Used example here:\n",
    "# https://stackoverflow.com/questions/18885175/read-a-zipped-file-as-a-pandas-dataframe\n",
    "# to work around it\n",
    "\n",
    "# Spring data\n",
    "r = urllib.urlopen('https://s3.amazonaws.com/tripdata/201704-citibike-tripdata.csv.zip')\n",
    "df1 = pd.read_csv(io.BytesIO(r.read()), compression='zip')\n",
    "\n",
    "# Summer data\n",
    "r = urllib.urlopen('https://s3.amazonaws.com/tripdata/201707-citibike-tripdata.csv.zip')\n",
    "df2 = pd.read_csv(io.BytesIO(r.read()), compression='zip', skiprows=0)"
   ]
  },
  {
   "cell_type": "code",
   "execution_count": 755,
   "metadata": {
    "collapsed": false
   },
   "outputs": [],
   "source": [
    "frames = [df1, df2.reset_index(drop=True)]\n",
    "df = pd.concat(frames)\n",
    "df = df.reset_index(drop=True)"
   ]
  },
  {
   "cell_type": "code",
   "execution_count": 756,
   "metadata": {
    "collapsed": false
   },
   "outputs": [],
   "source": [
    "# Prepare columns needed later\n",
    "\n",
    "df['date'] = pd.to_datetime(df['starttime'])\n",
    "df['age'] = 2017 - df['birth year']\n",
    "df['hour'] = df['date'].dt.hour"
   ]
  },
  {
   "cell_type": "code",
   "execution_count": 757,
   "metadata": {
    "collapsed": false,
    "scrolled": true
   },
   "outputs": [
    {
     "data": {
      "text/html": [
       "<div>\n",
       "<table border=\"1\" class=\"dataframe\">\n",
       "  <thead>\n",
       "    <tr style=\"text-align: right;\">\n",
       "      <th></th>\n",
       "      <th>tripduration</th>\n",
       "      <th>starttime</th>\n",
       "      <th>stoptime</th>\n",
       "      <th>start station id</th>\n",
       "      <th>start station name</th>\n",
       "      <th>start station latitude</th>\n",
       "      <th>start station longitude</th>\n",
       "      <th>end station id</th>\n",
       "      <th>end station name</th>\n",
       "      <th>end station latitude</th>\n",
       "      <th>end station longitude</th>\n",
       "      <th>bikeid</th>\n",
       "      <th>usertype</th>\n",
       "      <th>birth year</th>\n",
       "      <th>gender</th>\n",
       "      <th>date</th>\n",
       "      <th>age</th>\n",
       "      <th>hour</th>\n",
       "    </tr>\n",
       "  </thead>\n",
       "  <tbody>\n",
       "    <tr>\n",
       "      <th>0</th>\n",
       "      <td>195</td>\n",
       "      <td>2017-04-01 00:00:58</td>\n",
       "      <td>2017-04-01 00:04:14</td>\n",
       "      <td>217</td>\n",
       "      <td>Old Fulton St</td>\n",
       "      <td>40.703</td>\n",
       "      <td>-73.994</td>\n",
       "      <td>430</td>\n",
       "      <td>York St &amp; Jay St</td>\n",
       "      <td>40.701</td>\n",
       "      <td>-73.987</td>\n",
       "      <td>25454</td>\n",
       "      <td>Subscriber</td>\n",
       "      <td>1966.000</td>\n",
       "      <td>1</td>\n",
       "      <td>2017-04-01 00:00:58</td>\n",
       "      <td>51.000</td>\n",
       "      <td>0</td>\n",
       "    </tr>\n",
       "  </tbody>\n",
       "</table>\n",
       "</div>"
      ],
      "text/plain": [
       "   tripduration            starttime             stoptime  start station id  \\\n",
       "0           195  2017-04-01 00:00:58  2017-04-01 00:04:14               217   \n",
       "\n",
       "  start station name  start station latitude  start station longitude  \\\n",
       "0      Old Fulton St                  40.703                  -73.994   \n",
       "\n",
       "   end station id  end station name  end station latitude  \\\n",
       "0             430  York St & Jay St                40.701   \n",
       "\n",
       "   end station longitude  bikeid    usertype  birth year  gender  \\\n",
       "0                -73.987   25454  Subscriber    1966.000       1   \n",
       "\n",
       "                 date    age  hour  \n",
       "0 2017-04-01 00:00:58 51.000     0  "
      ]
     },
     "execution_count": 757,
     "metadata": {},
     "output_type": "execute_result"
    }
   ],
   "source": [
    "df.head(1)"
   ]
  },
  {
   "cell_type": "markdown",
   "metadata": {},
   "source": [
    "<b>Begin analysis of trip duration for day vs. night</b>"
   ]
  },
  {
   "cell_type": "markdown",
   "metadata": {},
   "source": [
    "<b>Null hypothesis: There is no statistical difference in the duration distribution for daytime and nighttime rides - the samples are drawn from the same population.</b>"
   ]
  },
  {
   "cell_type": "code",
   "execution_count": 758,
   "metadata": {
    "collapsed": false
   },
   "outputs": [],
   "source": [
    "df_day = df"
   ]
  },
  {
   "cell_type": "code",
   "execution_count": 759,
   "metadata": {
    "collapsed": false
   },
   "outputs": [],
   "source": [
    "# Define night as 10 pm - 5 am\n",
    "df_day['duration_day'] = df_day['tripduration'][(df_day['hour'] >= 5) & (df_day['hour'] < 22)]\n",
    "df_day['duration_night'] = df_day['tripduration'][(df_day['hour'] >= 22) | (df_day['hour'] < 5)]"
   ]
  },
  {
   "cell_type": "code",
   "execution_count": 760,
   "metadata": {
    "collapsed": false
   },
   "outputs": [
    {
     "data": {
      "text/html": [
       "<div>\n",
       "<table border=\"1\" class=\"dataframe\">\n",
       "  <thead>\n",
       "    <tr style=\"text-align: right;\">\n",
       "      <th></th>\n",
       "      <th>tripduration</th>\n",
       "      <th>starttime</th>\n",
       "      <th>stoptime</th>\n",
       "      <th>start station id</th>\n",
       "      <th>start station name</th>\n",
       "      <th>start station latitude</th>\n",
       "      <th>start station longitude</th>\n",
       "      <th>end station id</th>\n",
       "      <th>end station name</th>\n",
       "      <th>end station latitude</th>\n",
       "      <th>end station longitude</th>\n",
       "      <th>bikeid</th>\n",
       "      <th>usertype</th>\n",
       "      <th>birth year</th>\n",
       "      <th>gender</th>\n",
       "      <th>date</th>\n",
       "      <th>age</th>\n",
       "      <th>hour</th>\n",
       "      <th>duration_day</th>\n",
       "      <th>duration_night</th>\n",
       "    </tr>\n",
       "  </thead>\n",
       "  <tbody>\n",
       "    <tr>\n",
       "      <th>0</th>\n",
       "      <td>195</td>\n",
       "      <td>2017-04-01 00:00:58</td>\n",
       "      <td>2017-04-01 00:04:14</td>\n",
       "      <td>217</td>\n",
       "      <td>Old Fulton St</td>\n",
       "      <td>40.703</td>\n",
       "      <td>-73.994</td>\n",
       "      <td>430</td>\n",
       "      <td>York St &amp; Jay St</td>\n",
       "      <td>40.701</td>\n",
       "      <td>-73.987</td>\n",
       "      <td>25454</td>\n",
       "      <td>Subscriber</td>\n",
       "      <td>1966.000</td>\n",
       "      <td>1</td>\n",
       "      <td>2017-04-01 00:00:58</td>\n",
       "      <td>51.000</td>\n",
       "      <td>0</td>\n",
       "      <td>nan</td>\n",
       "      <td>195.000</td>\n",
       "    </tr>\n",
       "  </tbody>\n",
       "</table>\n",
       "</div>"
      ],
      "text/plain": [
       "   tripduration            starttime             stoptime  start station id  \\\n",
       "0           195  2017-04-01 00:00:58  2017-04-01 00:04:14               217   \n",
       "\n",
       "  start station name  start station latitude  start station longitude  \\\n",
       "0      Old Fulton St                  40.703                  -73.994   \n",
       "\n",
       "   end station id  end station name  end station latitude  \\\n",
       "0             430  York St & Jay St                40.701   \n",
       "\n",
       "   end station longitude  bikeid    usertype  birth year  gender  \\\n",
       "0                -73.987   25454  Subscriber    1966.000       1   \n",
       "\n",
       "                 date    age  hour  duration_day  duration_night  \n",
       "0 2017-04-01 00:00:58 51.000     0           nan         195.000  "
      ]
     },
     "execution_count": 760,
     "metadata": {},
     "output_type": "execute_result"
    }
   ],
   "source": [
    "df_day.head(1)"
   ]
  },
  {
   "cell_type": "code",
   "execution_count": 761,
   "metadata": {
    "collapsed": false
   },
   "outputs": [
    {
     "data": {
      "text/html": [
       "<div>\n",
       "<table border=\"1\" class=\"dataframe\">\n",
       "  <thead>\n",
       "    <tr style=\"text-align: right;\">\n",
       "      <th></th>\n",
       "      <th>tripduration</th>\n",
       "      <th>start station id</th>\n",
       "      <th>start station latitude</th>\n",
       "      <th>start station longitude</th>\n",
       "      <th>end station id</th>\n",
       "      <th>end station latitude</th>\n",
       "      <th>end station longitude</th>\n",
       "      <th>bikeid</th>\n",
       "      <th>birth year</th>\n",
       "      <th>gender</th>\n",
       "      <th>age</th>\n",
       "      <th>hour</th>\n",
       "      <th>duration_day</th>\n",
       "      <th>duration_night</th>\n",
       "    </tr>\n",
       "  </thead>\n",
       "  <tbody>\n",
       "    <tr>\n",
       "      <th>count</th>\n",
       "      <td>3051003.000</td>\n",
       "      <td>3051003.000</td>\n",
       "      <td>3051003.000</td>\n",
       "      <td>3051003.000</td>\n",
       "      <td>3051003.000</td>\n",
       "      <td>3051003.000</td>\n",
       "      <td>3051003.000</td>\n",
       "      <td>3051003.000</td>\n",
       "      <td>2653735.000</td>\n",
       "      <td>3051003.000</td>\n",
       "      <td>2653735.000</td>\n",
       "      <td>3051003.000</td>\n",
       "      <td>2865686.000</td>\n",
       "      <td>185317.000</td>\n",
       "    </tr>\n",
       "    <tr>\n",
       "      <th>mean</th>\n",
       "      <td>1071.232</td>\n",
       "      <td>1341.362</td>\n",
       "      <td>40.736</td>\n",
       "      <td>-73.985</td>\n",
       "      <td>1338.781</td>\n",
       "      <td>40.736</td>\n",
       "      <td>-73.985</td>\n",
       "      <td>23190.309</td>\n",
       "      <td>1979.163</td>\n",
       "      <td>1.092</td>\n",
       "      <td>37.837</td>\n",
       "      <td>14.168</td>\n",
       "      <td>1064.421</td>\n",
       "      <td>1176.561</td>\n",
       "    </tr>\n",
       "    <tr>\n",
       "      <th>std</th>\n",
       "      <td>18602.419</td>\n",
       "      <td>1335.615</td>\n",
       "      <td>0.028</td>\n",
       "      <td>0.017</td>\n",
       "      <td>1335.518</td>\n",
       "      <td>0.037</td>\n",
       "      <td>0.046</td>\n",
       "      <td>4904.144</td>\n",
       "      <td>11.698</td>\n",
       "      <td>0.592</td>\n",
       "      <td>11.698</td>\n",
       "      <td>4.788</td>\n",
       "      <td>18346.058</td>\n",
       "      <td>22192.690</td>\n",
       "    </tr>\n",
       "    <tr>\n",
       "      <th>min</th>\n",
       "      <td>61.000</td>\n",
       "      <td>72.000</td>\n",
       "      <td>40.647</td>\n",
       "      <td>-74.017</td>\n",
       "      <td>72.000</td>\n",
       "      <td>0.000</td>\n",
       "      <td>-74.067</td>\n",
       "      <td>14529.000</td>\n",
       "      <td>1874.000</td>\n",
       "      <td>0.000</td>\n",
       "      <td>16.000</td>\n",
       "      <td>0.000</td>\n",
       "      <td>61.000</td>\n",
       "      <td>61.000</td>\n",
       "    </tr>\n",
       "    <tr>\n",
       "      <th>25%</th>\n",
       "      <td>389.000</td>\n",
       "      <td>359.000</td>\n",
       "      <td>40.718</td>\n",
       "      <td>-73.997</td>\n",
       "      <td>359.000</td>\n",
       "      <td>40.718</td>\n",
       "      <td>-73.997</td>\n",
       "      <td>18490.000</td>\n",
       "      <td>nan</td>\n",
       "      <td>1.000</td>\n",
       "      <td>nan</td>\n",
       "      <td>10.000</td>\n",
       "      <td>nan</td>\n",
       "      <td>nan</td>\n",
       "    </tr>\n",
       "    <tr>\n",
       "      <th>50%</th>\n",
       "      <td>664.000</td>\n",
       "      <td>484.000</td>\n",
       "      <td>40.737</td>\n",
       "      <td>-73.988</td>\n",
       "      <td>484.000</td>\n",
       "      <td>40.737</td>\n",
       "      <td>-73.988</td>\n",
       "      <td>25258.000</td>\n",
       "      <td>nan</td>\n",
       "      <td>1.000</td>\n",
       "      <td>nan</td>\n",
       "      <td>15.000</td>\n",
       "      <td>nan</td>\n",
       "      <td>nan</td>\n",
       "    </tr>\n",
       "    <tr>\n",
       "      <th>75%</th>\n",
       "      <td>1166.000</td>\n",
       "      <td>3137.000</td>\n",
       "      <td>40.755</td>\n",
       "      <td>-73.976</td>\n",
       "      <td>3137.000</td>\n",
       "      <td>40.755</td>\n",
       "      <td>-73.976</td>\n",
       "      <td>27631.000</td>\n",
       "      <td>nan</td>\n",
       "      <td>1.000</td>\n",
       "      <td>nan</td>\n",
       "      <td>18.000</td>\n",
       "      <td>nan</td>\n",
       "      <td>nan</td>\n",
       "    </tr>\n",
       "    <tr>\n",
       "      <th>max</th>\n",
       "      <td>9735948.000</td>\n",
       "      <td>3478.000</td>\n",
       "      <td>40.881</td>\n",
       "      <td>-73.897</td>\n",
       "      <td>3478.000</td>\n",
       "      <td>40.881</td>\n",
       "      <td>0.000</td>\n",
       "      <td>30337.000</td>\n",
       "      <td>2001.000</td>\n",
       "      <td>2.000</td>\n",
       "      <td>143.000</td>\n",
       "      <td>23.000</td>\n",
       "      <td>9735948.000</td>\n",
       "      <td>6624130.000</td>\n",
       "    </tr>\n",
       "  </tbody>\n",
       "</table>\n",
       "</div>"
      ],
      "text/plain": [
       "       tripduration  start station id  start station latitude  \\\n",
       "count   3051003.000       3051003.000             3051003.000   \n",
       "mean       1071.232          1341.362                  40.736   \n",
       "std       18602.419          1335.615                   0.028   \n",
       "min          61.000            72.000                  40.647   \n",
       "25%         389.000           359.000                  40.718   \n",
       "50%         664.000           484.000                  40.737   \n",
       "75%        1166.000          3137.000                  40.755   \n",
       "max     9735948.000          3478.000                  40.881   \n",
       "\n",
       "       start station longitude  end station id  end station latitude  \\\n",
       "count              3051003.000     3051003.000           3051003.000   \n",
       "mean                   -73.985        1338.781                40.736   \n",
       "std                      0.017        1335.518                 0.037   \n",
       "min                    -74.017          72.000                 0.000   \n",
       "25%                    -73.997         359.000                40.718   \n",
       "50%                    -73.988         484.000                40.737   \n",
       "75%                    -73.976        3137.000                40.755   \n",
       "max                    -73.897        3478.000                40.881   \n",
       "\n",
       "       end station longitude      bikeid  birth year      gender         age  \\\n",
       "count            3051003.000 3051003.000 2653735.000 3051003.000 2653735.000   \n",
       "mean                 -73.985   23190.309    1979.163       1.092      37.837   \n",
       "std                    0.046    4904.144      11.698       0.592      11.698   \n",
       "min                  -74.067   14529.000    1874.000       0.000      16.000   \n",
       "25%                  -73.997   18490.000         nan       1.000         nan   \n",
       "50%                  -73.988   25258.000         nan       1.000         nan   \n",
       "75%                  -73.976   27631.000         nan       1.000         nan   \n",
       "max                    0.000   30337.000    2001.000       2.000     143.000   \n",
       "\n",
       "             hour  duration_day  duration_night  \n",
       "count 3051003.000   2865686.000      185317.000  \n",
       "mean       14.168      1064.421        1176.561  \n",
       "std         4.788     18346.058       22192.690  \n",
       "min         0.000        61.000          61.000  \n",
       "25%        10.000           nan             nan  \n",
       "50%        15.000           nan             nan  \n",
       "75%        18.000           nan             nan  \n",
       "max        23.000   9735948.000     6624130.000  "
      ]
     },
     "execution_count": 761,
     "metadata": {},
     "output_type": "execute_result"
    }
   ],
   "source": [
    "df_day.describe()"
   ]
  },
  {
   "cell_type": "code",
   "execution_count": 762,
   "metadata": {
    "collapsed": true
   },
   "outputs": [],
   "source": [
    "# drop NaN values\n",
    "df_day['duration_day'].dropna(inplace= True)\n",
    "df_day['duration_night'].dropna(inplace= True)"
   ]
  },
  {
   "cell_type": "code",
   "execution_count": 764,
   "metadata": {
    "collapsed": false
   },
   "outputs": [
    {
     "data": {
      "text/plain": [
       "<matplotlib.text.Text at 0x7f184aebad10>"
      ]
     },
     "execution_count": 764,
     "metadata": {},
     "output_type": "execute_result"
    },
    {
     "data": {
      "image/png": "[encoded data removed]",
      "text/plain": [
       "<matplotlib.figure.Figure at 0x7f184b2474d0>"
      ]
     },
     "metadata": {},
     "output_type": "display_data"
    },
    {
     "data": {
      "image/png": "[encoded data removed]",
      "text/plain": [
       "<matplotlib.figure.Figure at 0x7f184b20a8d0>"
      ]
     },
     "metadata": {},
     "output_type": "display_data"
    }
   ],
   "source": [
    "#Plot distributions\n",
    "plt.style.use('ggplot')\n",
    "bins = np.arange(0, 3500, 150)\n",
    "axD = df_day.duration_day.groupby(pd.cut(df_day.duration_day, bins)).agg([count_nonzero]).plot(kind='bar', \n",
    "                                                                legend=False, color = 'orange')\n",
    "axD.set_xlabel('Duration (seconds)')\n",
    "axD.set_ylabel('Count of Rides')\n",
    "axD.set_title(\"Daytime riders\")\n",
    "\n",
    "axN = df_day.duration_night.groupby(pd.cut(df_day.duration_night, bins)).agg([count_nonzero]).plot(kind='bar',\n",
    "                                                                legend=False, color = 'black')\n",
    "axN.set_title(\"Nighttime riders\");\n",
    "axN.set_xlabel('Duration (seconds)')\n",
    "axN.set_ylabel('Count of Rides')"
   ]
  },
  {
   "cell_type": "markdown",
   "metadata": {},
   "source": [
    "<b>Figure 1: Histograms of rides by trip duration in seconds for day vs. night</b><br>\n",
    "Note: Current limit on trip duration is 30 minutes, with a charge for every 15 minutes above that; some higher values omitted"
   ]
  },
  {
   "cell_type": "code",
   "execution_count": 765,
   "metadata": {
    "collapsed": false,
    "scrolled": true
   },
   "outputs": [
    {
     "name": "stdout",
     "output_type": "stream",
     "text": [
      "              count_nonzero\n",
      "duration_day               \n",
      "(0, 150]              0.011\n",
      "(150, 300]            0.031\n",
      "(300, 450]            0.037\n",
      "(450, 600]            0.036\n",
      "(600, 750]            0.036\n",
      "(750, 900]            0.035\n",
      "(900, 1050]           0.033\n",
      "(1050, 1200]          0.030\n",
      "(1200, 1350]          0.027\n",
      "(1350, 1500]          0.022\n",
      "(1500, 1650]          0.017\n",
      "(1650, 1800]          0.012\n",
      "(1800, 1950]          0.009\n",
      "(1950, 2100]          0.007\n",
      "(2100, 2250]          0.006\n",
      "(2250, 2400]          0.004\n",
      "(2400, 2550]          0.003\n",
      "(2550, 2700]          0.002\n",
      "(2700, 2850]          0.001\n",
      "(2850, 3000]          0.001\n",
      "(3000, 3150]          0.001\n",
      "(3150, 3300]          0.000\n",
      "(3300, 3450]          0.000\n"
     ]
    }
   ],
   "source": [
    "csD=df_day.duration_day.groupby(pd.cut(df_day.duration_day, bins)).agg([count_nonzero]).cumsum()\n",
    "\n",
    "csN=df_day.duration_night.groupby(pd.cut(df_day.duration_night, bins)).agg([count_nonzero]).cumsum()\n",
    "\n",
    "print (np.abs(csD / csD.max()-csN / csN.max()))"
   ]
  },
  {
   "cell_type": "code",
   "execution_count": 766,
   "metadata": {
    "collapsed": false
   },
   "outputs": [
    {
     "data": {
      "text/plain": [
       "<matplotlib.legend.Legend at 0x7f184accb690>"
      ]
     },
     "execution_count": 766,
     "metadata": {},
     "output_type": "execute_result"
    },
    {
     "data": {
      "image/png": "[encoded data removed]",
      "text/plain": [
       "<matplotlib.figure.Figure at 0x7f184ad69fd0>"
      ]
     },
     "metadata": {},
     "output_type": "display_data"
    }
   ],
   "source": [
    "pl.plot(bins[:-1] + 5, csD / csD.max(), label = \"Day\", color = \"Orange\")\n",
    "pl.plot(bins[:-1] + 5, csN / csN.max(), label = \"Night\", color = \"Black\")\n",
    "pl.plot(bins[:-1] + 5, np.sqrt(csN / csN.max() - csD / csD.max())**2, 'k-',\n",
    "        label = \"Diff\", color = \"red\")\n",
    "pl.title(\"Cumulative Distribution by Duration and Time of Day\")\n",
    "pl.xlabel(\"Trip Duration\")\n",
    "pl.ylabel(\"Cumulative Distributionn\")\n",
    "pl.legend()"
   ]
  },
  {
   "cell_type": "markdown",
   "metadata": {},
   "source": [
    "<b>Figure 2: Cumulative distribution of trip durations by day vs. night</b>"
   ]
  },
  {
   "cell_type": "markdown",
   "metadata": {},
   "source": [
    "<b>Kolmogorov-Smirnov Test</b>"
   ]
  },
  {
   "cell_type": "code",
   "execution_count": 767,
   "metadata": {
    "collapsed": false
   },
   "outputs": [
    {
     "name": "stdout",
     "output_type": "stream",
     "text": [
      "Ks_2sampResult(statistic=0.038959976851647676, pvalue=4.8355100592493917e-230)\n"
     ]
    }
   ],
   "source": [
    "ks = scipy.stats.ks_2samp(df_day.duration_day, df_day.duration_night)\n",
    "print(ks)"
   ]
  },
  {
   "cell_type": "code",
   "execution_count": 594,
   "metadata": {
    "collapsed": false
   },
   "outputs": [
    {
     "name": "stdout",
     "output_type": "stream",
     "text": [
      "We reject the null hypothesis.\n",
      "Kolmogorov-Smirnov statistic p-value of 0.0000 is less than my significance level of p = 0.0500.\n",
      "We do not accept that the two sample distributions (day vs. night rides) are significantly the same and were drawn from the same population.\n"
     ]
    }
   ],
   "source": [
    "if ks[1] <= alpha: # My significance level of p = 0.05\n",
    "    print(\"We reject the null hypothesis.\\n\"\\\n",
    "          + \"Kolmogorov-Smirnov statistic p-value of {:.4f} is less than my significance level of p = {:.4f}.\\n\".format(ks[1], alpha)\\\n",
    "          + \"We do not accept that the two sample distributions (day vs. night rides) are significantly the same and were drawn from the same population.\")\n",
    "else:\n",
    "        print(\"We do not reject the null hypothesis.\\n\"\\\n",
    "          + \"Kolmogorov-Smirnov statistic p-value of {:.4f} is greater than my significance level of p = {:.4f}.\\n\".format(ks[1], alpha)\\\n",
    "          + \"We accept that the two samples (day vs. night rides) are significantly the same and were drawn from the same population.\")"
   ]
  },
  {
   "cell_type": "markdown",
   "metadata": {},
   "source": [
    "<b>Now do the same for a 1/200th sample of the dataframe</b>"
   ]
  },
  {
   "cell_type": "code",
   "execution_count": 768,
   "metadata": {
    "collapsed": false
   },
   "outputs": [
    {
     "data": {
      "text/html": [
       "<div>\n",
       "<table border=\"1\" class=\"dataframe\">\n",
       "  <thead>\n",
       "    <tr style=\"text-align: right;\">\n",
       "      <th></th>\n",
       "      <th>tripduration</th>\n",
       "      <th>starttime</th>\n",
       "      <th>stoptime</th>\n",
       "      <th>start station id</th>\n",
       "      <th>start station name</th>\n",
       "      <th>start station latitude</th>\n",
       "      <th>start station longitude</th>\n",
       "      <th>end station id</th>\n",
       "      <th>end station name</th>\n",
       "      <th>end station latitude</th>\n",
       "      <th>end station longitude</th>\n",
       "      <th>bikeid</th>\n",
       "      <th>usertype</th>\n",
       "      <th>birth year</th>\n",
       "      <th>gender</th>\n",
       "      <th>date</th>\n",
       "      <th>age</th>\n",
       "      <th>hour</th>\n",
       "      <th>duration_day</th>\n",
       "      <th>duration_night</th>\n",
       "    </tr>\n",
       "  </thead>\n",
       "  <tbody>\n",
       "    <tr>\n",
       "      <th>1146059</th>\n",
       "      <td>676</td>\n",
       "      <td>2017-04-27 19:36:22</td>\n",
       "      <td>2017-04-27 19:47:38</td>\n",
       "      <td>435</td>\n",
       "      <td>W 21 St &amp; 6 Ave</td>\n",
       "      <td>40.742</td>\n",
       "      <td>-73.994</td>\n",
       "      <td>2003</td>\n",
       "      <td>1 Ave &amp; E 18 St</td>\n",
       "      <td>40.734</td>\n",
       "      <td>-73.981</td>\n",
       "      <td>29371</td>\n",
       "      <td>Subscriber</td>\n",
       "      <td>1985.000</td>\n",
       "      <td>1</td>\n",
       "      <td>2017-04-27 19:36:22</td>\n",
       "      <td>32.000</td>\n",
       "      <td>19</td>\n",
       "      <td>676.000</td>\n",
       "      <td>nan</td>\n",
       "    </tr>\n",
       "    <tr>\n",
       "      <th>757736</th>\n",
       "      <td>661</td>\n",
       "      <td>2017-04-18 16:20:52</td>\n",
       "      <td>2017-04-18 16:31:54</td>\n",
       "      <td>281</td>\n",
       "      <td>Grand Army Plaza &amp; Central Park S</td>\n",
       "      <td>40.764</td>\n",
       "      <td>-73.974</td>\n",
       "      <td>267</td>\n",
       "      <td>Broadway &amp; W 36 St</td>\n",
       "      <td>40.751</td>\n",
       "      <td>-73.988</td>\n",
       "      <td>28923</td>\n",
       "      <td>Subscriber</td>\n",
       "      <td>1979.000</td>\n",
       "      <td>1</td>\n",
       "      <td>2017-04-18 16:20:52</td>\n",
       "      <td>38.000</td>\n",
       "      <td>16</td>\n",
       "      <td>661.000</td>\n",
       "      <td>nan</td>\n",
       "    </tr>\n",
       "  </tbody>\n",
       "</table>\n",
       "</div>"
      ],
      "text/plain": [
       "         tripduration            starttime             stoptime  \\\n",
       "1146059           676  2017-04-27 19:36:22  2017-04-27 19:47:38   \n",
       "757736            661  2017-04-18 16:20:52  2017-04-18 16:31:54   \n",
       "\n",
       "         start station id                 start station name  \\\n",
       "1146059               435                    W 21 St & 6 Ave   \n",
       "757736                281  Grand Army Plaza & Central Park S   \n",
       "\n",
       "         start station latitude  start station longitude  end station id  \\\n",
       "1146059                  40.742                  -73.994            2003   \n",
       "757736                   40.764                  -73.974             267   \n",
       "\n",
       "           end station name  end station latitude  end station longitude  \\\n",
       "1146059     1 Ave & E 18 St                40.734                -73.981   \n",
       "757736   Broadway & W 36 St                40.751                -73.988   \n",
       "\n",
       "         bikeid    usertype  birth year  gender                date    age  \\\n",
       "1146059   29371  Subscriber    1985.000       1 2017-04-27 19:36:22 32.000   \n",
       "757736    28923  Subscriber    1979.000       1 2017-04-18 16:20:52 38.000   \n",
       "\n",
       "         hour  duration_day  duration_night  \n",
       "1146059    19       676.000             nan  \n",
       "757736     16       661.000             nan  "
      ]
     },
     "execution_count": 768,
     "metadata": {},
     "output_type": "execute_result"
    }
   ],
   "source": [
    "# Sample data frame to 1/200th\n",
    "df_day_sample = df_day.sample(len(df_day)/200)\n",
    "df_day_sample.head(2)"
   ]
  },
  {
   "cell_type": "code",
   "execution_count": 769,
   "metadata": {
    "collapsed": false
   },
   "outputs": [
    {
     "name": "stdout",
     "output_type": "stream",
     "text": [
      "Ks_2sampResult(statistic=0.04830454205677365, pvalue=0.03550150580631941)\n"
     ]
    }
   ],
   "source": [
    "ks2 = scipy.stats.ks_2samp(df_day_sample.duration_day[~np.isnan(df_day_sample.duration_day)], \n",
    "                           df_day_sample.duration_night[~np.isnan(df_day_sample.duration_night)])\n",
    "print(ks2)"
   ]
  },
  {
   "cell_type": "code",
   "execution_count": 770,
   "metadata": {
    "collapsed": false,
    "scrolled": true
   },
   "outputs": [
    {
     "name": "stdout",
     "output_type": "stream",
     "text": [
      "We reject the null hypothesis.\n",
      "Kolmogorov-Smirnov statistic p-value of 0.0355 is less than my significance level of p = 0.0500.\n",
      "We do not accept that the two sample distributions (day vs. night rides) are significantly the same and were drawn from the same population.\n"
     ]
    }
   ],
   "source": [
    "if ks2[1] <= alpha: # My significance level of p = 0.05\n",
    "    print(\"We reject the null hypothesis.\\n\"\\\n",
    "          + \"Kolmogorov-Smirnov statistic p-value of {:.4f} is less than my significance level of p = {:.4f}.\\n\".format(ks2[1], alpha)\\\n",
    "          + \"We do not accept that the two sample distributions (day vs. night rides) are significantly the same and were drawn from the same population.\")\n",
    "else:\n",
    "        print(\"We do not reject the null hypothesis.\\n\"\\\n",
    "          + \"Kolmogorov-Smirnov statistic p-value of {:.4f} is more than my significance level of p = {:.4f}.\\n\".format(ks2[1], alpha)\\\n",
    "          + \"We accept that the two samples (day vs. night rides) are significantly the same and were drawn from the same population.\")"
   ]
  },
  {
   "cell_type": "markdown",
   "metadata": {},
   "source": [
    "<b>Pearson's Correlation Test</b>"
   ]
  },
  {
   "cell_type": "markdown",
   "metadata": {},
   "source": [
    "<b>Null hypothesis</b>: The samples of day rides and night rides come from uncorrelated data sets.<br>\n",
    "Again, testing at significance level (alpha) of 0.05."
   ]
  },
  {
   "cell_type": "code",
   "execution_count": 771,
   "metadata": {
    "collapsed": false
   },
   "outputs": [
    {
     "name": "stdout",
     "output_type": "stream",
     "text": [
      "3051003\n",
      "2865686\n",
      "185317\n",
      "15255\n"
     ]
    }
   ],
   "source": [
    "# Verify 1/200 sample is not too small\n",
    "print(len(df_day))\n",
    "print(len(df_day['duration_day']))\n",
    "print(len(df_day['duration_night']))\n",
    "print(len(df_day)/200)"
   ]
  },
  {
   "cell_type": "code",
   "execution_count": 772,
   "metadata": {
    "collapsed": false
   },
   "outputs": [],
   "source": [
    "# 1/200th samples from data frames, taken in as numpy arrays\n",
    "np.random.seed(999)\n",
    "day_array = np.random.choice(df_day['duration_day'], len(df_day)/200, replace=False)\n",
    "night_array = np.random.choice(df_day['duration_night'], len(df_day)/200, replace=False)"
   ]
  },
  {
   "cell_type": "code",
   "execution_count": 773,
   "metadata": {
    "collapsed": false
   },
   "outputs": [],
   "source": [
    "# Sort arrays for Pearson's correlation test\n",
    "day_array = np.sort(day_array)\n",
    "night_array = np.sort(night_array)"
   ]
  },
  {
   "cell_type": "code",
   "execution_count": 774,
   "metadata": {
    "collapsed": false
   },
   "outputs": [
    {
     "name": "stdout",
     "output_type": "stream",
     "text": [
      "(0.92919963546142936, 0.0)\n"
     ]
    }
   ],
   "source": [
    "# Get results\n",
    "r_score = scipy.stats.pearsonr(day_array, night_array)\n",
    "print(r_score)"
   ]
  },
  {
   "cell_type": "code",
   "execution_count": 775,
   "metadata": {
    "collapsed": false
   },
   "outputs": [
    {
     "name": "stdout",
     "output_type": "stream",
     "text": [
      "We reject the null hypothesis.\n",
      "Pearson correlation coefficent p-value of 0.0000 is less than my significance level of p = 0.0500.\n",
      "We do not accept that the two data sets are uncorrelated.\n"
     ]
    }
   ],
   "source": [
    "if r_score[1] <= alpha: # My significance level of p = 0.05\n",
    "    print(\"We reject the null hypothesis.\\n\"\\\n",
    "          + \"Pearson correlation coefficent p-value of {:.4f} is less than my significance level of p = {:.4f}.\\n\".format(r_score[1], alpha)\\\n",
    "          + \"We do not accept that the two data sets are uncorrelated.\")\n",
    "else:\n",
    "        print(\"We do not reject the null hypothesis.\\n\"\\\n",
    "          + \"Pearson correlation coefficent p-value of {:.4f} is more than my significance level of p = {:.4f}.\\n\".format(r_score[1], alpha)\\\n",
    "          + \"We accept that the two data sets are uncorrelated\")"
   ]
  },
  {
   "cell_type": "code",
   "execution_count": 776,
   "metadata": {
    "collapsed": false,
    "scrolled": true
   },
   "outputs": [
    {
     "data": {
      "text/plain": [
       "<matplotlib.text.Text at 0x7f18d19b6f10>"
      ]
     },
     "execution_count": 776,
     "metadata": {},
     "output_type": "execute_result"
    },
    {
     "data": {
      "image/png": "[encoded data removed]",
      "text/plain": [
       "<matplotlib.figure.Figure at 0x7f184ad91d10>"
      ]
     },
     "metadata": {},
     "output_type": "display_data"
    }
   ],
   "source": [
    "plt.scatter(day_array, night_array)\n",
    "plt.title('Day vs. Night Ride Duration Correlation')\n",
    "plt.xlabel('Day Duration')\n",
    "plt.ylabel('Night Duration')"
   ]
  },
  {
   "cell_type": "markdown",
   "metadata": {},
   "source": [
    "<b>Correlation Figure</b>:Simple scatter shows strong correlation between the day and night arrays"
   ]
  },
  {
   "cell_type": "markdown",
   "metadata": {},
   "source": [
    "<b>Spearman's Test for Correlation</b>"
   ]
  },
  {
   "cell_type": "markdown",
   "metadata": {},
   "source": [
    "<b>Null hypothesis</b>: The samples of day rides and night rides come from uncorrelated data sets.<br>\n",
    "Testing at significance level (alpha) of 0.05.\n",
    "<br><br>\n",
    "<i>Using the same null hypothesis (biggest difference between Pearson and Spearman tests seems to be that Spearman's does not assume a normal distrbution)</i>"
   ]
  },
  {
   "cell_type": "code",
   "execution_count": 777,
   "metadata": {
    "collapsed": false,
    "scrolled": false
   },
   "outputs": [
    {
     "name": "stdout",
     "output_type": "stream",
     "text": [
      "SpearmanrResult(correlation=0.99999933630741666, pvalue=0.0)\n"
     ]
    }
   ],
   "source": [
    "# Operating on my same reduced sorted arrays\n",
    "sp = scipy.stats.spearmanr(day_array, night_array)\n",
    "print(sp)"
   ]
  },
  {
   "cell_type": "code",
   "execution_count": 778,
   "metadata": {
    "collapsed": false
   },
   "outputs": [
    {
     "name": "stdout",
     "output_type": "stream",
     "text": [
      "We reject the null hypothesis.\n",
      "Spearman correlation p-value of 0.0000 is less than my significance level of p = 0.0500.\n",
      "We do not accept that the two data sets are uncorrelated.\n"
     ]
    }
   ],
   "source": [
    "if sp[1] <= alpha: # My significance level of p = 0.05\n",
    "    print(\"We reject the null hypothesis.\\n\"\\\n",
    "          + \"Spearman correlation p-value of {:.4f} is less than my significance level of p = {:.4f}.\\n\".format(sp[1], alpha)\\\n",
    "          + \"We do not accept that the two data sets are uncorrelated.\")\n",
    "else:\n",
    "        print(\"We do not reject the null hypothesis.\\n\"\\\n",
    "          + \"Spearman correlation p-value of {:.4f} is more than my significance level of p = {:.4f}.\\n\".format(sp[1], alpha)\\\n",
    "          + \"We accept that the two data sets are uncorrelated\")"
   ]
  },
  {
   "cell_type": "markdown",
   "metadata": {},
   "source": [
    "<b>Let's do it all over again for age of riders by Manhattan vs. Brooklyn</b>"
   ]
  },
  {
   "cell_type": "markdown",
   "metadata": {},
   "source": [
    "<b>Null hypothesis for K-S: There is no statistical difference in the age distribution for Manhattan and Brookiyn riders - the samples are drawn from the same population.</b>"
   ]
  },
  {
   "cell_type": "code",
   "execution_count": 779,
   "metadata": {
    "collapsed": false
   },
   "outputs": [],
   "source": [
    "df_age = df"
   ]
  },
  {
   "cell_type": "code",
   "execution_count": 780,
   "metadata": {
    "collapsed": false
   },
   "outputs": [],
   "source": [
    "# # Get borough name (Manhattan vs. Brooklyn) for stations - not that easy!\n",
    "# # This part is reproducible but very slow so this block is commented out and the result \n",
    "# # dictionary is explicitly passed below\n",
    "\n",
    "# # Get full list of stations from Citibike feed\n",
    "# resp = requests.get('https://feeds.citibikenyc.com/stations/stations.json').json()\n",
    "\n",
    "# # Pass station lat, long to dict\n",
    "# test_dict = {}\n",
    "# for elem in range(len(resp['stationBeanList'])):\n",
    "#     test_dict[resp['stationBeanList'][elem]['id']] = [resp['stationBeanList'][elem]['latitude'],resp['stationBeanList'][elem]['longitude']]\n",
    "\n",
    "# # Use geopy to get county (ie, borough) from lat/long - SLOW operation\n",
    "# final_dict = {}\n",
    "# for elem in test_dict.keys():\n",
    "#     final_dict[elem] = geolocator.reverse(str(test_dict[elem][0]) + \", \" + str(test_dict[elem][1])).raw['address']['county']"
   ]
  },
  {
   "cell_type": "code",
   "execution_count": 781,
   "metadata": {
    "collapsed": true
   },
   "outputs": [],
   "source": [
    "final_dict = {72: u'New York County',\n",
    " 79: u'New York County',\n",
    " 82: u'New York County',\n",
    " 83: u'Kings County',\n",
    " 116: u'New York County',\n",
    " 119: u'Kings County',\n",
    " 120: u'Kings County',\n",
    " 127: u'New York County',\n",
    " 128: u'New York County',\n",
    " 143: u'Kings County',\n",
    " 144: u'Kings County',\n",
    " 146: u'New York County',\n",
    " 150: u'New York County',\n",
    " 151: u'New York County',\n",
    " 152: u'New York County',\n",
    " 153: u'New York County',\n",
    " 157: u'Kings County',\n",
    " 161: u'New York County',\n",
    " 164: u'New York County',\n",
    " 167: u'New York County',\n",
    " 168: u'New York County',\n",
    " 173: u'New York County',\n",
    " 174: u'New York County',\n",
    " 195: u'New York County',\n",
    " 212: u'New York County',\n",
    " 216: u'Kings County',\n",
    " 217: u'Kings County',\n",
    " 223: u'New York County',\n",
    " 228: u'New York County',\n",
    " 229: u'New York County',\n",
    " 232: u'Kings County',\n",
    " 236: u'New York County',\n",
    " 237: u'New York County',\n",
    " 238: u'New York County',\n",
    " 239: u'Kings County',\n",
    " 241: u'Kings County',\n",
    " 242: u'Kings County',\n",
    " 243: u'Kings County',\n",
    " 244: u'Kings County',\n",
    " 245: u'Kings County',\n",
    " 248: u'New York County',\n",
    " 249: u'New York County',\n",
    " 251: u'New York County',\n",
    " 252: u'New York County',\n",
    " 253: u'New York County',\n",
    " 254: u'New York County',\n",
    " 257: u'New York County',\n",
    " 258: u'Kings County',\n",
    " 259: u'New York County',\n",
    " 260: u'New York County',\n",
    " 261: u'Kings County',\n",
    " 262: u'Kings County',\n",
    " 264: u'New York County',\n",
    " 265: u'New York County',\n",
    " 266: u'New York County',\n",
    " 267: u'New York County',\n",
    " 268: u'New York County',\n",
    " 270: u'Kings County',\n",
    " 274: u'Kings County',\n",
    " 275: u'Kings County',\n",
    " 276: u'New York County',\n",
    " 278: u'Kings County',\n",
    " 279: u'New York County',\n",
    " 280: u'New York County',\n",
    " 281: u'New York County',\n",
    " 282: u'Kings County',\n",
    " 284: u'New York County',\n",
    " 285: u'New York County',\n",
    " 289: u'Kings County',\n",
    " 291: u'New York County',\n",
    " 293: u'New York County',\n",
    " 295: u'New York County',\n",
    " 296: u'New York County',\n",
    " 297: u'New York County',\n",
    " 301: u'New York County',\n",
    " 302: u'New York County',\n",
    " 303: u'New York County',\n",
    " 304: u'New York County',\n",
    " 305: u'New York County',\n",
    " 306: u'New York County',\n",
    " 307: u'New York County',\n",
    " 308: u'New York County',\n",
    " 309: u'New York County',\n",
    " 310: u'Kings County',\n",
    " 311: u'New York County',\n",
    " 312: u'New York County',\n",
    " 313: u'Kings County',\n",
    " 314: u'Kings County',\n",
    " 315: u'New York County',\n",
    " 316: u'New York County',\n",
    " 317: u'New York County',\n",
    " 319: u'New York County',\n",
    " 320: u'New York County',\n",
    " 321: u'Kings County',\n",
    " 322: u'Kings County',\n",
    " 323: u'Kings County',\n",
    " 324: u'Kings County',\n",
    " 325: u'New York County',\n",
    " 326: u'New York County',\n",
    " 327: u'New York County',\n",
    " 328: u'New York County',\n",
    " 330: u'New York County',\n",
    " 331: u'New York County',\n",
    " 332: u'New York County',\n",
    " 334: u'New York County',\n",
    " 335: u'New York County',\n",
    " 336: u'New York County',\n",
    " 337: u'New York County',\n",
    " 339: u'New York County',\n",
    " 340: u'New York County',\n",
    " 341: u'New York County',\n",
    " 342: u'New York County',\n",
    " 343: u'Kings County',\n",
    " 344: u'Kings County',\n",
    " 345: u'New York County',\n",
    " 346: u'New York County',\n",
    " 347: u'New York County',\n",
    " 349: u'New York County',\n",
    " 350: u'New York County',\n",
    " 351: u'New York County',\n",
    " 353: u'Kings County',\n",
    " 354: u'Kings County',\n",
    " 355: u'New York County',\n",
    " 356: u'New York County',\n",
    " 357: u'New York County',\n",
    " 358: u'New York County',\n",
    " 359: u'New York County',\n",
    " 360: u'New York County',\n",
    " 361: u'New York County',\n",
    " 362: u'New York County',\n",
    " 363: u'New York County',\n",
    " 364: u'Kings County',\n",
    " 365: u'Kings County',\n",
    " 366: u'Kings County',\n",
    " 368: u'New York County',\n",
    " 369: u'New York County',\n",
    " 372: u'Kings County',\n",
    " 373: u'Kings County',\n",
    " 376: u'New York County',\n",
    " 377: u'New York County',\n",
    " 379: u'New York County',\n",
    " 380: u'New York County',\n",
    " 382: u'New York County',\n",
    " 383: u'New York County',\n",
    " 385: u'New York County',\n",
    " 386: u'New York County',\n",
    " 387: u'New York County',\n",
    " 388: u'New York County',\n",
    " 389: u'Kings County',\n",
    " 390: u'Kings County',\n",
    " 391: u'Kings County',\n",
    " 392: u'Kings County',\n",
    " 393: u'New York County',\n",
    " 394: u'New York County',\n",
    " 396: u'Kings County',\n",
    " 397: u'Kings County',\n",
    " 398: u'Kings County',\n",
    " 399: u'Kings County',\n",
    " 400: u'New York County',\n",
    " 401: u'New York County',\n",
    " 402: u'New York County',\n",
    " 403: u'New York County',\n",
    " 405: u'New York County',\n",
    " 406: u'Kings County',\n",
    " 407: u'Kings County',\n",
    " 408: u'New York County',\n",
    " 409: u'Kings County',\n",
    " 410: u'New York County',\n",
    " 411: u'New York County',\n",
    " 412: u'New York County',\n",
    " 414: u'New York County',\n",
    " 415: u'New York County',\n",
    " 416: u'Kings County',\n",
    " 417: u'New York County',\n",
    " 418: u'Kings County',\n",
    " 419: u'Kings County',\n",
    " 420: u'Kings County',\n",
    " 421: u'Kings County',\n",
    " 422: u'New York County',\n",
    " 423: u'New York County',\n",
    " 426: u'New York County',\n",
    " 427: u'New York County',\n",
    " 428: u'New York County',\n",
    " 430: u'Kings County',\n",
    " 432: u'New York County',\n",
    " 433: u'New York County',\n",
    " 434: u'New York County',\n",
    " 435: u'New York County',\n",
    " 436: u'Kings County',\n",
    " 437: u'Kings County',\n",
    " 438: u'New York County',\n",
    " 439: u'New York County',\n",
    " 440: u'New York County',\n",
    " 441: u'New York County',\n",
    " 442: u'New York County',\n",
    " 443: u'Kings County',\n",
    " 445: u'New York County',\n",
    " 446: u'New York County',\n",
    " 447: u'New York County',\n",
    " 448: u'New York County',\n",
    " 449: u'New York County',\n",
    " 450: u'New York County',\n",
    " 453: u'New York County',\n",
    " 454: u'New York County',\n",
    " 455: u'New York County',\n",
    " 456: u'New York County',\n",
    " 457: u'New York County',\n",
    " 458: u'New York County',\n",
    " 459: u'New York County',\n",
    " 460: u'Kings County',\n",
    " 461: u'New York County',\n",
    " 462: u'New York County',\n",
    " 465: u'New York County',\n",
    " 466: u'New York County',\n",
    " 467: u'Kings County',\n",
    " 468: u'New York County',\n",
    " 469: u'New York County',\n",
    " 470: u'New York County',\n",
    " 471: u'Kings County',\n",
    " 472: u'New York County',\n",
    " 473: u'New York County',\n",
    " 474: u'New York County',\n",
    " 476: u'New York County',\n",
    " 477: u'New York County',\n",
    " 478: u'New York County',\n",
    " 479: u'New York County',\n",
    " 480: u'New York County',\n",
    " 481: u'Kings County',\n",
    " 482: u'New York County',\n",
    " 483: u'New York County',\n",
    " 484: u'New York County',\n",
    " 485: u'New York County',\n",
    " 486: u'New York County',\n",
    " 487: u'New York County',\n",
    " 490: u'New York County',\n",
    " 491: u'New York County',\n",
    " 492: u'New York County',\n",
    " 494: u'New York County',\n",
    " 495: u'New York County',\n",
    " 496: u'New York County',\n",
    " 497: u'New York County',\n",
    " 498: u'New York County',\n",
    " 499: u'New York County',\n",
    " 500: u'New York County',\n",
    " 501: u'New York County',\n",
    " 502: u'New York County',\n",
    " 503: u'New York County',\n",
    " 504: u'New York County',\n",
    " 505: u'New York County',\n",
    " 507: u'New York County',\n",
    " 508: u'New York County',\n",
    " 509: u'New York County',\n",
    " 513: u'New York County',\n",
    " 514: u'New York County',\n",
    " 515: u'New York County',\n",
    " 516: u'New York County',\n",
    " 517: u'New York County',\n",
    " 518: u'New York County',\n",
    " 519: u'New York County',\n",
    " 520: u'New York County',\n",
    " 522: u'New York County',\n",
    " 523: u'New York County',\n",
    " 524: u'New York County',\n",
    " 525: u'New York County',\n",
    " 526: u'New York County',\n",
    " 527: u'New York County',\n",
    " 528: u'New York County',\n",
    " 529: u'New York County',\n",
    " 530: u'New York County',\n",
    " 531: u'New York County',\n",
    " 532: u'Kings County',\n",
    " 533: u'New York County',\n",
    " 534: u'New York County',\n",
    " 536: u'New York County',\n",
    " 537: u'New York County',\n",
    " 539: u'Kings County',\n",
    " 540: u'New York County',\n",
    " 545: u'New York County',\n",
    " 546: u'New York County',\n",
    " 2000: u'Kings County',\n",
    " 2001: u'Kings County',\n",
    " 2002: u'Kings County',\n",
    " 2003: u'New York County',\n",
    " 2005: u'Kings County',\n",
    " 2006: u'New York County',\n",
    " 2008: u'New York County',\n",
    " 2009: u'New York County',\n",
    " 2010: u'New York County',\n",
    " 2012: u'New York County',\n",
    " 2021: u'New York County',\n",
    " 2022: u'New York County',\n",
    " 2023: u'New York County',\n",
    " 3002: u'New York County',\n",
    " 3016: u'Kings County',\n",
    " 3041: u'Kings County',\n",
    " 3042: u'Kings County',\n",
    " 3043: u'Kings County',\n",
    " 3044: u'Kings County',\n",
    " 3046: u'Kings County',\n",
    " 3047: u'Kings County',\n",
    " 3048: u'Kings County',\n",
    " 3049: u'Kings County',\n",
    " 3050: u'Kings County',\n",
    " 3052: u'Kings County',\n",
    " 3053: u'Kings County',\n",
    " 3054: u'Kings County',\n",
    " 3055: u'Kings County',\n",
    " 3056: u'Kings County',\n",
    " 3057: u'Kings County',\n",
    " 3058: u'Kings County',\n",
    " 3059: u'Kings County',\n",
    " 3060: u'Kings County',\n",
    " 3061: u'Kings County',\n",
    " 3062: u'Kings County',\n",
    " 3063: u'Kings County',\n",
    " 3064: u'Kings County',\n",
    " 3065: u'Kings County',\n",
    " 3066: u'Kings County',\n",
    " 3067: u'Kings County',\n",
    " 3068: u'Kings County',\n",
    " 3069: u'Kings County',\n",
    " 3070: u'Kings County',\n",
    " 3071: u'Kings County',\n",
    " 3072: u'Kings County',\n",
    " 3073: u'Kings County',\n",
    " 3074: u'Kings County',\n",
    " 3075: u'Kings County',\n",
    " 3076: u'Kings County',\n",
    " 3077: u'Kings County',\n",
    " 3078: u'Kings County',\n",
    " 3080: u'Kings County',\n",
    " 3081: u'Kings County',\n",
    " 3082: u'Kings County',\n",
    " 3083: u'Kings County',\n",
    " 3085: u'Kings County',\n",
    " 3086: u'Kings County',\n",
    " 3087: u'Kings County',\n",
    " 3088: u'Kings County',\n",
    " 3090: u'Kings County',\n",
    " 3091: u'Kings County',\n",
    " 3092: u'Kings County',\n",
    " 3093: u'Kings County',\n",
    " 3094: u'Kings County',\n",
    " 3095: u'Kings County',\n",
    " 3096: u'Kings County',\n",
    " 3100: u'Kings County',\n",
    " 3101: u'Kings County',\n",
    " 3102: u'Kings County',\n",
    " 3103: u'Kings County',\n",
    " 3105: u'Kings County',\n",
    " 3106: u'Kings County',\n",
    " 3107: u'Kings County',\n",
    " 3108: u'Kings County',\n",
    " 3109: u'Kings County',\n",
    " 3110: u'Kings County',\n",
    " 3112: u'Kings County',\n",
    " 3113: u'Kings County',\n",
    " 3115: u'Kings County',\n",
    " 3116: u'Kings County',\n",
    " 3117: u'Kings County',\n",
    " 3118: u'Kings County',\n",
    " 3119: u'Queens County',\n",
    " 3120: u'Queens County',\n",
    " 3121: u'Queens County',\n",
    " 3122: u'Queens County',\n",
    " 3123: u'Queens County',\n",
    " 3124: u'Queens County',\n",
    " 3125: u'Queens County',\n",
    " 3126: u'Queens County',\n",
    " 3127: u'Queens County',\n",
    " 3128: u'Queens County',\n",
    " 3129: u'Queens County',\n",
    " 3130: u'Queens County',\n",
    " 3131: u'New York County',\n",
    " 3132: u'New York County',\n",
    " 3134: u'New York County',\n",
    " 3135: u'New York County',\n",
    " 3136: u'New York County',\n",
    " 3137: u'New York County',\n",
    " 3139: u'New York County',\n",
    " 3140: u'New York County',\n",
    " 3141: u'New York County',\n",
    " 3142: u'New York County',\n",
    " 3143: u'New York County',\n",
    " 3144: u'New York County',\n",
    " 3145: u'New York County',\n",
    " 3146: u'New York County',\n",
    " 3147: u'New York County',\n",
    " 3148: u'New York County',\n",
    " 3150: u'New York County',\n",
    " 3151: u'New York County',\n",
    " 3152: u'New York County',\n",
    " 3155: u'New York County',\n",
    " 3156: u'New York County',\n",
    " 3157: u'New York County',\n",
    " 3158: u'New York County',\n",
    " 3159: u'New York County',\n",
    " 3160: u'New York County',\n",
    " 3161: u'New York County',\n",
    " 3162: u'New York County',\n",
    " 3163: u'New York County',\n",
    " 3164: u'Manhattan',\n",
    " 3165: u'New York County',\n",
    " 3166: u'New York County',\n",
    " 3167: u'New York County',\n",
    " 3168: u'New York County',\n",
    " 3169: u'New York County',\n",
    " 3170: u'New York County',\n",
    " 3171: u'New York County',\n",
    " 3172: u'New York County',\n",
    " 3173: u'New York County',\n",
    " 3175: u'New York County',\n",
    " 3177: u'New York County',\n",
    " 3178: u'New York County',\n",
    " 3179: u'Kings County',\n",
    " 3180: u'Kings County',\n",
    " 3182: u'New York County',\n",
    " 3183: u'Hudson County',\n",
    " 3184: u'Hudson County',\n",
    " 3185: u'Hudson County',\n",
    " 3186: u'Hudson County',\n",
    " 3187: u'Hudson County',\n",
    " 3188: u'Hudson County',\n",
    " 3189: u'Hudson County',\n",
    " 3190: u'Hudson County',\n",
    " 3191: u'Hudson County',\n",
    " 3192: u'Hudson County',\n",
    " 3193: u'Hudson County',\n",
    " 3194: u'Hudson County',\n",
    " 3195: u'Hudson County',\n",
    " 3196: u'Hudson County',\n",
    " 3198: u'Hudson County',\n",
    " 3199: u'Hudson County',\n",
    " 3200: u'Hudson County',\n",
    " 3201: u'Hudson County',\n",
    " 3202: u'Hudson County',\n",
    " 3203: u'Hudson County',\n",
    " 3205: u'Hudson County',\n",
    " 3206: u'Hudson County',\n",
    " 3207: u'Hudson County',\n",
    " 3209: u'Hudson County',\n",
    " 3210: u'Hudson County',\n",
    " 3211: u'Hudson County',\n",
    " 3212: u'Hudson County',\n",
    " 3213: u'Hudson County',\n",
    " 3214: u'Hudson County',\n",
    " 3216: u'Hudson County',\n",
    " 3217: u'Hudson County',\n",
    " 3220: u'Hudson County',\n",
    " 3221: u'Queens County',\n",
    " 3223: u'New York County',\n",
    " 3224: u'New York County',\n",
    " 3225: u'Hudson County',\n",
    " 3226: u'New York County',\n",
    " 3231: u'New York County',\n",
    " 3232: u'Kings County',\n",
    " 3233: u'New York County',\n",
    " 3235: u'New York County',\n",
    " 3236: u'New York County',\n",
    " 3238: u'New York County',\n",
    " 3241: u'Kings County',\n",
    " 3242: u'Kings County',\n",
    " 3243: u'New York County',\n",
    " 3244: u'New York County',\n",
    " 3249: u'Kings County',\n",
    " 3254: u'New York County',\n",
    " 3255: u'New York County',\n",
    " 3256: u'New York County',\n",
    " 3258: u'New York County',\n",
    " 3259: u'New York County',\n",
    " 3260: u'New York County',\n",
    " 3263: u'New York County',\n",
    " 3267: u'Hudson County',\n",
    " 3268: u'Hudson County',\n",
    " 3269: u'Hudson County',\n",
    " 3270: u'Hudson County',\n",
    " 3271: u'Hudson County',\n",
    " 3272: u'Hudson County',\n",
    " 3273: u'Hudson County',\n",
    " 3274: u'Hudson County',\n",
    " 3275: u'Hudson County',\n",
    " 3276: u'Hudson County',\n",
    " 3277: u'Hudson County',\n",
    " 3278: u'Hudson County',\n",
    " 3279: u'Hudson County',\n",
    " 3280: u'Hudson County',\n",
    " 3281: u'Hudson County',\n",
    " 3282: u'New York County',\n",
    " 3283: u'New York County',\n",
    " 3284: u'New York County',\n",
    " 3285: u'New York County',\n",
    " 3286: u'New York County',\n",
    " 3288: u'New York County',\n",
    " 3289: u'New York County',\n",
    " 3290: u'New York County',\n",
    " 3292: u'New York County',\n",
    " 3293: u'New York County',\n",
    " 3294: u'New York County',\n",
    " 3295: u'New York County',\n",
    " 3296: u'New York County',\n",
    " 3297: u'Kings County',\n",
    " 3298: u'Kings County',\n",
    " 3300: u'Kings County',\n",
    " 3301: u'Manhattan',\n",
    " 3302: u'New York County',\n",
    " 3303: u'Kings County',\n",
    " 3304: u'Kings County',\n",
    " 3305: u'New York County',\n",
    " 3306: u'Kings County',\n",
    " 3307: u'New York County',\n",
    " 3308: u'Kings County',\n",
    " 3309: u'New York County',\n",
    " 3310: u'Kings County',\n",
    " 3311: u'Kings County',\n",
    " 3312: u'New York County',\n",
    " 3313: u'Kings County',\n",
    " 3314: u'New York County',\n",
    " 3315: u'Kings County',\n",
    " 3316: u'New York County',\n",
    " 3317: u'Kings County',\n",
    " 3318: u'New York County',\n",
    " 3319: u'Kings County',\n",
    " 3320: u'New York County',\n",
    " 3321: u'Kings County',\n",
    " 3322: u'Kings County',\n",
    " 3323: u'New York County',\n",
    " 3324: u'Kings County',\n",
    " 3325: u'New York County',\n",
    " 3326: u'Kings County',\n",
    " 3327: u'New York County',\n",
    " 3328: u'New York County',\n",
    " 3329: u'Kings County',\n",
    " 3330: u'Kings County',\n",
    " 3331: u'New York County',\n",
    " 3332: u'Kings County',\n",
    " 3333: u'Kings County',\n",
    " 3335: u'Kings County',\n",
    " 3336: u'New York County',\n",
    " 3337: u'Kings County',\n",
    " 3338: u'New York County',\n",
    " 3339: u'Kings County',\n",
    " 3340: u'Kings County',\n",
    " 3341: u'New York County',\n",
    " 3342: u'Kings County',\n",
    " 3343: u'New York County',\n",
    " 3344: u'Kings County',\n",
    " 3345: u'New York County',\n",
    " 3346: u'Kings County',\n",
    " 3347: u'Kings County',\n",
    " 3348: u'Kings County',\n",
    " 3349: u'Kings County',\n",
    " 3350: u'New York County',\n",
    " 3351: u'New York County',\n",
    " 3352: u'Kings County',\n",
    " 3353: u'Kings County',\n",
    " 3354: u'Kings County',\n",
    " 3355: u'New York County',\n",
    " 3356: u'New York County',\n",
    " 3357: u'New York County',\n",
    " 3358: u'Kings County',\n",
    " 3359: u'New York County',\n",
    " 3360: u'New York County',\n",
    " 3361: u'Kings County',\n",
    " 3362: u'New York County',\n",
    " 3363: u'New York County',\n",
    " 3364: u'Kings County',\n",
    " 3365: u'Kings County',\n",
    " 3366: u'New York County',\n",
    " 3367: u'New York County',\n",
    " 3368: u'Kings County',\n",
    " 3369: u'New York County',\n",
    " 3370: u'New York County',\n",
    " 3371: u'Kings County',\n",
    " 3372: u'New York County',\n",
    " 3373: u'Kings County',\n",
    " 3374: u'New York County',\n",
    " 3375: u'New York County',\n",
    " 3376: u'New York County',\n",
    " 3377: u'Kings County',\n",
    " 3378: u'New York County',\n",
    " 3379: u'New York County',\n",
    " 3381: u'Kings County',\n",
    " 3382: u'Kings County',\n",
    " 3383: u'New York County',\n",
    " 3384: u'Kings County',\n",
    " 3386: u'Kings County',\n",
    " 3387: u'New York County',\n",
    " 3388: u'Kings County',\n",
    " 3389: u'Kings County',\n",
    " 3390: u'New York County',\n",
    " 3391: u'New York County',\n",
    " 3392: u'Kings County',\n",
    " 3393: u'Kings County',\n",
    " 3394: u'Kings County',\n",
    " 3395: u'Kings County',\n",
    " 3396: u'Kings County',\n",
    " 3397: u'Kings County',\n",
    " 3398: u'Kings County',\n",
    " 3399: u'Kings County',\n",
    " 3400: u'New York County',\n",
    " 3401: u'Kings County',\n",
    " 3402: u'Kings County',\n",
    " 3403: u'Kings County',\n",
    " 3404: u'Kings County',\n",
    " 3405: u'Kings County',\n",
    " 3407: u'Kings County',\n",
    " 3408: u'Kings County',\n",
    " 3409: u'Kings County',\n",
    " 3410: u'Kings County',\n",
    " 3411: u'Kings County',\n",
    " 3412: u'Kings County',\n",
    " 3413: u'Kings County',\n",
    " 3414: u'Kings County',\n",
    " 3415: u'Kings County',\n",
    " 3416: u'Kings County',\n",
    " 3417: u'Kings County',\n",
    " 3418: u'Kings County',\n",
    " 3419: u'Kings County',\n",
    " 3420: u'Kings County',\n",
    " 3421: u'Kings County',\n",
    " 3422: u'Kings County',\n",
    " 3423: u'Kings County',\n",
    " 3424: u'New York County',\n",
    " 3425: u'New York County',\n",
    " 3427: u'New York County',\n",
    " 3428: u'New York County',\n",
    " 3429: u'Kings County',\n",
    " 3430: u'Kings County',\n",
    " 3431: u'New York County',\n",
    " 3434: u'New York County',\n",
    " 3435: u'New York County',\n",
    " 3436: u'New York County',\n",
    " 3437: u'New York County',\n",
    " 3438: u'New York County',\n",
    " 3440: u'Kings County',\n",
    " 3443: u'New York County',\n",
    " 3447: u'New York County',\n",
    " 3449: u'Kings County',\n",
    " 3452: u'Kings County',\n",
    " 3453: u'Kings County',\n",
    " 3454: u'Kings County',\n",
    " 3455: u'Kings County',\n",
    " 3456: u'Kings County',\n",
    " 3457: u'New York County',\n",
    " 3458: u'New York County',\n",
    " 3459: u'New York County',\n",
    " 3461: u'New York County',\n",
    " 3462: u'New York County',\n",
    " 3463: u'New York County',\n",
    " 3466: u'New York County',\n",
    " 3467: u'New York County',\n",
    " 3469: u'Kings County',\n",
    " 3472: u'New York County',\n",
    " 3474: u'New York County',\n",
    " 3476: u'Kings County',\n",
    " 3477: u'Kings County',\n",
    " 3478: u'Kings County',\n",
    " 3479: u'New York County',\n",
    " 3481: u'Hudson County',\n",
    " 3486: u'Kings County',\n",
    " 3489: u'New York County',\n",
    " 3490: u'New York County',\n",
    " 3491: u'New York County',\n",
    " 3492: u'New York County',\n",
    " 3493: u'New York County',\n",
    " 3494: u'New York County',\n",
    " 3495: u'New York County',\n",
    " 3496: u'New York County',\n",
    " 3497: u'New York County',\n",
    " 3498: u'New York County',\n",
    " 3499: u'New York County',\n",
    " 3500: u'New York County',\n",
    " 3501: u'New York County',\n",
    " 3502: u'New York County',\n",
    " 3503: u'New York County',\n",
    " 3504: u'New York County',\n",
    " 3505: u'New York County',\n",
    " 3506: u'New York County',\n",
    " 3507: u'New York County',\n",
    " 3508: u'New York County',\n",
    " 3509: u'New York County',\n",
    " 3510: u'New York County',\n",
    " 3511: u'Manhattan',\n",
    " 3512: u'Queens County',\n",
    " 3513: u'Queens County',\n",
    " 3514: u'Queens County',\n",
    " 3515: u'Queens County',\n",
    " 3516: u'Queens County',\n",
    " 3517: u'Queens County',\n",
    " 3518: u'New York County',\n",
    " 3519: u'Queens County',\n",
    " 3520: u'New York County',\n",
    " 3521: u'New York County',\n",
    " 3522: u'Queens County',\n",
    " 3523: u'Queens County',\n",
    " 3524: u'Queens County',\n",
    " 3525: u'Queens County',\n",
    " 3526: u'Queens County',\n",
    " 3527: u'New York County',\n",
    " 3528: u'Queens County',\n",
    " 3529: u'New York County',\n",
    " 3530: u'Queens County',\n",
    " 3531: u'New York County',\n",
    " 3532: u'Queens County',\n",
    " 3533: u'New York County',\n",
    " 3534: u'New York County',\n",
    " 3535: u'New York County',\n",
    " 3536: u'New York County',\n",
    " 3537: u'Kings County',\n",
    " 3538: u'New York County',\n",
    " 3539: u'New York County',\n",
    " 3540: u'New York County',\n",
    " 3541: u'New York County',\n",
    " 3542: u'New York County',\n",
    " 3543: u'New York County',\n",
    " 3544: u'Kings County',\n",
    " 3545: u'New York County',\n",
    " 3546: u'Kings County',\n",
    " 3547: u'New York County',\n",
    " 3548: u'Kings County',\n",
    " 3549: u'Kings County',\n",
    " 3550: u'New York County',\n",
    " 3551: u'New York County',\n",
    " 3552: u'New York County',\n",
    " 3553: u'New York County',\n",
    " 3554: u'Queens County',\n",
    " 3555: u'Queens County',\n",
    " 3556: u'Queens County',\n",
    " 3557: u'Queens County',\n",
    " 3558: u'Kings County',\n",
    " 3559: u'Queens County',\n",
    " 3560: u'Queens County',\n",
    " 3561: u'Queens County',\n",
    " 3562: u'Kings County',\n",
    " 3563: u'Queens County',\n",
    " 3564: u'Queens County',\n",
    " 3565: u'Queens County',\n",
    " 3566: u'Queens County',\n",
    " 3567: u'Queens County',\n",
    " 3568: u'Queens County',\n",
    " 3569: u'Kings County',\n",
    " 3570: u'Queens County',\n",
    " 3571: u'Kings County',\n",
    " 3572: u'Queens County',\n",
    " 3573: u'Queens County',\n",
    " 3574: u'Kings County',\n",
    " 3575: u'Queens County',\n",
    " 3576: u'Kings County',\n",
    " 3577: u'Queens County',\n",
    " 3578: u'Kings County',\n",
    " 3579: u'Kings County',\n",
    " 3580: u'Kings County',\n",
    " 3581: u'Kings County',\n",
    " 3582: u'Kings County',\n",
    " 3583: u'Kings County',\n",
    " 3584: u'Kings County',\n",
    " 3585: u'Kings County',\n",
    " 3586: u'Queens County',\n",
    " 3587: u'Kings County',\n",
    " 3588: u'Queens County',\n",
    " 3589: u'Queens County',\n",
    " 3590: u'Kings County',\n",
    " 3591: u'Queens County',\n",
    " 3592: u'Queens County',\n",
    " 3593: u'Queens County',\n",
    " 3594: u'Kings County',\n",
    " 3595: u'Queens County',\n",
    " 3596: u'Kings County',\n",
    " 3597: u'Queens County',\n",
    " 3598: u'Queens County',\n",
    " 3599: u'Kings County',\n",
    " 3600: u'Queens County',\n",
    " 3601: u'Kings County',\n",
    " 3602: u'Queens County',\n",
    " 3603: u'Queens County',\n",
    " 3604: u'Kings County',\n",
    " 3605: u'Queens County',\n",
    " 3606: u'Queens County',\n",
    " 3607: u'Queens County',\n",
    " 3608: u'Queens County',\n",
    " 3609: u'Queens County',\n",
    " 3610: u'Queens County',\n",
    " 3611: u'Queens County',\n",
    " 3612: u'Queens County',\n",
    " 3613: u'Queens County',\n",
    " 3614: u'Queens County',\n",
    " 3615: u'Queens County',\n",
    " 3616: u'Queens County',\n",
    " 3617: u'Queens County',\n",
    " 3618: u'Queens County',\n",
    " 3619: u'Queens County',\n",
    " 3620: u'Queens County',\n",
    " 3621: u'Queens County',\n",
    " 3622: u'New York County',\n",
    " 3623: u'New York County',\n",
    " 3624: u'Queens County',\n",
    " 3625: u'Queens County',\n",
    " 3626: u'Queens County',\n",
    " 3627: u'Queens County',\n",
    " 3628: u'New York County',\n",
    " 3629: u'New York County',\n",
    " 3630: u'New York County',\n",
    " 3631: u'Kings County',\n",
    " 3632: u'New York County',\n",
    " 3635: u'New York County',\n",
    " 3637: u'Kings County',\n",
    " 3638: u'Hudson County',\n",
    " 3639: u'Hudson County',\n",
    " 3640: u'Hudson County',\n",
    " 3641: u'New York County',\n",
    " 3642: u'New York County'}"
   ]
  },
  {
   "cell_type": "code",
   "execution_count": 783,
   "metadata": {
    "collapsed": false
   },
   "outputs": [
    {
     "data": {
      "text/plain": [
       "0       Kings County\n",
       "1    New York County\n",
       "2    New York County\n",
       "3    New York County\n",
       "4       Kings County\n",
       "Name: county, dtype: object"
      ]
     },
     "execution_count": 783,
     "metadata": {},
     "output_type": "execute_result"
    }
   ],
   "source": [
    "# Map by dictionary\n",
    "df['county'] = df['start station id'].map(final_dict)\n",
    "df['county'].head()"
   ]
  },
  {
   "cell_type": "code",
   "execution_count": 784,
   "metadata": {
    "collapsed": false
   },
   "outputs": [],
   "source": [
    "# New columns by borough/county\n",
    "df_age['age_manhattan'] = df_age['age'][df_age['county'] == 'New York County']\n",
    "df_age['age_brooklyn'] = df_age['age'][df_age['county'] == 'Kings County']"
   ]
  },
  {
   "cell_type": "code",
   "execution_count": 785,
   "metadata": {
    "collapsed": false
   },
   "outputs": [
    {
     "data": {
      "text/html": [
       "<div>\n",
       "<table border=\"1\" class=\"dataframe\">\n",
       "  <thead>\n",
       "    <tr style=\"text-align: right;\">\n",
       "      <th></th>\n",
       "      <th>tripduration</th>\n",
       "      <th>start station id</th>\n",
       "      <th>start station latitude</th>\n",
       "      <th>start station longitude</th>\n",
       "      <th>end station id</th>\n",
       "      <th>end station latitude</th>\n",
       "      <th>end station longitude</th>\n",
       "      <th>bikeid</th>\n",
       "      <th>birth year</th>\n",
       "      <th>gender</th>\n",
       "      <th>age</th>\n",
       "      <th>hour</th>\n",
       "      <th>duration_day</th>\n",
       "      <th>duration_night</th>\n",
       "      <th>age_manhattan</th>\n",
       "      <th>age_brooklyn</th>\n",
       "    </tr>\n",
       "  </thead>\n",
       "  <tbody>\n",
       "    <tr>\n",
       "      <th>count</th>\n",
       "      <td>3051003.000</td>\n",
       "      <td>3051003.000</td>\n",
       "      <td>3051003.000</td>\n",
       "      <td>3051003.000</td>\n",
       "      <td>3051003.000</td>\n",
       "      <td>3051003.000</td>\n",
       "      <td>3051003.000</td>\n",
       "      <td>3051003.000</td>\n",
       "      <td>2653735.000</td>\n",
       "      <td>3051003.000</td>\n",
       "      <td>2653735.000</td>\n",
       "      <td>3051003.000</td>\n",
       "      <td>2865686.000</td>\n",
       "      <td>185317.000</td>\n",
       "      <td>2120821.000</td>\n",
       "      <td>447931.000</td>\n",
       "    </tr>\n",
       "    <tr>\n",
       "      <th>mean</th>\n",
       "      <td>1071.232</td>\n",
       "      <td>1341.362</td>\n",
       "      <td>40.736</td>\n",
       "      <td>-73.985</td>\n",
       "      <td>1338.781</td>\n",
       "      <td>40.736</td>\n",
       "      <td>-73.985</td>\n",
       "      <td>23190.309</td>\n",
       "      <td>1979.163</td>\n",
       "      <td>1.092</td>\n",
       "      <td>37.837</td>\n",
       "      <td>14.168</td>\n",
       "      <td>1064.421</td>\n",
       "      <td>1176.561</td>\n",
       "      <td>38.178</td>\n",
       "      <td>36.269</td>\n",
       "    </tr>\n",
       "    <tr>\n",
       "      <th>std</th>\n",
       "      <td>18602.419</td>\n",
       "      <td>1335.615</td>\n",
       "      <td>0.028</td>\n",
       "      <td>0.017</td>\n",
       "      <td>1335.518</td>\n",
       "      <td>0.037</td>\n",
       "      <td>0.046</td>\n",
       "      <td>4904.144</td>\n",
       "      <td>11.698</td>\n",
       "      <td>0.592</td>\n",
       "      <td>11.698</td>\n",
       "      <td>4.788</td>\n",
       "      <td>18346.058</td>\n",
       "      <td>22192.690</td>\n",
       "      <td>12.001</td>\n",
       "      <td>10.065</td>\n",
       "    </tr>\n",
       "    <tr>\n",
       "      <th>min</th>\n",
       "      <td>61.000</td>\n",
       "      <td>72.000</td>\n",
       "      <td>40.647</td>\n",
       "      <td>-74.017</td>\n",
       "      <td>72.000</td>\n",
       "      <td>0.000</td>\n",
       "      <td>-74.067</td>\n",
       "      <td>14529.000</td>\n",
       "      <td>1874.000</td>\n",
       "      <td>0.000</td>\n",
       "      <td>16.000</td>\n",
       "      <td>0.000</td>\n",
       "      <td>61.000</td>\n",
       "      <td>61.000</td>\n",
       "      <td>16.000</td>\n",
       "      <td>16.000</td>\n",
       "    </tr>\n",
       "    <tr>\n",
       "      <th>25%</th>\n",
       "      <td>389.000</td>\n",
       "      <td>359.000</td>\n",
       "      <td>40.718</td>\n",
       "      <td>-73.997</td>\n",
       "      <td>359.000</td>\n",
       "      <td>40.718</td>\n",
       "      <td>-73.997</td>\n",
       "      <td>18490.000</td>\n",
       "      <td>nan</td>\n",
       "      <td>1.000</td>\n",
       "      <td>nan</td>\n",
       "      <td>10.000</td>\n",
       "      <td>nan</td>\n",
       "      <td>nan</td>\n",
       "      <td>nan</td>\n",
       "      <td>nan</td>\n",
       "    </tr>\n",
       "    <tr>\n",
       "      <th>50%</th>\n",
       "      <td>664.000</td>\n",
       "      <td>484.000</td>\n",
       "      <td>40.737</td>\n",
       "      <td>-73.988</td>\n",
       "      <td>484.000</td>\n",
       "      <td>40.737</td>\n",
       "      <td>-73.988</td>\n",
       "      <td>25258.000</td>\n",
       "      <td>nan</td>\n",
       "      <td>1.000</td>\n",
       "      <td>nan</td>\n",
       "      <td>15.000</td>\n",
       "      <td>nan</td>\n",
       "      <td>nan</td>\n",
       "      <td>nan</td>\n",
       "      <td>nan</td>\n",
       "    </tr>\n",
       "    <tr>\n",
       "      <th>75%</th>\n",
       "      <td>1166.000</td>\n",
       "      <td>3137.000</td>\n",
       "      <td>40.755</td>\n",
       "      <td>-73.976</td>\n",
       "      <td>3137.000</td>\n",
       "      <td>40.755</td>\n",
       "      <td>-73.976</td>\n",
       "      <td>27631.000</td>\n",
       "      <td>nan</td>\n",
       "      <td>1.000</td>\n",
       "      <td>nan</td>\n",
       "      <td>18.000</td>\n",
       "      <td>nan</td>\n",
       "      <td>nan</td>\n",
       "      <td>nan</td>\n",
       "      <td>nan</td>\n",
       "    </tr>\n",
       "    <tr>\n",
       "      <th>max</th>\n",
       "      <td>9735948.000</td>\n",
       "      <td>3478.000</td>\n",
       "      <td>40.881</td>\n",
       "      <td>-73.897</td>\n",
       "      <td>3478.000</td>\n",
       "      <td>40.881</td>\n",
       "      <td>0.000</td>\n",
       "      <td>30337.000</td>\n",
       "      <td>2001.000</td>\n",
       "      <td>2.000</td>\n",
       "      <td>143.000</td>\n",
       "      <td>23.000</td>\n",
       "      <td>9735948.000</td>\n",
       "      <td>6624130.000</td>\n",
       "      <td>143.000</td>\n",
       "      <td>131.000</td>\n",
       "    </tr>\n",
       "  </tbody>\n",
       "</table>\n",
       "</div>"
      ],
      "text/plain": [
       "       tripduration  start station id  start station latitude  \\\n",
       "count   3051003.000       3051003.000             3051003.000   \n",
       "mean       1071.232          1341.362                  40.736   \n",
       "std       18602.419          1335.615                   0.028   \n",
       "min          61.000            72.000                  40.647   \n",
       "25%         389.000           359.000                  40.718   \n",
       "50%         664.000           484.000                  40.737   \n",
       "75%        1166.000          3137.000                  40.755   \n",
       "max     9735948.000          3478.000                  40.881   \n",
       "\n",
       "       start station longitude  end station id  end station latitude  \\\n",
       "count              3051003.000     3051003.000           3051003.000   \n",
       "mean                   -73.985        1338.781                40.736   \n",
       "std                      0.017        1335.518                 0.037   \n",
       "min                    -74.017          72.000                 0.000   \n",
       "25%                    -73.997         359.000                40.718   \n",
       "50%                    -73.988         484.000                40.737   \n",
       "75%                    -73.976        3137.000                40.755   \n",
       "max                    -73.897        3478.000                40.881   \n",
       "\n",
       "       end station longitude      bikeid  birth year      gender         age  \\\n",
       "count            3051003.000 3051003.000 2653735.000 3051003.000 2653735.000   \n",
       "mean                 -73.985   23190.309    1979.163       1.092      37.837   \n",
       "std                    0.046    4904.144      11.698       0.592      11.698   \n",
       "min                  -74.067   14529.000    1874.000       0.000      16.000   \n",
       "25%                  -73.997   18490.000         nan       1.000         nan   \n",
       "50%                  -73.988   25258.000         nan       1.000         nan   \n",
       "75%                  -73.976   27631.000         nan       1.000         nan   \n",
       "max                    0.000   30337.000    2001.000       2.000     143.000   \n",
       "\n",
       "             hour  duration_day  duration_night  age_manhattan  age_brooklyn  \n",
       "count 3051003.000   2865686.000      185317.000    2120821.000    447931.000  \n",
       "mean       14.168      1064.421        1176.561         38.178        36.269  \n",
       "std         4.788     18346.058       22192.690         12.001        10.065  \n",
       "min         0.000        61.000          61.000         16.000        16.000  \n",
       "25%        10.000           nan             nan            nan           nan  \n",
       "50%        15.000           nan             nan            nan           nan  \n",
       "75%        18.000           nan             nan            nan           nan  \n",
       "max        23.000   9735948.000     6624130.000        143.000       131.000  "
      ]
     },
     "execution_count": 785,
     "metadata": {},
     "output_type": "execute_result"
    }
   ],
   "source": [
    "df_age.describe()"
   ]
  },
  {
   "cell_type": "code",
   "execution_count": 786,
   "metadata": {
    "collapsed": true
   },
   "outputs": [],
   "source": [
    "# drop NaN values\n",
    "df_age['age_manhattan'].dropna(inplace= True)\n",
    "df_day['age_brooklyn'].dropna(inplace= True)"
   ]
  },
  {
   "cell_type": "code",
   "execution_count": 787,
   "metadata": {
    "collapsed": false
   },
   "outputs": [
    {
     "data": {
      "text/plain": [
       "<matplotlib.text.Text at 0x7f184b024190>"
      ]
     },
     "execution_count": 787,
     "metadata": {},
     "output_type": "execute_result"
    },
    {
     "data": {
      "image/png": "[encoded data removed]",
      "text/plain": [
       "<matplotlib.figure.Figure at 0x7f184b2bf950>"
      ]
     },
     "metadata": {},
     "output_type": "display_data"
    },
    {
     "data": {
      "image/png": "[encoded data removed]",
      "text/plain": [
       "<matplotlib.figure.Figure at 0x7f184b2bfe50>"
      ]
     },
     "metadata": {},
     "output_type": "display_data"
    }
   ],
   "source": [
    "#Plot distributions\n",
    "plt.style.use('ggplot')\n",
    "bins = np.arange(0, 100, 5)\n",
    "axM = df_age.age_manhattan.groupby(pd.cut(df_age.age_manhattan, bins)).agg([count_nonzero]).plot(kind='bar', \n",
    "                                                                legend=False, color = 'blue')\n",
    "axM.set_xlabel('Rider age')\n",
    "axM.set_ylabel('Count of Rides')\n",
    "axM.set_title(\"Manhattan riders\")\n",
    "\n",
    "axB = df_age.age_brooklyn.groupby(pd.cut(df_age.age_brooklyn, bins)).agg([count_nonzero]).plot(kind='bar',\n",
    "                                                                legend=False, color = 'green')\n",
    "axB.set_title(\"Brooklyn Riders\");\n",
    "axB.set_xlabel('Rider age')\n",
    "axB.set_ylabel('Count of Rides')"
   ]
  },
  {
   "cell_type": "markdown",
   "metadata": {},
   "source": [
    "<b>Figure 1: Histograms of rides by rider age for Manhattan- vs. Brooklyn-originating trips</b><br>"
   ]
  },
  {
   "cell_type": "code",
   "execution_count": 788,
   "metadata": {
    "collapsed": false
   },
   "outputs": [
    {
     "name": "stdout",
     "output_type": "stream",
     "text": [
      "               count_nonzero\n",
      "age_manhattan               \n",
      "(0, 5]                 0.000\n",
      "(5, 10]                0.000\n",
      "(10, 15]               0.000\n",
      "(15, 20]               0.001\n",
      "(20, 25]               0.029\n",
      "(25, 30]               0.005\n",
      "(30, 35]               0.059\n",
      "(35, 40]               0.091\n",
      "(40, 45]               0.096\n",
      "(45, 50]               0.080\n",
      "(50, 55]               0.053\n",
      "(55, 60]               0.025\n",
      "(60, 65]               0.009\n",
      "(65, 70]               0.003\n",
      "(70, 75]               0.001\n",
      "(75, 80]               0.000\n",
      "(80, 85]               0.000\n",
      "(85, 90]               0.000\n",
      "(90, 95]               0.000\n"
     ]
    }
   ],
   "source": [
    "csM=df_age.age_manhattan.groupby(pd.cut(df_age.age_manhattan, bins)).agg([count_nonzero]).cumsum()\n",
    "\n",
    "csB=df_age.age_brooklyn.groupby(pd.cut(df_age.age_brooklyn, bins)).agg([count_nonzero]).cumsum()\n",
    "\n",
    "print (np.abs(csM / csM.max()-csB / csB.max()))"
   ]
  },
  {
   "cell_type": "code",
   "execution_count": 789,
   "metadata": {
    "collapsed": false
   },
   "outputs": [
    {
     "data": {
      "text/plain": [
       "<matplotlib.legend.Legend at 0x7f18bfac8a90>"
      ]
     },
     "execution_count": 789,
     "metadata": {},
     "output_type": "execute_result"
    },
    {
     "data": {
      "image/png": "[encoded data removed]",
      "text/plain": [
       "<matplotlib.figure.Figure at 0x7f18d1fe5250>"
      ]
     },
     "metadata": {},
     "output_type": "display_data"
    }
   ],
   "source": [
    "pl.plot(bins[:-1] + 5, csB / csB.max(), label = \"Brooklyn\", color = 'green')\n",
    "pl.plot(bins[:-1] + 5, csM / csM.max(), label = \"Manhattan\", color = 'blue')\n",
    "pl.plot(bins[:-1] + 5, np.sqrt(csB / csB.max() - csM / csM.max())**2, 'k-',\n",
    "        label = \"Diff\", color = 'red')\n",
    "pl.xlabel(\"Rider Age\")\n",
    "pl.ylabel(\"Cumulative Distribution\")\n",
    "pl.title(\"Cumulative Distribution by Age and Borough\")\n",
    "pl.legend()"
   ]
  },
  {
   "cell_type": "markdown",
   "metadata": {},
   "source": [
    "<b>Figure 2: Cumulative distribution of rider age, Manhattan vs. Brooklyn</b>"
   ]
  },
  {
   "cell_type": "markdown",
   "metadata": {},
   "source": [
    "<b>Kolmogorov-Smirnov Test</b>"
   ]
  },
  {
   "cell_type": "code",
   "execution_count": 790,
   "metadata": {
    "collapsed": false
   },
   "outputs": [
    {
     "name": "stdout",
     "output_type": "stream",
     "text": [
      "Ks_2sampResult(statistic=0.11135522612506431, pvalue=0.0)\n"
     ]
    }
   ],
   "source": [
    "ks3 = scipy.stats.ks_2samp(df_age.age_manhattan[~np.isnan(df_age.age_manhattan)],\n",
    "                          df_age.age_brooklyn[~np.isnan(df_age.age_brooklyn)])\n",
    "print(ks3)"
   ]
  },
  {
   "cell_type": "code",
   "execution_count": 791,
   "metadata": {
    "collapsed": false
   },
   "outputs": [
    {
     "name": "stdout",
     "output_type": "stream",
     "text": [
      "We reject the null hypothesis.\n",
      "Kolmogorov-Smirnov statistic p-value of 0.0000 is less than my significance level of p = 0.0500.\n",
      "We do not accept that the two sample distributions (Manhattan vs. Brooklyn rides) are significantly the same and were drawn from the same population.\n"
     ]
    }
   ],
   "source": [
    "if ks3[1] <= alpha: # My significance level of p = 0.05\n",
    "    print(\"We reject the null hypothesis.\\n\"\\\n",
    "          + \"Kolmogorov-Smirnov statistic p-value of {:.4f} is less than my significance level of p = {:.4f}.\\n\".format(ks3[1], alpha)\\\n",
    "          + \"We do not accept that the two sample distributions (Manhattan vs. Brooklyn rides) are significantly the same and were drawn from the same population.\")\n",
    "else:\n",
    "        print(\"We do not reject the null hypothesis.\\n\"\\\n",
    "          + \"Kolmogorov-Smirnov statistic p-value of {:.4f} is more than my significance level of p = {:.4f}.\\n\".format(ks3[1], alpha)\\\n",
    "          + \"We accept that the two samples (Manhattan vs. Brooklyn rides) are significantly the same and were drawn from the same population.\")"
   ]
  },
  {
   "cell_type": "markdown",
   "metadata": {},
   "source": [
    "<b>Again, same test for the 1/200th sample of the dataframe</b>"
   ]
  },
  {
   "cell_type": "code",
   "execution_count": 792,
   "metadata": {
    "collapsed": false
   },
   "outputs": [
    {
     "data": {
      "text/html": [
       "<div>\n",
       "<table border=\"1\" class=\"dataframe\">\n",
       "  <thead>\n",
       "    <tr style=\"text-align: right;\">\n",
       "      <th></th>\n",
       "      <th>tripduration</th>\n",
       "      <th>starttime</th>\n",
       "      <th>stoptime</th>\n",
       "      <th>start station id</th>\n",
       "      <th>start station name</th>\n",
       "      <th>start station latitude</th>\n",
       "      <th>start station longitude</th>\n",
       "      <th>end station id</th>\n",
       "      <th>end station name</th>\n",
       "      <th>end station latitude</th>\n",
       "      <th>...</th>\n",
       "      <th>birth year</th>\n",
       "      <th>gender</th>\n",
       "      <th>date</th>\n",
       "      <th>age</th>\n",
       "      <th>hour</th>\n",
       "      <th>duration_day</th>\n",
       "      <th>duration_night</th>\n",
       "      <th>county</th>\n",
       "      <th>age_manhattan</th>\n",
       "      <th>age_brooklyn</th>\n",
       "    </tr>\n",
       "  </thead>\n",
       "  <tbody>\n",
       "    <tr>\n",
       "      <th>2963373</th>\n",
       "      <td>89</td>\n",
       "      <td>2017-07-30 16:36:50</td>\n",
       "      <td>2017-07-30 16:38:19</td>\n",
       "      <td>383</td>\n",
       "      <td>Greenwich Ave &amp; Charles St</td>\n",
       "      <td>40.735</td>\n",
       "      <td>-74.000</td>\n",
       "      <td>383</td>\n",
       "      <td>Greenwich Ave &amp; Charles St</td>\n",
       "      <td>40.735</td>\n",
       "      <td>...</td>\n",
       "      <td>1990.000</td>\n",
       "      <td>2</td>\n",
       "      <td>2017-07-30 16:36:50</td>\n",
       "      <td>27.000</td>\n",
       "      <td>16</td>\n",
       "      <td>89.000</td>\n",
       "      <td>nan</td>\n",
       "      <td>New York County</td>\n",
       "      <td>27.000</td>\n",
       "      <td>nan</td>\n",
       "    </tr>\n",
       "    <tr>\n",
       "      <th>2688950</th>\n",
       "      <td>456</td>\n",
       "      <td>2017-07-26 09:06:30</td>\n",
       "      <td>2017-07-26 09:14:06</td>\n",
       "      <td>3365</td>\n",
       "      <td>3 St &amp; 7 Ave</td>\n",
       "      <td>40.670</td>\n",
       "      <td>-73.978</td>\n",
       "      <td>3423</td>\n",
       "      <td>West Drive &amp; Prospect Park West</td>\n",
       "      <td>40.661</td>\n",
       "      <td>...</td>\n",
       "      <td>1980.000</td>\n",
       "      <td>2</td>\n",
       "      <td>2017-07-26 09:06:30</td>\n",
       "      <td>37.000</td>\n",
       "      <td>9</td>\n",
       "      <td>456.000</td>\n",
       "      <td>nan</td>\n",
       "      <td>Kings County</td>\n",
       "      <td>nan</td>\n",
       "      <td>37.000</td>\n",
       "    </tr>\n",
       "  </tbody>\n",
       "</table>\n",
       "<p>2 rows × 23 columns</p>\n",
       "</div>"
      ],
      "text/plain": [
       "         tripduration            starttime             stoptime  \\\n",
       "2963373            89  2017-07-30 16:36:50  2017-07-30 16:38:19   \n",
       "2688950           456  2017-07-26 09:06:30  2017-07-26 09:14:06   \n",
       "\n",
       "         start station id          start station name  start station latitude  \\\n",
       "2963373               383  Greenwich Ave & Charles St                  40.735   \n",
       "2688950              3365                3 St & 7 Ave                  40.670   \n",
       "\n",
       "         start station longitude  end station id  \\\n",
       "2963373                  -74.000             383   \n",
       "2688950                  -73.978            3423   \n",
       "\n",
       "                        end station name  end station latitude      ...       \\\n",
       "2963373       Greenwich Ave & Charles St                40.735      ...        \n",
       "2688950  West Drive & Prospect Park West                40.661      ...        \n",
       "\n",
       "         birth year  gender                date    age  hour duration_day  \\\n",
       "2963373    1990.000       2 2017-07-30 16:36:50 27.000    16       89.000   \n",
       "2688950    1980.000       2 2017-07-26 09:06:30 37.000     9      456.000   \n",
       "\n",
       "         duration_night           county  age_manhattan  age_brooklyn  \n",
       "2963373             nan  New York County         27.000           nan  \n",
       "2688950             nan     Kings County            nan        37.000  \n",
       "\n",
       "[2 rows x 23 columns]"
      ]
     },
     "execution_count": 792,
     "metadata": {},
     "output_type": "execute_result"
    }
   ],
   "source": [
    "# Sample data frame to 1/200th\n",
    "df_age_sample = df_age.sample(len(df_age)/200)\n",
    "df_age_sample.head(2)"
   ]
  },
  {
   "cell_type": "code",
   "execution_count": 793,
   "metadata": {
    "collapsed": false
   },
   "outputs": [
    {
     "name": "stdout",
     "output_type": "stream",
     "text": [
      "Ks_2sampResult(statistic=0.12904627102844993, pvalue=1.5684538014288085e-28)\n"
     ]
    }
   ],
   "source": [
    "ks4 = scipy.stats.ks_2samp(df_age_sample.age_manhattan[~np.isnan(df_age_sample.age_manhattan)],\n",
    "                          df_age_sample.age_brooklyn[~np.isnan(df_age_sample.age_brooklyn)])\n",
    "print(ks4)"
   ]
  },
  {
   "cell_type": "code",
   "execution_count": 794,
   "metadata": {
    "collapsed": false,
    "scrolled": true
   },
   "outputs": [
    {
     "name": "stdout",
     "output_type": "stream",
     "text": [
      "We reject the null hypothesis.\n",
      "Kolmogorov-Smirnov statistic p-value of 0.0000 is less than my significance level of p = 0.0500.\n",
      "We do not accept that the two sample distributions (Manhattan vs. Brooklyn rides) are significantly the same and were drawn from the same population.\n"
     ]
    }
   ],
   "source": [
    "if ks4[1] <= alpha: # My significance level of p = 0.05\n",
    "    print(\"We reject the null hypothesis.\\n\"\\\n",
    "          + \"Kolmogorov-Smirnov statistic p-value of {:.4f} is less than my significance level of p = {:.4f}.\\n\".format(ks4[1], alpha)\\\n",
    "          + \"We do not accept that the two sample distributions (Manhattan vs. Brooklyn rides) are significantly the same and were drawn from the same population.\")\n",
    "else:\n",
    "        print(\"We do not reject the null hypothesis.\\n\"\\\n",
    "          + \"Kolmogorov-Smirnov statistic p-value of {:.4f} is more than my significance level of p = {:.4f}.\\n\".format(ks4[1], alpha)\\\n",
    "          + \"We accept that the two samples (Manhattan vs. Brooklyn rides) are significantly the same and were drawn from the same population.\")"
   ]
  },
  {
   "cell_type": "markdown",
   "metadata": {},
   "source": [
    "<b>Pearson's Correlation Test</b>"
   ]
  },
  {
   "cell_type": "markdown",
   "metadata": {},
   "source": [
    "<b>Null hypothesis</b>: The samples of Manhattan rider ages and Brooklyn rider ages come from uncorrelated data sets.<br>\n",
    "Testing at significance level (alpha) of 0.05."
   ]
  },
  {
   "cell_type": "code",
   "execution_count": 795,
   "metadata": {
    "collapsed": true
   },
   "outputs": [],
   "source": [
    "# 1/200th samples from data frames, taken in as numpy arrays\n",
    "np.random.seed(999)\n",
    "man_array = np.random.choice(df_age.age_manhattan[~np.isnan(df_age.age_manhattan)], len(df_age)/200, replace=False)\n",
    "brk_array = np.random.choice(df_age.age_brooklyn[~np.isnan(df_age.age_brooklyn)], len(df_age)/200, replace=False)"
   ]
  },
  {
   "cell_type": "code",
   "execution_count": 796,
   "metadata": {
    "collapsed": true
   },
   "outputs": [],
   "source": [
    "# Sort arrays for Pearson's correlation test\n",
    "man_array = np.sort(man_array)\n",
    "brk_array = np.sort(brk_array)"
   ]
  },
  {
   "cell_type": "code",
   "execution_count": 797,
   "metadata": {
    "collapsed": false
   },
   "outputs": [
    {
     "name": "stdout",
     "output_type": "stream",
     "text": [
      "(0.99150751339117993, 0.0)\n"
     ]
    }
   ],
   "source": [
    "# Get results\n",
    "r_score2 = scipy.stats.pearsonr(man_array, brk_array)\n",
    "print(r_score2)"
   ]
  },
  {
   "cell_type": "code",
   "execution_count": 798,
   "metadata": {
    "collapsed": false
   },
   "outputs": [
    {
     "name": "stdout",
     "output_type": "stream",
     "text": [
      "We reject the null hypothesis.\n",
      "Pearson correlation coefficent p-value of 0.0000 is less than my significance level of p = 0.0500.\n",
      "We do not accept that the two data sets are uncorrelated.\n"
     ]
    }
   ],
   "source": [
    "if r_score2[1] <= alpha: # My significance level of p = 0.05\n",
    "    print(\"We reject the null hypothesis.\\n\"\\\n",
    "          + \"Pearson correlation coefficent p-value of {:.4f} is less than my significance level of p = {:.4f}.\\n\".format(r_score2[1], alpha)\\\n",
    "          + \"We do not accept that the two data sets are uncorrelated.\")\n",
    "else:\n",
    "        print(\"We do not reject the null hypothesis.\\n\"\\\n",
    "          + \"Pearson correlation coefficent p-value of {:.4f} is more than my significance level of p = {:.4f}.\\n\".format(r_score2[1], alpha)\\\n",
    "          + \"We accept that the two data sets are uncorrelated\")"
   ]
  },
  {
   "cell_type": "code",
   "execution_count": 799,
   "metadata": {
    "collapsed": false
   },
   "outputs": [
    {
     "data": {
      "text/plain": [
       "<matplotlib.text.Text at 0x7f18bfa58090>"
      ]
     },
     "execution_count": 799,
     "metadata": {},
     "output_type": "execute_result"
    },
    {
     "data": {
      "image/png": "[encoded data removed]",
      "text/plain": [
       "<matplotlib.figure.Figure at 0x7f184abbaf10>"
      ]
     },
     "metadata": {},
     "output_type": "display_data"
    }
   ],
   "source": [
    "plt.scatter(man_array, brk_array)\n",
    "plt.title('Manhattan vs. Brooklyn Rider Age Correlation')\n",
    "plt.xlabel('Manhattan Rider Age')\n",
    "plt.ylabel('Brooklyn Rider Age Duration')"
   ]
  },
  {
   "cell_type": "markdown",
   "metadata": {},
   "source": [
    "<b>Spearman's Test for Correlation</b>"
   ]
  },
  {
   "cell_type": "markdown",
   "metadata": {},
   "source": [
    "<b>Null hypothesis</b>: The samples of Manhattan rider ages and Brooklyn rider ages come from uncorrelated data sets.<br>\n",
    "Testing at significance level (alpha) of 0.05."
   ]
  },
  {
   "cell_type": "code",
   "execution_count": 800,
   "metadata": {
    "collapsed": false
   },
   "outputs": [
    {
     "name": "stdout",
     "output_type": "stream",
     "text": [
      "SpearmanrResult(correlation=0.99874703216022753, pvalue=0.0)\n"
     ]
    }
   ],
   "source": [
    "sp2 = scipy.stats.spearmanr(man_array, brk_array)\n",
    "print(sp2)"
   ]
  },
  {
   "cell_type": "code",
   "execution_count": 801,
   "metadata": {
    "collapsed": false
   },
   "outputs": [
    {
     "name": "stdout",
     "output_type": "stream",
     "text": [
      "We reject the null hypothesis.\n",
      "Spearman correlation p-value of 0.0000 is less than my significance level of p = 0.0500.\n",
      "We do not accept that the two data sets are uncorrelated.\n"
     ]
    }
   ],
   "source": [
    "if sp2[1] <= alpha: # My significance level of p = 0.05\n",
    "    print(\"We reject the null hypothesis.\\n\"\\\n",
    "          + \"Spearman correlation p-value of {:.4f} is less than my significance level of p = {:.4f}.\\n\".format(sp2[1], alpha)\\\n",
    "          + \"We do not accept that the two data sets are uncorrelated.\")\n",
    "else:\n",
    "        print(\"We do not reject the null hypothesis.\\n\"\\\n",
    "          + \"Spearman correlation p-value of {:.4f} is more than my significance level of p = {:.4f}.\\n\".format(sp2[1], alpha)\\\n",
    "          + \"We accept that the two data sets are uncorrelated\")"
   ]
  },
  {
   "cell_type": "code",
   "execution_count": null,
   "metadata": {
    "collapsed": true
   },
   "outputs": [],
   "source": []
  }
 ],
 "metadata": {
  "kernelspec": {
   "display_name": "PUI2016_Python2",
   "language": "python",
   "name": "pui2016_python2"
  },
  "language_info": {
   "codemirror_mode": {
    "name": "ipython",
    "version": 2
   },
   "file_extension": ".py",
   "mimetype": "text/x-python",
   "name": "python",
   "nbconvert_exporter": "python",
   "pygments_lexer": "ipython2",
   "version": "2.7.12"
  }
 },
 "nbformat": 4,
 "nbformat_minor": 0
}
